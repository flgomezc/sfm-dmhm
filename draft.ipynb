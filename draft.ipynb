{
 "metadata": {
  "name": "",
  "signature": "sha256:62df7d9a96370c50b11f46a6cd061fe45ad9ee80f09683cd3b7f931089c4fa94"
 },
 "nbformat": 3,
 "nbformat_minor": 0,
 "worksheets": [
  {
   "cells": [
    {
     "cell_type": "markdown",
     "metadata": {},
     "source": [
      "#Dark Matter and Visible Matter\n",
      "\n",
      "####F.L. G\u00f3mez-Cort\u00e9s\n",
      "####Physics Department, Universidad de los Andes\n",
      "\n",
      "\n",
      "The objetive of this paper is to connect Dark Matter (**DM**) with baryonic/visible matter at high redshift."
     ]
    },
    {
     "cell_type": "markdown",
     "metadata": {},
     "source": [
      "##Halo Mass Function (HMF)\n",
      "\n",
      "Using the DMH catalog is created the HMF\n",
      "\n",
      "-- Here comes the graph --\n",
      "\n",
      "##Cosmic variance\n",
      "\n",
      "Studing the HMF in smaller boxes \n",
      "\n",
      "--- Another graph ---"
     ]
    },
    {
     "cell_type": "markdown",
     "metadata": {},
     "source": [
      "##Relationship between Galaxy Luminostity Function (GLF) and Dark Matter Halo (DMH) Mass\n",
      "\n",
      "In one hand we have observational results: the GLF for star-forming galaxies at high redshift (z=5.9)[1] expressed in terms of magnitude in the ultraviolet range ($M_{1350}$). In the other hand we have a DMH catalog, result from the **Multidark Simulation** with Plank Cosmology[2]. A $1000^3 \\text{Mpc}^3h^{-3} $ cubic box containing near to $11\\times10^{6}$dark matter halos.\n",
      "\n",
      "The idea is to connect the observed GLF with the DMH catalog. We assume that each halo contains one and just one galaxy, and its luminosity is given by:\n",
      "\n",
      "$L_{\\text{galaxy}}=\\alpha M_{\\text{halo}}^\\beta$.\n",
      "\n",
      "But this function is given in magnitude units.  Is necesary to convert magnitude to luminosity."
     ]
    },
    {
     "cell_type": "markdown",
     "metadata": {},
     "source": [
      "### Magnitude to Luminosity\n",
      "The Luminosity is an intrinsic propertie of the stars. It doesn't deppends of the distance. It's directly related to the energy flux emmited. The luminosity $L_\\nu$ at a given frecuency $\\nu$ is has $[\\text{W}\\text{Hz}^{-1}]$ or $[\\text{erg }\\text{s}^{-1}\\text{Hz}^{-1}]$ units.\n",
      "\n",
      "The magnitude is brightnes star classification inherited from ancient Greeks. It deppends of the stellar distance. The absolute magnitude is a modern classification independent of distance. Taking the Sun as reference, the absolute magnitud at a given wavelengt is given by: \n",
      "\n",
      "$ M_{\\lambda} = M_{\\lambda \\odot} - 2.5 \\log_{10}\\left( \\frac{L_\\lambda}{L_{\\lambda \\odot}} \\right) $\n",
      "\n",
      "\n",
      "The solar absolute magnitude in the U filter is:\n",
      "\n",
      "$ M_{\\text{U} \\odot} = 5.61$\n",
      "\n",
      "and the luminosity:\n",
      "\n",
      "$ 1 L_{\\text{U} \\odot} = 10^{18.48} \\text{ergs s}^{-1}\\text{Hz}^{-1} = 3.02 \\times 10^{18} \\text{ergs s}^{-1}\\text{Hz}^{-1}$\n",
      "\n",
      "Replacing in the absolute magnitude equation:\n",
      "\n",
      "$ M_{\\text{U}} = 5.61 - 2.5 \\log_{10}(L_{\\text{U}}) + 25\\times18.48$\n",
      "\n",
      "gives:\n",
      "\n",
      "$ M_{\\text{U}} = 51.82 - 2.5 \\log_{10}(L_{\\text{U}}) $\n",
      "\n",
      "\n",
      "\n",
      "\n"
     ]
    },
    {
     "cell_type": "markdown",
     "metadata": {},
     "source": [
      "###Best Fitting Parameters\n",
      "\n",
      "--Here comes the fitting graph--\n",
      "\n",
      "And the fitting parameters\n",
      "\n",
      "$\\alpha = ?$\n",
      "\n",
      "$\\beta = ?$\n",
      "\n"
     ]
    },
    {
     "cell_type": "markdown",
     "metadata": {},
     "source": [
      "##Stelar Formation Rate\n",
      "\n",
      "### The Ultraviolet continuum [3]\n",
      "\n",
      "The UV region is dominated by big blue young stars, is possible to make an extrapolation to small young stars.\n",
      "\n",
      "On stellar-formation galaxies the spectrum has a UV continuum nearly flat. This is a good approximation:\n",
      "\n",
      "$ \\text{SFR}\\left(M_\\odot \\text{yr}^{-1}\\right) = 1.4 \\times 10^{28} L_{\\nu} \\left( \\text{erg s}^{-1}\\text{Hz}^{-1} \\right)$\n",
      "\n",
      "With Initial Mass Function (IMF) between $0.1 M_\\odot$ and $100 M_\\odot$, in the range of $1250-2500 \\mathring{\\text {A}} $\n"
     ]
    },
    {
     "cell_type": "markdown",
     "metadata": {},
     "source": [
      "### The Moster *et al* Stellar-Halo Mass fitting [4]\n",
      "\n",
      "This fitting model contains four parameters: $\\left(\\frac{m}{M}\\right)_0$, $M_1$, $\\beta$ and $\\gamma$.\n",
      "\n",
      "$m:=$ Stellar mass\n",
      "\n",
      "$M :=$ Dark Matter Halo mass\n",
      "\n",
      "\n",
      "$ \\frac{m}{M} = 2 \\left( \\frac{m}{M} \\right)_{0} \\left[ \\left(\\frac{M}{M_1}\\right)^{-\\beta} + \\left(\\frac{M}{M_1}\\right)^{\\gamma} \\right]^{-1} $\n",
      "\n",
      "Another model cited in the article contains five parameters: $m_0$, $M_1$, $\\beta$, $\\gamma_1 and $\\gamma_2$.\n",
      "\n",
      "$ m(M) = m_0 \\frac{ (M/M_1)^{\\gamma_1}}{ \\left[ 1 + (M/M_1)^\\beta \\right]^{ (\\gamma_1-\\gamma_2)/\\beta}}$ "
     ]
    },
    {
     "cell_type": "markdown",
     "metadata": {},
     "source": [
      "#What to do before this week ends (15-feb-2014)\n",
      "\n",
      "Implement a Random-Walk based method to fit a 4-parameter luminosity function, then get the SRF.\n",
      "\n",
      "##Proposed Luminosity Function:\n",
      "\n",
      "Four parameter function.\n",
      "\n",
      "$ L = L_0 M \\left[ \\left(\\frac{M}{M^*}\\right)^{-\\beta} + \\left(\\frac{M}{M^*}\\right)^{\\gamma} \\right]^{-1} $\n",
      "\n",
      "Parameters: $L_0$, $M^*$, $\\beta$ and $\\gamma$."
     ]
    },
    {
     "cell_type": "markdown",
     "metadata": {},
     "source": [
      "##Bibliography\n",
      "1. C. Willott *et al*, *An exponential decline at the bright end of the z = 6 galaxy luminosity function*, **The Astronomical Journal**, 2013, vol 145.\n",
      "2. http://www.multidark.org/MultiDark/ Multidark simmulations.\n",
      "40. R. Kennicutt, *Star formation galaxies along the Hubble sequence*, **Annual Review of Astronomy and Astrophysics**, 1998, vol 36.\n",
      "50. B. Moster *et al*, *Constraints on the relationship between stellar mass and halo mass at low and high redshift*, **The Astrophysical Journal**, 2010, vol 710.\n",
      "99. http://rogerdudler.github.io/git-guide/ A pretty github guide."
     ]
    },
    {
     "cell_type": "markdown",
     "metadata": {},
     "source": [
      "######Extras\n",
      "\n",
      "Latex is supported in Notebook using Mathjax (an open source javascrip)\n",
      "\n",
      "$\\mathring{\\text {A}}$\n",
      "\n",
      "$\\left( \\text{erg s}^{-1}\\text{Hz}^{-1} \\right)$\n",
      "\n"
     ]
    },
    {
     "cell_type": "code",
     "collapsed": false,
     "input": [],
     "language": "python",
     "metadata": {},
     "outputs": []
    }
   ],
   "metadata": {}
  }
 ]
}