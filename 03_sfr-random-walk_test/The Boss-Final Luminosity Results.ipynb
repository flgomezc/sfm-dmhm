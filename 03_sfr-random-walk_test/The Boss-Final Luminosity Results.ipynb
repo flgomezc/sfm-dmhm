{
 "metadata": {
  "name": "",
  "signature": "sha256:65569d4b87525214864f6c1cefa8a7ab20e1bb5886f0ef03837dd88e5c30aa49"
 },
 "nbformat": 3,
 "nbformat_minor": 0,
 "worksheets": [
  {
   "cells": [
    {
     "cell_type": "markdown",
     "metadata": {},
     "source": [
      "Magnitude: dimetionless\n",
      "\n",
      "Luminosity:  $[ \\text{erg } \\text{s}^{-1} \\text{Hz}^{-1} ]$"
     ]
    },
    {
     "cell_type": "code",
     "collapsed": false,
     "input": [
      "%pylab inline\n",
      "BINS = 6\n",
      "\n",
      "#############################################\n",
      "#                                           #\n",
      "#            Loading data file              #\n",
      "#                                           #\n",
      "#############################################\n",
      "\n",
      "# Data columns:\n",
      "# X (Mpc h^-1), Y (Mpc h^-1), Z (Mpc h^-1), Halo mass (Solar Mass)\n",
      "data = np.loadtxt(\n",
      "        #'/home/flgomez10/sfr-dmhm/data/MD_3840_Planck1/BDM/small_cell_cat.dat',\n",
      "        '/home/flgomez10/sfr-dmhm/data/MD_3840_Planck1/BDM/reduced_catshortV_007.dat',\n",
      "          usecols=(0,1,2,3), skiprows=17)\n",
      "# Is necesary to specify the box size for normalization\n",
      "# it deppends of the used catalog.\n",
      "# for small_cell_cat.dat BoxLength = 1000/4 Mpc h^-1\n",
      "# for reduced_catshortV_007.dat Boxlength = 1000 h^-1\n",
      "BoxLength = 1000.0/4.0 # Mpc h^{-1}\n",
      "\n",
      "\n",
      "#############################################\n",
      "#                                           #\n",
      "#           Observational Data              #\n",
      "#                                           #\n",
      "#         From Willott et al,2012           #\n",
      "#############################################\n",
      "\n",
      "Obs_data = np.array([#  Mag,LumFunct, up_err, low_err #\n",
      "                     [-22.5, 2.66E-8, 9.08E-9, 7.78E-8],\n",
      "                     [-22.0, 2.18E-6, 8.70E-7, 9.70E-6],\n",
      "                     [-21.5, 1.45E-5, 2.88E-6, 2.92E-5],\n",
      "                     [-21.0, 1.29E-4, 7.06E-5, 2.19E-4],\n",
      "                     [-20.5, 2.30E-4, 9.34E-5, 5.77E-4]])\n",
      "\n",
      "                    # Magnitude,log10_LumFunct\n",
      "Obs_data_log10 = array([  [ -22.5, -7.57511836, -8.04191415, -7.1090204 ],\n",
      "                        [ -22.0, -5.66154351, -6.06048075, -5.01322827],\n",
      "                        [ -21.5, -4.838632  , -5.54060751, -4.53461715],\n",
      "                        [ -21.0, -3.88941029, -4.1511953 , -3.65955589],\n",
      "                        [ -20.5, -3.63827216, -4.02965312, -3.23882419]])\n",
      "\n",
      "# This is the Luminosity function, \n",
      "# it has four parameters and one variable, \n",
      "# the halo mass: M.\n",
      "\n",
      "def Luminosity(M,L_0,M_0,beta,gamma):\n",
      "    return L_0*M*( (M/M_0)**(-beta) + (M/M_0)**gamma)**(-1)\n",
      "\n",
      "# Some necesary vectors: halo mass M, log10(M) \n",
      "# and the luminosity of each halo: L.\n",
      "\n",
      "M       = data[:,3]\n",
      "log10_M = log10(M[:])\n",
      "L       = np.zeros(M.size)\n",
      "L_R     = np.zeros(M.size)\n",
      "\n",
      "random.seed([0])"
     ],
     "language": "python",
     "metadata": {},
     "outputs": [
      {
       "output_type": "stream",
       "stream": "stdout",
       "text": [
        "Populating the interactive namespace from numpy and matplotlib\n"
       ]
      }
     ],
     "prompt_number": 1
    },
    {
     "cell_type": "code",
     "collapsed": false,
     "input": [
      "################################################################\n",
      "#                                                              #\n",
      "#                     The Random Walk                          #\n",
      "#                     fitting function                         #\n",
      "#                                                              #\n",
      "################################################################\n",
      "\n",
      "# Initial constants for the luminosity function\n",
      "# 17.6520054533 10.7578523093 0.991719160082 0.35806428974\n",
      "# 17.6746642594 10.7575117994 0.984782533886 0.37013301797\n",
      "# 17.6734908567 10.7666395956 0.978283673372 0.371725245285\n",
      "# 17.2713650686 11.282910566 1.27804005305 0.223433739762\n",
      "# 17.6821918705 10.7483484125 1.1 0.38 0.557750956025\n",
      "# 17.6827416801 10.8127170824 1.10682266213 0.396255970004 0.55715666457\n",
      "# 19.7746046193 5.50416841853 1.09643327386 0.397172501194 0.289652672717\n",
      "# 17.5908958938 11.0881957561 0.889305953172 0.398344192416 0.182896419593  100 steps\n",
      "# 17.651076186 11.3103664009 0.863881819343 0.532187082693 0.0478280976379 1000 steps\n",
      "# 17.6591420634 11.3031555429 0.858282781985 0.535882879386 0.0466288689323 400 steps\n",
      "\n",
      "L_0   = 10.0**(17.651076186)\n",
      "M_0   = 10.0**(11.3103664009)\n",
      "beta  =  0.863881819343\n",
      "gamma =  0.532187082693\n",
      "\n",
      "BoxLength = 1000.0 # Mpc h^{-1}\n",
      "MonteCarloSteps = 1\n",
      "K0 = 0.005\n",
      "K1 = 0.005\n",
      "K2 = 0.01\n",
      "K3 = 0.01\n",
      "\n",
      "# 4D sphere that needs 3 angles and one radius.\n",
      "#random.seed([0])\n",
      "phi_1 = 0.00 ;phi_2 = 0.00; phi_3 = 0.00\n",
      "\n",
      "#Calculate the histogram and Xi_sqr for first time.\n",
      "for i in range(M.size):\n",
      "    L[i] = Luminosity( M[i], L_0, M_0, beta, gamma)\n",
      "Magnitude_UV_galaxy_list = 51.82 - 2.5 * log10(L[:])\n",
      "HIST = histogram(Magnitude_UV_galaxy_list,\n",
      "                 bins=(-22.5,-22.0,-21.5,-21.0,-20.5,-20.0))[0]\n",
      "HIST = HIST/( 0.5*BoxLength**3)\n",
      "    \n",
      "Xi_sqr=0.0\n",
      "for i in range(5):\n",
      "    if( HIST[i]>0):\n",
      "        Xi_sqr = Xi_sqr + ( log10(HIST[i])-Obs_data_log10[i,1] )**2\n",
      "    else:\n",
      "        Xi_sqr = Xi_sqr + 100\n",
      "\n",
      "# First of all, the histogram with the original parameters must be calculated,\n",
      "# included the Xi_square deviation\n",
      "for k in range(MonteCarloSteps):\n",
      "    print k, Xi_sqr\n",
      "    # Then the parameters are changed in order to calculate the new histogram\n",
      "    phi_1 = pi*random.random()\n",
      "    phi_2 = pi*random.random()\n",
      "    phi_3 = pi*random.random()*2\n",
      "\n",
      "    L_0R   = L_0  *10**(K0*cos(phi_1))\n",
      "    M_0R   = M_0  *10**(K1*sin(phi_1)*cos(phi_2))\n",
      "    betaR  = beta +K2*(sin(phi_1)*sin(phi_2)*cos(phi_3))\n",
      "    gammaR = gamma+K3*(sin(phi_1)*sin(phi_2)*sin(phi_3))\n",
      "\n",
      "    # Now is possible to calculate the new histogram\n",
      "    # and the new Xi_square deviation.\n",
      "    for i in range(M.size):\n",
      "        L_R[i]    = Luminosity( M[i], L_0R, M_0R, betaR, gammaR)\n",
      "    Magnitude_UV_galaxy_list_R = 51.82 - 2.5 * log10(L_R[:])\n",
      "    HIST_R = histogram(Magnitude_UV_galaxy_list_R,\n",
      "                       bins=(-22.5,-22.0,-21.5,-21.0,-20.5,-20.0))[0]\n",
      "    HIST_R = HIST_R/( 0.5*BoxLength**3)\n",
      "    \n",
      "    Xi_sqr_R=0.0\n",
      "    for i in range(5):\n",
      "        if( HIST_R[i]>0):\n",
      "            Xi_sqr_R = Xi_sqr_R + ( log10(HIST_R[i])-Obs_data_log10[i,1] )**2\n",
      "        else:\n",
      "            Xi_sqr_R = Xi_sqr_R + 100\n",
      "    #print Xi_sqr_R\n",
      "    # If the new deviation is better, then accept the parameters change.\n",
      "    if (Xi_sqr_R<Xi_sqr):\n",
      "        L_0    = L_0R\n",
      "        M_0    = M_0R\n",
      "        beta   = betaR\n",
      "        gamma  = gammaR\n",
      "        HIST   = HIST_R\n",
      "        Xi_sqr =Xi_sqr_R\n",
      "# End of the loop\n",
      "\n",
      "# Now plot\n",
      "figure(figsize(8,4.5))\n",
      "errorbar(Obs_data[:,0],Obs_data[:,1],Obs_data[:,2],\n",
      "         Obs_data[:,3],label='Observational Data')\n",
      "semilogy([-22.5, -22. , -21.5, -21. , -20.5],HIST,\"r-o\", label='F0')\n",
      "semilogy([-22.5, -22. , -21.5, -21. , -20.5],HIST_R,\"g-o\", label='F_RW')\n",
      "ylabel(r\"$\\log_{10}$ Luminosity Function\")\n",
      "xlabel(\"Magnitude\")\n",
      "title(\"Luminosity Function at z=5.9\")\n",
      "legend(loc=0)\n"
     ],
     "language": "python",
     "metadata": {},
     "outputs": [
      {
       "output_type": "stream",
       "stream": "stdout",
       "text": [
        "0 0.0478280976379\n"
       ]
      },
      {
       "metadata": {},
       "output_type": "pyout",
       "prompt_number": 6,
       "text": [
        "<matplotlib.legend.Legend at 0x81de1150>"
       ]
      },
      {
       "metadata": {},
       "output_type": "display_data",
       "png": "[encoded data removed]",
       "text": [
        "<matplotlib.figure.Figure at 0x34b3310>"
       ]
      }
     ],
     "prompt_number": 6
    },
    {
     "cell_type": "code",
     "collapsed": false,
     "input": [
      "print L_0, M_0, beta, gamma\n",
      "print log10(L_0), log10(M_0), beta, gamma, Xi_sqr"
     ],
     "language": "python",
     "metadata": {},
     "outputs": [
      {
       "output_type": "stream",
       "stream": "stdout",
       "text": [
        "4.47791851059e+17 2.04346122303e+11 0.863881819343 0.532187082693\n",
        "17.651076186 11.3103664009 0.863881819343 0.532187082693 0.0478280976379\n"
       ]
      }
     ],
     "prompt_number": 7
    },
    {
     "cell_type": "code",
     "collapsed": false,
     "input": [
      "for i in range(5):\n",
      "    print log10(HIST[i]), Obs_data_log10[i,1]"
     ],
     "language": "python",
     "metadata": {},
     "outputs": [
      {
       "output_type": "stream",
       "stream": "stdout",
       "text": [
        "-7.55284196866 -7.57511836\n",
        "-5.7244583116 -5.66154351\n",
        "-4.69533716733 -4.838632\n",
        "-4.04004325935 -3.88941029\n",
        "-3.62602931548 -3.63827216\n"
       ]
      }
     ],
     "prompt_number": 8
    }
   ],
   "metadata": {}
  }
 ]
}