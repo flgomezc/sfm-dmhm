{
 "metadata": {
  "name": "",
  "signature": "sha256:e7e56f4d488b4f25508cadb7129e5e4c7364ffc101c044bc823027a67640767c"
 },
 "nbformat": 3,
 "nbformat_minor": 0,
 "worksheets": [
  {
   "cells": [
    {
     "cell_type": "code",
     "collapsed": false,
     "input": [
      "# Last modification: 2014-mar-15\n",
      "\n",
      "%pylab inline\n",
      "BINS  = 6\n",
      "BINS1 = 5\n",
      "BINS2 = 8\n",
      "BINS3 = 10\n",
      "\n",
      "from random import *\n",
      "from observational_data import *\n",
      "# Obs_data : Willot et al 2013\n",
      "# Obs_data1: Willot et al 2013\n",
      "# obs_data2: Bouwens et al 2007\n",
      "# obs_data3: Bouwens et al 2012\n",
      "\n",
      "#############################################\n",
      "#                                           #\n",
      "#            Loading data file              #\n",
      "#                                           #\n",
      "#############################################\n",
      "\n",
      "# Data columns:\n",
      "# X (Mpc h^-1), Y (Mpc h^-1), Z (Mpc h^-1), Halo mass (Solar Mass)\n",
      "data = np.loadtxt(\n",
      "        '../data/MD_3840_Planck1/BDM/small_cell_cat.dat',\n",
      "        #'../data/MD_3840_Planck1/BDM/reduced_catshortV_007.dat',\n",
      "                   usecols=(0,1,2,3), skiprows=17)\n",
      "BoxLength = 250.0 # Mpc h^{-1}\n",
      "\n",
      "def Luminosity(M,L_0,M_0,beta,gamma):\n",
      "    return L_0*M*( (M/M_0)**(-beta) + (M/M_0)**gamma)**(-1)\n",
      "\n",
      "def StarFormationRate(M,L_0,M_0,beta,gamma):\n",
      "    return Luminosity(M,L_0,M_0,beta,gamma) * 1.4e-28"
     ],
     "language": "python",
     "metadata": {},
     "outputs": [
      {
       "output_type": "stream",
       "stream": "stdout",
       "text": [
        "Populating the interactive namespace from numpy and matplotlib\n"
       ]
      }
     ],
     "prompt_number": 1
    },
    {
     "cell_type": "code",
     "collapsed": false,
     "input": [
      "M       = data[:,3]\n",
      "log10_M = log10(M[:])\n",
      "L       = np.zeros(M.size)\n",
      "L_R     = np.zeros(M.size)\n",
      "seed(0)\n",
      "MCMC_reg = open(\"MCMC_reg.dat\", \"w\")\n",
      "\n",
      "################################################################\n",
      "#                                                              #\n",
      "#                     The Random Walk                          #\n",
      "#                     fitting function                         #\n",
      "#                                                              #\n",
      "################################################################\n",
      "\n",
      "# Initial constants for the luminosity function\n",
      "#  L_0          log10( M_0)    beta             gamma         Xi**2\n",
      "# 17.651076186 11.3103664009 0.863881819343 0.532187082693 0.0478280976379\n",
      "L_0   = 10.0**(17.5)\n",
      "M_0   = 10.0**(11.40)\n",
      "beta  =  0.88\n",
      "gamma =  0.50\n",
      "\n",
      "#Calculate the histogram and Xi_sqr for first time.\n",
      "for i in range(M.size):\n",
      "    L[i] = Luminosity( M[i], L_0, M_0, beta, gamma)\n",
      "Magnitude_UV_galaxy_list = 51.82 - 2.5 * log10(L[:])\n",
      "\n",
      "HIST0 = 1.0*histogram(Magnitude_UV_galaxy_list,bins=(-22.0,-21.5,-21.0,-20.5,-20.0,-19.5,-19.0,-18.5,-18.0,-17.5,-17.0,-16.5,-16.0))[0]\n",
      "HIST0_bins = [-22.0,-21.5,-21.0,-20.5,-20.0,-19.5,-19.0,-18.5,-18.0,-17.5,-17.0,-16.5,-16.0]\n",
      "              \n",
      "HIST1 = 1.0*histogram(Magnitude_UV_galaxy_list,bins=(-22.0,-21.5,-21.0,-20.5,-20.0))[0]\n",
      "\n",
      "HIST2 = 1.0*histogram(Magnitude_UV_galaxy_list,bins=(-21.44,-20.94,-20.44,-19.94,-19.44,-18.69,-17.69,-16.69))[0]\n",
      "HIST2_bins = [-21.44,-20.94,-20.44,-19.94,-19.44,-18.69,-17.69,-16.69]\n",
      "\n",
      "HIST3 = 1.0*histogram(Magnitude_UV_galaxy_list,bins=(-21.40,-20.89,-20.40,-19.88,-19.37,-18.86,-18.36,-17.85,-17.34))[0]\n",
      "HIST3_bins = [-21.40,-20.89,-20.40,-19.88,-19.37,-18.86,-18.36,-17.85,-17.34]\n",
      "\n",
      "### Normalize the histograms\n",
      "HIST1 = HIST1/( 0.5*BoxLength**3)\n",
      "for i in range(len(HIST2)):\n",
      "    HIST2[i] = HIST2[i]*1.0/(1.0*(HIST2_bins[i+1]-HIST2_bins[i])*BoxLength**3)\n",
      "for i in range(len(HIST3)):\n",
      "    HIST3[i] = HIST3[i]/((HIST3_bins[i+1]-HIST3_bins[i])*BoxLength**3)\n",
      "### Calculate chi2 as the sum for each histogram\n",
      "chi_sqr=0.0\n",
      "for i in range(len(HIST1)):\n",
      "    chi_sqr = chi_sqr + ( log10(HIST1[i])-Obs_data1_log10[i,1] )**2\n",
      "    \n",
      "for i in range(len(HIST2)):\n",
      "    chi_sqr = chi_sqr + ( log10(HIST2[i])-Obs_data2_log10[i,1] )**2\n",
      "        \n",
      "for i in range(len(HIST3)):\n",
      "    chi_sqr = chi_sqr + ( log10(HIST3[i])-Obs_data3_log10[i,1] )**2\n",
      "\n",
      "MCMC_reg.write(str(log10(L_0))+\"\\t\"+str(log10(M_0))+\"\\t\"+str(beta)+\"\\t\"+str(gamma)+\"\\t\"+str(chi_sqr)+\"\\n\")\n"
     ],
     "language": "python",
     "metadata": {},
     "outputs": [],
     "prompt_number": 2
    },
    {
     "cell_type": "code",
     "collapsed": false,
     "input": [
      "print \"\\n\\n\"\n",
      "\n",
      "MCMC_reg = open(\"MCMC_reg.dat\", \"r+\")\n",
      "\n",
      "# BoxLength = 250.0 # Mpc h^{-1} \n",
      "MonteCarloSteps = 100\n",
      "K0 = 0.02\n",
      "K1 = 0.02\n",
      "K2 = 0.2\n",
      "K3 = 0.2\n",
      "\n",
      "# First of all, the histogram with the original parameters must be calculated,\n",
      "# included the Xi_square deviation\n",
      "for k in range(MonteCarloSteps):\n",
      "    #if (k%100==0): ##Show progress\n",
      "    #    print k\n",
      "        \n",
      "    # Then the parameters are changed in order to calculate the new histogram\n",
      "    L_0R   = L_0  *10**(K0*gauss(0.0,1.0))\n",
      "    M_0R   = M_0  *10**(K1*gauss(0.0,1.0))\n",
      "    betaR  = beta + K2*gauss(0.0,1.0)\n",
      "    gammaR = gamma+ K3*gauss(0.0,1.0)\n",
      "    \n",
      "    while (betaR<0):\n",
      "        betaR  = beta + K2*gauss(0.0,1.0)\n",
      "    while (gammaR<0):\n",
      "        gammaR = gamma+ K3*gauss(0.0,1.0)\n",
      "    \n",
      "\n",
      "    for i in range(M.size):\n",
      "        L_R[i]    = Luminosity( M[i], L_0R, M_0R, betaR, gammaR)\n",
      "    Magnitude_UV_galaxy_list_R = 51.82 - 2.5 * log10(L_R[:])\n",
      "\n",
      "    ### Calculate the histograms\n",
      "    # HIST0_R = 1.0*histogram(Magnitude_UV_galaxy_list_R,bins=(-22.0,-21.5,-21.0,-20.5,-20.0,-19.5,-19.0,-18.5,-18.0,-17.5,-17.0,-16.5,-16.0))[0]\n",
      "    HIST1_R = 1.0*histogram(Magnitude_UV_galaxy_list_R,bins=(-22.0,-21.5,-21.0,-20.5,-20.0))[0]\n",
      "    HIST2_R = 1.0*histogram(Magnitude_UV_galaxy_list_R,bins=(-21.44,-20.94,-20.44,-19.94,-19.44,-18.69,-17.69,-16.69))[0]\n",
      "    HIST3_R = 1.0*histogram(Magnitude_UV_galaxy_list_R,bins=(-21.40,-20.89,-20.40,-19.88,-19.37,-18.86,-18.36,-17.85,-17.34))[0]\n",
      "\n",
      "    ### Normalize the histograms\n",
      "    HIST1_R = HIST1_R/( 0.5*BoxLength**3)\n",
      "    for i in range(len(HIST2_R)):\n",
      "        HIST2_R[i] = HIST2_R[i]*1.0/(1.0*(HIST2_bins[i+1]-HIST2_bins[i])*BoxLength**3)\n",
      "    for i in range(len(HIST3_R)):\n",
      "        HIST3_R[i] = HIST3_R[i]/((HIST3_bins[i+1]-HIST3_bins[i])*BoxLength**3)\n",
      "\n",
      "    ### Calculate chi2 as the sum for each histogram\n",
      "    chi_sqr_R=0.0\n",
      "    for i in range(len(HIST1_R)):\n",
      "        if (HIST1_R[i] != 0.0):\n",
      "            chi_sqr_R = chi_sqr_R + ( log10(HIST1_R[i])-Obs_data1_log10[i,1] )**2\n",
      "    for i in range(len(HIST2_R)):\n",
      "        if (HIST2_R[i] != 0.0):\n",
      "            chi_sqr_R = chi_sqr_R + ( log10(HIST2_R[i])-Obs_data2_log10[i,1] )**2\n",
      "    for i in range(len(HIST3_R)):\n",
      "        if (HIST3_R[i] != 0.0):\n",
      "            chi_sqr_R = chi_sqr_R + ( log10(HIST3_R[i])-Obs_data3_log10[i,1] )**2\n",
      "\n",
      "    # Save the result of a variation \n",
      "    # L_0, M_0, beta, gamma, chi_sqr\n",
      "    MCMC_reg.write(\n",
      "                    str(log10(L_0R))+\"\\t\"+\n",
      "                    str(log10(M_0R))+\"\\t\"+\n",
      "                    str(betaR)      +\"\\t\"+\n",
      "                    str(gammaR)     +\"\\t\"+\n",
      "                    str(chi_sqr_R)+\"\\n\")\n",
      "    \n",
      "    # If the new chi2 is better, then the new set of parameters is accepted\n",
      "    Delta_chi = chi_sqr_R - chi_sqr\n",
      "    if ( Delta_chi < 0):\n",
      "        L_0    = L_0R\n",
      "        M_0    = M_0R\n",
      "        beta   = betaR\n",
      "        gamma  = gammaR\n",
      "        #HIST0   = HIST0_R\n",
      "        HIST1   = HIST1_R\n",
      "        HIST2   = HIST2_R\n",
      "        HIST3   = HIST3_R        \n",
      "        chi_sqr= chi_sqr_R\n",
      "    else:\n",
      "        p = random()\n",
      "        #print p, exp( -Delta_chi)\n",
      "        if ( p < exp( -Delta_chi) ): ## CORRECT EXPRESSION \"<\"\n",
      "            L_0    = L_0R\n",
      "            M_0    = M_0R\n",
      "            beta   = betaR\n",
      "            gamma  = gammaR\n",
      "            #HIST0   = HIST0_R\n",
      "            HIST1   = HIST1_R\n",
      "            HIST2   = HIST2_R\n",
      "            HIST3   = HIST3_R\n",
      "            chi_sqr= chi_sqr_R\n",
      "    # End of the loop\n",
      "MCMC_reg.close()\n"
     ],
     "language": "python",
     "metadata": {},
     "outputs": [
      {
       "output_type": "stream",
       "stream": "stdout",
       "text": [
        "\n",
        "\n",
        "\n",
        "0.548813503927"
       ]
      },
      {
       "output_type": "stream",
       "stream": "stdout",
       "text": [
        " 0.0705511611742\n",
        "0.715189366372"
       ]
      },
      {
       "output_type": "stream",
       "stream": "stdout",
       "text": [
        " 0.633919936336\n",
        "0.602763376072"
       ]
      },
      {
       "output_type": "stream",
       "stream": "stdout",
       "text": [
        " 0.268862875683\n",
        "0.544883182997"
       ]
      },
      {
       "output_type": "stream",
       "stream": "stdout",
       "text": [
        " 0.937883168955\n",
        "0.423654799339"
       ]
      },
      {
       "output_type": "stream",
       "stream": "stdout",
       "text": [
        " 0.0613044274886\n",
        "0.645894113067"
       ]
      },
      {
       "output_type": "stream",
       "stream": "stdout",
       "text": [
        " 0.568510328364\n",
        "0.437587211263"
       ]
      },
      {
       "output_type": "stream",
       "stream": "stdout",
       "text": [
        " 0.0261217872108\n",
        "0.891773000782"
       ]
      },
      {
       "output_type": "stream",
       "stream": "stdout",
       "text": [
        " 0.148928762512\n",
        "0.963662760501"
       ]
      },
      {
       "output_type": "stream",
       "stream": "stdout",
       "text": [
        " 0.0798821089428\n",
        "0.383441518826"
       ]
      },
      {
       "output_type": "stream",
       "stream": "stdout",
       "text": [
        " 0.00602847541365\n",
        "0.791725038083"
       ]
      },
      {
       "output_type": "stream",
       "stream": "stdout",
       "text": [
        " 0.00468348103793\n",
        "0.528894919753"
       ]
      },
      {
       "output_type": "stream",
       "stream": "stdout",
       "text": [
        " 0.47007620494\n",
        "0.568044561094"
       ]
      },
      {
       "output_type": "stream",
       "stream": "stdout",
       "text": [
        " 0.00592773699685\n",
        "0.925596638293"
       ]
      },
      {
       "output_type": "stream",
       "stream": "stdout",
       "text": [
        " 0.00902994188721\n",
        "0.0710360581979"
       ]
      },
      {
       "output_type": "stream",
       "stream": "stdout",
       "text": [
        " 0.00206519254258\n",
        "0.0871292997015"
       ]
      },
      {
       "output_type": "stream",
       "stream": "stdout",
       "text": [
        " 0.878990735719\n",
        "0.0202183974403"
       ]
      },
      {
       "output_type": "stream",
       "stream": "stdout",
       "text": [
        " 0.377699081562\n",
        "0.832619845548"
       ]
      },
      {
       "output_type": "stream",
       "stream": "stdout",
       "text": [
        " 0.229689159607\n",
        "0.77815675095"
       ]
      },
      {
       "output_type": "stream",
       "stream": "stdout",
       "text": [
        " 0.224517258285\n",
        "0.870012148247"
       ]
      },
      {
       "output_type": "stream",
       "stream": "stdout",
       "text": [
        " 0.411003859339\n",
        "0.978618342233"
       ]
      },
      {
       "output_type": "stream",
       "stream": "stdout",
       "text": [
        " 0.00975728977828\n",
        "0.799158564217"
       ]
      },
      {
       "output_type": "stream",
       "stream": "stdout",
       "text": [
        " 0.475751442235\n",
        "0.461479362253"
       ]
      },
      {
       "output_type": "stream",
       "stream": "stdout",
       "text": [
        " 0.941804139881\n",
        "0.780529176286"
       ]
      },
      {
       "output_type": "stream",
       "stream": "stdout",
       "text": [
        " 0.0177781448274\n",
        "0.118274425869"
       ]
      },
      {
       "output_type": "stream",
       "stream": "stdout",
       "text": [
        " 0.879375627935\n",
        "0.639921021328"
       ]
      },
      {
       "output_type": "stream",
       "stream": "stdout",
       "text": [
        " 0.800088359801\n",
        "0.143353287409"
       ]
      },
      {
       "output_type": "stream",
       "stream": "stdout",
       "text": [
        " 0.363753020778\n",
        "0.94466891705"
       ]
      },
      {
       "output_type": "stream",
       "stream": "stdout",
       "text": [
        " 0.378915844103\n",
        "0.52184832175"
       ]
      },
      {
       "output_type": "stream",
       "stream": "stdout",
       "text": [
        " 0.0313505548238\n",
        "0.414661939991"
       ]
      },
      {
       "output_type": "stream",
       "stream": "stdout",
       "text": [
        " 0.230665250039\n",
        "0.264555612105"
       ]
      },
      {
       "output_type": "stream",
       "stream": "stdout",
       "text": [
        " 0.277037790003\n",
        "0.774233689434"
       ]
      },
      {
       "output_type": "stream",
       "stream": "stdout",
       "text": [
        " 0.0585975515351\n",
        "0.456150332217"
       ]
      },
      {
       "output_type": "stream",
       "stream": "stdout",
       "text": [
        " 0.0718854336714\n",
        "0.568433948869"
       ]
      },
      {
       "output_type": "stream",
       "stream": "stdout",
       "text": [
        " 0.566712637832\n",
        "0.0187898004364"
       ]
      },
      {
       "output_type": "stream",
       "stream": "stdout",
       "text": [
        " 0.641436237778\n",
        "0.617635497076"
       ]
      },
      {
       "output_type": "stream",
       "stream": "stdout",
       "text": [
        " 0.853722327596\n",
        "0.612095722722"
       ]
      },
      {
       "output_type": "stream",
       "stream": "stdout",
       "text": [
        " 0.649790814548\n",
        "0.616933996875"
       ]
      },
      {
       "output_type": "stream",
       "stream": "stdout",
       "text": [
        " 0.994297866292\n",
        "0.943748078515"
       ]
      },
      {
       "output_type": "stream",
       "stream": "stdout",
       "text": [
        " 0.0188481981169\n",
        "0.681820299103"
       ]
      },
      {
       "output_type": "stream",
       "stream": "stdout",
       "text": [
        " 0.522986816915\n",
        "0.359507900574"
       ]
      },
      {
       "output_type": "stream",
       "stream": "stdout",
       "text": [
        " 0.963834143683\n",
        "0.437031953799"
       ]
      },
      {
       "output_type": "stream",
       "stream": "stdout",
       "text": [
        " 0.0073412984908\n",
        "0.697631195927"
       ]
      },
      {
       "output_type": "stream",
       "stream": "stdout",
       "text": [
        " 0.498935508185\n",
        "0.0602254716293"
       ]
      },
      {
       "output_type": "stream",
       "stream": "stdout",
       "text": [
        " 0.526783076695\n",
        "0.666766715446"
       ]
      },
      {
       "output_type": "stream",
       "stream": "stdout",
       "text": [
        " 0.222226836861\n",
        "0.670637869618"
       ]
      },
      {
       "output_type": "stream",
       "stream": "stdout",
       "text": [
        " 0.46137470822\n",
        "0.210382561074"
       ]
      },
      {
       "output_type": "stream",
       "stream": "stdout",
       "text": [
        " 0.00142848831572\n",
        "0.128926297655"
       ]
      },
      {
       "output_type": "stream",
       "stream": "stdout",
       "text": [
        " 0.596105294292\n",
        "0.315428350924"
       ]
      },
      {
       "output_type": "stream",
       "stream": "stdout",
       "text": [
        " 0.829110962241\n",
        "0.363710770943"
       ]
      },
      {
       "output_type": "stream",
       "stream": "stdout",
       "text": [
        " 0.677098692287\n",
        "0.570196770418"
       ]
      },
      {
       "output_type": "stream",
       "stream": "stdout",
       "text": [
        " 0.00187298796037\n",
        "0.438601513462"
       ]
      },
      {
       "output_type": "stream",
       "stream": "stdout",
       "text": [
        " 0.660776296338\n",
        "0.988373838059"
       ]
      },
      {
       "output_type": "stream",
       "stream": "stdout",
       "text": [
        " 0.316681766099\n",
        "0.102044810748"
       ]
      },
      {
       "output_type": "stream",
       "stream": "stdout",
       "text": [
        " 0.714489541259\n",
        "0.208876756095"
       ]
      },
      {
       "output_type": "stream",
       "stream": "stdout",
       "text": [
        " 0.39060379443\n",
        "0.161309517885"
       ]
      },
      {
       "output_type": "stream",
       "stream": "stdout",
       "text": [
        " 0.126543776633\n",
        "0.653108325465"
       ]
      },
      {
       "output_type": "stream",
       "stream": "stdout",
       "text": [
        " 0.490760737949\n",
        "0.25329160254"
       ]
      },
      {
       "output_type": "stream",
       "stream": "stdout",
       "text": [
        " 0.45483641987\n",
        "0.466310772856"
       ]
      },
      {
       "output_type": "stream",
       "stream": "stdout",
       "text": [
        " 0.342632855868\n",
        "0.244425592002"
       ]
      },
      {
       "output_type": "stream",
       "stream": "stdout",
       "text": [
        " 0.483692355968\n",
        "0.158969583646"
       ]
      },
      {
       "output_type": "stream",
       "stream": "stdout",
       "text": [
        " 0.775831333645\n",
        "0.110375141164"
       ]
      },
      {
       "output_type": "stream",
       "stream": "stdout",
       "text": [
        " 0.420775500671\n",
        "0.656329589465"
       ]
      },
      {
       "output_type": "stream",
       "stream": "stdout",
       "text": [
        " 0.858127742613\n",
        "0.138182951349"
       ]
      },
      {
       "output_type": "stream",
       "stream": "stdout",
       "text": [
        " 0.15967739787\n",
        "0.19658236168"
       ]
      },
      {
       "output_type": "stream",
       "stream": "stdout",
       "text": [
        " 0.469808090432\n",
        "0.368725170661"
       ]
      },
      {
       "output_type": "stream",
       "stream": "stdout",
       "text": [
        " 0.493929652599\n",
        "0.820993229848"
       ]
      },
      {
       "output_type": "stream",
       "stream": "stdout",
       "text": [
        " 0.457798984196\n",
        "0.0971012757931"
       ]
      },
      {
       "output_type": "stream",
       "stream": "stdout",
       "text": [
        " 0.180914442579\n",
        "0.837944907499"
       ]
      },
      {
       "output_type": "stream",
       "stream": "stdout",
       "text": [
        " 0.337698434568\n"
       ]
      }
     ],
     "prompt_number": 5
    },
    {
     "cell_type": "code",
     "collapsed": false,
     "input": [
      "CC = histogram( Magnitude_UV_galaxy_list, \n",
      "               bins=(-22.5,-22.0,-21.5,-21.0,-20.5,-20.0,-19.5,-19.0,-18.5,-18.0,-17.5,-17.0))[0]\n",
      "CC = CC/( 0.5*BoxLength**3)\n",
      "DD = [-22.5,-22.0,-21.5,-21.0,-20.5,-20.0,-19.5,-19,-18.5,-18.0,-17.5]\n",
      "\n",
      "figure(figsize(6,4.5))\n",
      "semilogy(DD,CC,\"g\", label='Fit')\n",
      "plot(Obs_data[:,0],Obs_data[:,1]#,Obs_data[:,2],Obs_data[:,3],\n",
      "         ,\"bo\",label='Observational Data - 2013')\n",
      "plot(Obs_data2[:,0],Obs_data2[:,1]#,Obs_data2[:,2],Obs_data2[:,3],\n",
      "         ,\"ko\",label='Observational Data2- 2007')\n",
      "plot(Obs_data3[:,0],Obs_data3[:,1]#,Obs_data3[:,2],Obs_data3[:,3]\n",
      "        ,\"ro\",label='Observational Data3- 2012',linewidth=1)\n",
      "ylabel(r\"$\\log_{10}$ LF\",fontsize=20)\n",
      "yscale(\"log\")\n",
      "xlabel(\"Magnitude\",fontsize=20)\n",
      "axis([-23,-16,0.8e-6,1.6e-2])\n",
      "title(\"Luminosity Function at z=5.9\",fontsize=20)\n",
      "\n",
      "legend(loc=4)"
     ],
     "language": "python",
     "metadata": {},
     "outputs": [
      {
       "metadata": {},
       "output_type": "pyout",
       "prompt_number": 11,
       "text": [
        "<matplotlib.legend.Legend at 0x6c23990>"
       ]
      },
      {
       "metadata": {},
       "output_type": "display_data",
       "png": "[encoded data removed]",
       "text": [
        "<matplotlib.figure.Figure at 0x46dbed0>"
       ]
      }
     ],
     "prompt_number": 11
    },
    {
     "cell_type": "code",
     "collapsed": false,
     "input": [
      "L_0   = 10.0**(17.651076186)\n",
      "M_0   = 10.0**(11.3103664009)\n",
      "beta  =  0.863881819343\n",
      "gamma =  0.532187082693\n",
      "\n",
      "Mass = linspace(10,14,20)\n",
      "SFR2 = zeros(Mass.size)\n",
      "\n",
      "for i in range(Mass.size):\n",
      "    SFR2[i] = StarFormationRate(10**Mass[i],L_0,M_0,beta,gamma)\n",
      "           \n",
      "loglog(10**Mass,SFR2,\"r-o\")\n",
      "xlabel(\"DMH mass$[M_\\odot]$\", fontsize=20)\n",
      "ylabel(\"SFR $[M_\\odot yr^{-1}]$\", fontsize=20)"
     ],
     "language": "python",
     "metadata": {},
     "outputs": [
      {
       "metadata": {},
       "output_type": "pyout",
       "prompt_number": 7,
       "text": [
        "<matplotlib.text.Text at 0x3f09610>"
       ]
      },
      {
       "metadata": {},
       "output_type": "display_data",
       "png": "[encoded data removed]",
       "text": [
        "<matplotlib.figure.Figure at 0x62594d0>"
       ]
      }
     ],
     "prompt_number": 7
    },
    {
     "cell_type": "heading",
     "level": 5,
     "metadata": {},
     "source": [
      "data_mcmc = np.loadtxt('MCMC_reg.dat', usecols"
     ]
    },
    {
     "cell_type": "code",
     "collapsed": false,
     "input": [
      "data_mcmc = np.loadtxt('MCMC_reg.dat', usecols=(0,1,2,3,4))"
     ],
     "language": "python",
     "metadata": {},
     "outputs": [],
     "prompt_number": 8
    },
    {
     "cell_type": "code",
     "collapsed": false,
     "input": [
      "figure(figsize(8,6.5))\n",
      "\n",
      "plot(data_mcmc[:,0],data_mcmc[:,4])\n",
      "xlabel(\"$\\log_{10}(L_0)$\",fontsize=20)\n",
      "ylabel(\"$\\chi^2$\",fontsize=20)\n",
      "\n",
      "\n",
      "plot(data_mcmc[:,1],data_mcmc[:,4])\n",
      "xlabel(\"$\\log_{10}(M_0)$\",fontsize=20)\n",
      "ylabel(\"$\\chi^2$\",fontsize=20)\n",
      "\n",
      "plot(data_mcmc[:,2],data_mcmc[:,4])\n",
      "xlabel(\" beta \",fontsize=20)\n",
      "ylabel(\" $\\chi^2$ \",fontsize=20)\n",
      "\n",
      "plot(data_mcmc[:,3],data_mcmc[:,4])\n",
      "xlabel(\" gamma \",fontsize=20)\n",
      "ylabel(\" $\\chi^2$ \",fontsize=20)\n"
     ],
     "language": "python",
     "metadata": {},
     "outputs": [
      {
       "metadata": {},
       "output_type": "pyout",
       "prompt_number": 10,
       "text": [
        "<matplotlib.text.Text at 0x59f6bd0>"
       ]
      },
      {
       "metadata": {},
       "output_type": "display_data",
       "png": "[encoded data removed]",
       "text": [
        "<matplotlib.figure.Figure at 0x3eb9610>"
       ]
      }
     ],
     "prompt_number": 10
    },
    {
     "cell_type": "code",
     "collapsed": false,
     "input": [
      "# L_0, M_0, beta, gamma, chi_sqr\n",
      "\n",
      "V = data_mcmc[:,0] # L_0\n",
      "W = data_mcmc[:,1] # M_0\n",
      "X = data_mcmc[:,2] # beta\n",
      "Y = data_mcmc[:,3] # gamma\n",
      "Z = data_mcmc[:,4] # chi_sqr\n",
      "\n",
      "fig = figure(figsize=(10, 5))\n",
      "fig.subplots_adjust(hspace=0.20, wspace=0.20,top=1.5, right=1.0, bottom=0.0)\n",
      "\n",
      "ax1 = fig.add_subplot(221)\n",
      "ax1.scatter(V, Z, s=0.8)\n",
      "ax1.set_xlabel(\"$\\log_{10}(L_0)$\",fontsize=20)\n",
      "ax1.set_ylabel(\" $\\chi^2$ \",fontsize=20)\n",
      "\n",
      "ax2 = fig.add_subplot(222)\n",
      "ax2.scatter(W, Z, s=0.8)\n",
      "ax2.set_xlabel(\"$\\log_{10}(M_0)$\",fontsize=20)\n",
      "ax2.set_ylabel(\" $\\chi^2$ \",fontsize=20)\n",
      "#ax2.yaxis.set_major_formatter(plt.NullFormatter())\n",
      "\n",
      "ax3 = fig.add_subplot(223)\n",
      "ax3.scatter(X, Z, s=0.8)\n",
      "ax3.set_xlabel(r\" $\\beta $  \",fontsize=20)\n",
      "ax3.set_ylabel(\" $\\chi^2$ \",fontsize=20)\n",
      "#ax.yaxis.set_major_formatter(plt.NullFormatter())\n",
      "\n",
      "ax = fig.add_subplot(224)\n",
      "ax.scatter(Y, Z, s=0.8)\n",
      "ax.set_xlabel(r\"$\\gamma$\",fontsize=20)\n",
      "ax.set_ylabel(\" $\\chi^2$ \",fontsize=20)\n",
      "#ax.yaxis.set_major_formatter(plt.NullFormatter())\n",
      "\n"
     ],
     "language": "python",
     "metadata": {},
     "outputs": [
      {
       "metadata": {},
       "output_type": "pyout",
       "prompt_number": 91,
       "text": [
        "<matplotlib.text.Text at 0xd4144d0>"
       ]
      },
      {
       "metadata": {},
       "output_type": "display_data",
       "png": "[encoded data removed]",
       "text": [
        "<matplotlib.figure.Figure at 0xc3b8a10>"
       ]
      }
     ],
     "prompt_number": 91
    },
    {
     "cell_type": "code",
     "collapsed": false,
     "input": [
      "L_0   = 10**17.75\n",
      "M_0   = 10**11.23133723\n",
      "beta  = 0.63808236\n",
      "gamma = 0.577339735\n",
      "\n",
      "#Calculate the histogram and Xi_sqr for first time.\n",
      "for i in range(M.size):\n",
      "    L[i] = Luminosity( M[i], L_0, M_0, beta, gamma)\n",
      "Magnitude_UV_galaxy_list = 51.82 - 2.5 * log10(L[:])\n",
      "\n",
      "CC = histogram( Magnitude_UV_galaxy_list, \n",
      "               bins=(-22.5,-22.0,-21.5,-21.0,-20.5,-20.0,-19.5,-19.0,-18.5,-18.0,-17.5,-17.0,-16.5))[0]\n",
      "CC = CC/( 0.5*BoxLength**3)\n",
      "DD = [-22.5,-22.0,-21.5,-21.0,-20.5,-20.0,-19.5,-19,-18.5,-18.0,-17.5,-17.0]\n",
      "\n",
      "figure(figsize(6,4.5))\n",
      "semilogy(DD,CC,\"g\", label='Fit')\n",
      "plot(Obs_data[:,0],Obs_data[:,1],#Obs_data[:,2],Obs_data[:,3],\n",
      "         \"bo\",label='Observational Data - 2013')\n",
      "plot(Obs_data2[:,0],Obs_data2[:,1],#Obs_data2[:,2],Obs_data2[:,3],\n",
      "         \"ko\",label='Observational Data2- 2007')\n",
      "plot(Obs_data3[:,0],Obs_data3[:,1],#Obs_data3[:,2],Obs_data3[:,3],\n",
      "        \"ro\",label='Observational Data3- 2012',linewidth=1)\n",
      "ylabel(r\"$\\log_{10}$ LF\",fontsize=20)\n",
      "yscale(\"log\")\n",
      "xlabel(\"Magnitude\",fontsize=20)\n",
      "axis([-23,-16,0.8e-6,1.6e-2])\n",
      "title(\"Luminosity Function at z=5.9\\n in a box of lenght=250Mpc h-1\",fontsize=17)\n",
      "\n",
      "legend(loc=4)"
     ],
     "language": "python",
     "metadata": {},
     "outputs": [
      {
       "metadata": {},
       "output_type": "pyout",
       "prompt_number": 92,
       "text": [
        "<matplotlib.legend.Legend at 0xd8e5c10>"
       ]
      },
      {
       "metadata": {},
       "output_type": "display_data",
       "png": "[encoded data removed]",
       "text": [
        "<matplotlib.figure.Figure at 0xd3dcbd0>"
       ]
      }
     ],
     "prompt_number": 92
    },
    {
     "cell_type": "markdown",
     "metadata": {},
     "source": [
      "#Functions\n",
      "\n",
      "### The Fitting function for Luminosity\n",
      "\n",
      "$ L(M) = L_0 M \\left[ \\left(\\frac{M}{M^*}\\right)^{-\\beta} + \\left(\\frac{M}{M^*}\\right)^{\\gamma} \\right]^{-1} $\n",
      "\n",
      "### The fitting funtion for Star Forming Rate\n",
      "$ \\textrm{SFR}(M_h) = 1.4 \\times 10^{-28} L_0 M \n",
      "                          \\left[ \\left(\\frac{M_h}{M^*}\\right)^{-\\beta} \n",
      "                               + \\left(\\frac{M_h}{M^*}\\right)^{\\gamma} \\right]^{-1} $\n",
      "###Dimensions\n",
      "\n",
      "Magnitude: dimetionless\n",
      "\n",
      "Luminosity:  $[ \\text{erg } \\text{s}^{-1} \\text{Hz}^{-1} ]$\n",
      "\n",
      "Star Formation Rate: $[ M_\\odot \\textrm{yr}^{-1} ]$\n",
      "\n",
      "Number of parameters:= $n$. In this case $n=4$. They are $L_0$, $M_0$, $\\beta$ and $\\gamma$.\n",
      "\n",
      "The likelihood ($\\mathcal{L}$) is defined as:\n",
      "\n",
      "$\\mathcal{L} \\propto e^{-\\frac{\\chi^2}{ n}}$\n",
      "\n",
      "where\n",
      "\n",
      "$\\chi = \\sum \\left( x_\\textrm{obs} - x_\\textrm{fit} \\right)^2$\n",
      "\n",
      "------------------------------------\n",
      "# Markov Chain Monte Carlo\n",
      "\n",
      "For each MC step $\\mathcal{L}_\\textrm{new}$ is calculated with a random set of parameters.\n",
      "\n",
      "### Accepted MC-step parameters:\n",
      "\n",
      "If $ \\frac{\\mathcal{L}_\\textrm{new}}{\\mathcal{L}_\\textrm{old}}  > 1$ the new set of parameters is accepted.\n",
      "\n",
      "### Accepted MC-step parameters:\n",
      "Else, not al steps are rejected, there is a probability to be accepted. With $p$ a random number in the range $[0,1)$, if\n",
      "\n",
      "\n",
      "$ 1 > p > \\frac{\\mathcal{L}_\\textrm{new}}{\\mathcal{L}_\\textrm{old}} $\n",
      "\n",
      "the step is accepted. This condition can be written as:\n",
      "\n",
      "$ p > \\frac{ \\exp\\left( - \\frac{ \\chi^2_\\textrm{new} }{ n }  \\right) }\n",
      "           { \\exp\\left( - \\frac{ \\chi^2_\\textrm{old} }{ n }  \\right) }\n",
      "     =  \n",
      "            \\exp\\left( - \\left(\\chi^2_\\textrm{new} - \\chi^2_\\textrm{old} \\right) \\right)\n",
      "     =      \n",
      "            \\exp\\left( - \\Delta  \\right)\n",
      "     $\n",
      "     \n",
      "With $ \\Delta = \\chi^2_\\textrm{new} - \\chi^2_\\textrm{old} $\n",
      "\n",
      "### Rejected MC-step parameters:\n",
      "If $ \\frac{\\mathcal{L}_\\textrm{new}}{\\mathcal{L}_\\textrm{old}}  < 1$\n",
      "\n",
      "and\n",
      "\n",
      "$ p < \\exp\\left( -\\Delta \\right)$"
     ]
    },
    {
     "cell_type": "code",
     "collapsed": false,
     "input": [
      "from IPython.core.display import HTML\n",
      "HTML('<img src=\"http://www.phdcomics.com/comics/archive/phd082012s.gif\" />') "
     ],
     "language": "python",
     "metadata": {},
     "outputs": [
      {
       "html": [
        "<img src=\"http://www.phdcomics.com/comics/archive/phd082012s.gif\" />"
       ],
       "metadata": {},
       "output_type": "pyout",
       "prompt_number": 19,
       "text": [
        "<IPython.core.display.HTML at 0x5da8ad0>"
       ]
      }
     ],
     "prompt_number": 19
    },
    {
     "cell_type": "code",
     "collapsed": false,
     "input": [],
     "language": "python",
     "metadata": {},
     "outputs": []
    }
   ],
   "metadata": {}
  }
 ]
}