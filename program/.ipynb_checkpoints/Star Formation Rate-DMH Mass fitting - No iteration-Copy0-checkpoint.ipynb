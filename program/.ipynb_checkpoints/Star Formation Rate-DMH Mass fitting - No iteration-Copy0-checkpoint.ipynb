{
 "metadata": {
  "name": "",
  "signature": "sha256:65b6b73f3509a1716581fee31460b459e8b71dc028ebf808ecd38a7734e1962c"
 },
 "nbformat": 3,
 "nbformat_minor": 0,
 "worksheets": [
  {
   "cells": [
    {
     "cell_type": "code",
     "collapsed": false,
     "input": [
      "%pylab inline\n",
      "BINS = 6\n",
      "\n",
      "#############################################\n",
      "#                                           #\n",
      "#            Loading data file              #\n",
      "#                                           #\n",
      "#############################################\n",
      "\n",
      "# Data columns:\n",
      "# X (Mpc h^-1), Y (Mpc h^-1), Z (Mpc h^-1), Halo mass (Solar Mass)\n",
      "data = np.loadtxt(\n",
      "         '/home/flgomez10/sfr-dmhm/data/MD_3840_Planck1/BDM/small_cell_cat.dat',\n",
      "        #'/home/flgomez10/sfr-dmhm/data/MD_3840_Planck1/BDM/reduced_catshortV_007.dat',\n",
      "          usecols=(0,1,2,3), skiprows=17)\n",
      "# Is necesary to specify the box size for normalization\n",
      "# it deppends of the used catalog.\n",
      "# for small_cell_cat.dat BoxLength = 1000/4 Mpc h^-1\n",
      "# for reduced_catshortV_007.dat Boxlength = 1000 h^-1\n",
      "BoxLength = 1000.0/4.0 # Mpc h^{-1}\n",
      "\n",
      "\n",
      "#############################################\n",
      "#                                           #\n",
      "#           Observational Data              #\n",
      "#                                           #\n",
      "#         From Willott et al,2012           #\n",
      "#############################################\n",
      "\n",
      "Obs_data = np.array([#  Mag,LumFunct, up_err, low_err #\n",
      "                     [-22.5, 2.66E-8, 9.08E-9, 7.78E-8],\n",
      "                     [-22.0, 2.18E-6, 8.70E-7, 9.70E-6],\n",
      "                     [-21.5, 1.45E-5, 2.88E-6, 2.92E-5],\n",
      "                     [-21.0, 1.29E-4, 7.06E-5, 2.19E-4],\n",
      "                     [-20.5, 2.30E-4, 9.34E-5, 5.77E-4]])\n",
      "\n",
      "                    # Magnitude,log10_LumFunct\n",
      "Obs_data_log10 = array([  [ -22.5, -7.57511836, -8.04191415, -7.1090204 ],\n",
      "                        [ -22.0, -5.66154351, -6.06048075, -5.01322827],\n",
      "                        [ -21.5, -4.838632  , -5.54060751, -4.53461715],\n",
      "                        [ -21.0, -3.88941029, -4.1511953 , -3.65955589],\n",
      "                        [ -20.5, -3.63827216, -4.02965312, -3.23882419]])"
     ],
     "language": "python",
     "metadata": {},
     "outputs": [
      {
       "output_type": "stream",
       "stream": "stdout",
       "text": [
        "Populating the interactive namespace from numpy and matplotlib\n"
       ]
      }
     ],
     "prompt_number": 1
    },
    {
     "cell_type": "markdown",
     "metadata": {},
     "source": [
      "Magnitude: dimetionless\n",
      "\n",
      "Luminosity:  $[ \\text{erg } \\text{s}^{-1} \\text{Hz}^{-1} ]$"
     ]
    },
    {
     "cell_type": "code",
     "collapsed": false,
     "input": [
      "# This is the Luminosity function, \n",
      "# it has four parameters and one variable, \n",
      "# the halo mass: M.\n",
      "\n",
      "def Luminosity(M,L_0,M_0,beta,gamma):\n",
      "    return L_0*M*( (M/M_0)**(-beta) + (M/M_0)**gamma)**(-1)\n",
      "\n",
      "# Some necesary vectors: halo mass M, log10(M) \n",
      "# and the luminosity of each halo: L.\n",
      "\n",
      "M       = data[:,3]\n",
      "log10_M = log10(M[:])\n",
      "L       = np.zeros(M.size)\n",
      "L_R     = np.zeros(M.size)"
     ],
     "language": "python",
     "metadata": {},
     "outputs": [],
     "prompt_number": 2
    },
    {
     "cell_type": "code",
     "collapsed": false,
     "input": [
      "################################################################\n",
      "#                     The Random Walk                          #\n",
      "#                     fitting function                         #\n",
      "################################################################\n",
      "# Initial constants for the luminosity function\n",
      "L_0   = 10.0**(18.0)\n",
      "M_0   = 10.0**(11.5)\n",
      "beta  =  1.0\n",
      "gamma =  5.0\n",
      "# 4D sphere that needs 3 angles and one radius.\n",
      "random.seed([0])\n",
      "phi_1 = 0.00 ;phi_2 = 0.00; phi_3 = 0.00\n",
      "# First of all, the histogram with the original parameters must be calculated,\n",
      "# included the Xi_square deviation\n",
      "for i in range(M.size):\n",
      "    L[i]    = Luminosity( M[i], L_0, M_0, beta, gamma)\n",
      "Magnitude_UV_galaxy_list = 51.82 - 2.5 * log10(L[:])\n",
      "HIST = histogram(Magnitude_UV_galaxy_list, bins=(-22.5,-22.0,-21.5,-21.0,-20.5,20.0))[0]\n",
      "HIST = HIST/( 0.5*BoxLength**3)\n",
      "Xi_sqr=0.0\n",
      "for i in range(5):\n",
      "    if( HIST[i]>0):\n",
      "        Xi_sqr = Xi_sqr + ( log10(HIST[i])-Obs_data_log10[i,1] )**2\n",
      "    else:\n",
      "        Xi_sqr = Xi_sqr + 100\n",
      "print Xi_sqr\n",
      "# Then the parameters are changed in order to calculate the new histogram\n",
      "phi_1 = pi*random.random()\n",
      "phi_2 = pi*random.random()\n",
      "phi_3 = pi*random.random()*2\n",
      "L_0R   = L_0  *10**(0.2*cos(phi_1))\n",
      "M_0R   = M_0  *10**(0.2*sin(phi_1)*cos(phi_2))\n",
      "betaR  = beta +0.2*(sin(phi_1)*sin(phi_2)*cos(phi_3))\n",
      "gammaR = gamma+0.2*(sin(phi_1)*sin(phi_2)*sin(phi_3))\n",
      "# Now is possible to calculate the new histogram\n",
      "# and the new Xi_square deviation.\n",
      "for i in range(M.size):\n",
      "    L_R[i]    = Luminosity( M[i], L_0R, M_0R, betaR, gammaR)\n",
      "Magnitude_UV_galaxy_list_R = 51.82 - 2.5 * log10(L_R[:])\n",
      "HIST_R = histogram(Magnitude_UV_galaxy_list_R,bins=(-22.5,-22.0,-21.5,-21.0,-20.5,20.0))[0]\n",
      "HIST_R = HIST_R/( 0.5*BoxLength**3)\n",
      "Xi_sqr_R=0.0\n",
      "for i in range(5):\n",
      "    if( HIST_R[i]>0):\n",
      "        Xi_sqr_R = Xi_sqr_R + ( log10(HIST_R[i])-Obs_data_log10[i,1] )**2\n",
      "    else:\n",
      "        Xi_sqr_R = Xi_sqr_R + 100\n",
      "print Xi_sqr_R\n",
      "# If the new deviation is better, then accept the parameters change.\n",
      "if (Xi_sqr_R<Xi_sqr):\n",
      "    L_0   = L_0R\n",
      "    M_0   = M_0R\n",
      "    beta  = betaR\n",
      "    gamma = gammaR\n",
      "# Else, repeat from the variation of the parameters.\n",
      "figure(figsize(5,4))\n",
      "errorbar(Obs_data[:,0],Obs_data[:,1],Obs_data[:,2],\n",
      "         Obs_data[:,3],label='Observational Data')\n",
      "semilogy([-22.5, -22. , -21.5, -21. , -20.5],HIST,\"r-o\", label='F0')\n",
      "semilogy([-22.5, -22. , -21.5, -21. , -20.5],HIST_R,\"g-o\", label='F_RW')\n",
      "ylabel(r\"$\\log_{10}$ Luminosity Function\")\n",
      "xlabel(\"Magnitude\")\n",
      "title(\"Luminosity Function at z=5.9\")\n",
      "legend(loc=0)"
     ],
     "language": "python",
     "metadata": {},
     "outputs": [
      {
       "output_type": "stream",
       "stream": "stdout",
       "text": [
        "205.833145823\n",
        "304.047102018"
       ]
      },
      {
       "output_type": "stream",
       "stream": "stdout",
       "text": [
        "\n"
       ]
      },
      {
       "metadata": {},
       "output_type": "pyout",
       "prompt_number": 19,
       "text": [
        "<matplotlib.legend.Legend at 0x7ffb310>"
       ]
      },
      {
       "metadata": {},
       "output_type": "display_data",
       "png": "[encoded data removed]",
       "text": [
        "<matplotlib.figure.Figure at 0x51dc490>"
       ]
      }
     ],
     "prompt_number": 19
    },
    {
     "cell_type": "code",
     "collapsed": false,
     "input": [],
     "language": "python",
     "metadata": {},
     "outputs": []
    }
   ],
   "metadata": {}
  }
 ]
}