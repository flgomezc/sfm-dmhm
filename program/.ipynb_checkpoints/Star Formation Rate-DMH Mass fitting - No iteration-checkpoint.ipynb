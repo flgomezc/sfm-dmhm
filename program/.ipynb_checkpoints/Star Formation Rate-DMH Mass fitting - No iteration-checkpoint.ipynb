{
 "metadata": {
  "name": "",
  "signature": "sha256:32b8df6e7647db1d2c3984032a6f55b15d2dfc25d7b6bdd7b564e0b552a225f9"
 },
 "nbformat": 3,
 "nbformat_minor": 0,
 "worksheets": [
  {
   "cells": [
    {
     "cell_type": "code",
     "collapsed": false,
     "input": [
      "%pylab inline\n",
      "BINS = 6\n",
      "#############################################\n",
      "#                                           #\n",
      "#            Loading data file              #\n",
      "#                                           #\n",
      "#############################################\n",
      "\n",
      "# Data columns:\n",
      "# X (Mpc h^-1), Y (Mpc h^-1), Z (Mpc h^-1), Halo mass (Solar Mass)\n",
      "\n",
      "data = np.loadtxt('/home/flgomez10/sfr-dmhm/data/MD_3840_Planck1/BDM/small_cell_cat.dat',\n",
      "        #'/home/flgomez10/sfr-dmhm/data/MD_3840_Planck1/BDM/test.dat',\n",
      "        #'/home/flgomez10/sfr-dmhm/data/MD_3840_Planck1/BDM/reduced_catshortV_007.dat',\n",
      "        # Reduce the memory usage from 'float64'(default) to 'float32'\n",
      "        #'float32',\n",
      "                  usecols=(0,1,2,3), skiprows=17)\n",
      "BoxLenght = 1000.0/4.0 # Mpc h^{-1}\n",
      "\n",
      "#Observational data\n",
      "Obs_data = np.array([#  Mag,LumFunct, up_err, low_err #\n",
      "                     [-22.5, 2.66E-8, 9.08E-9, 7.78E-8],\n",
      "                     [-22.0, 2.18E-6, 8.70E-7, 9.70E-6],\n",
      "                     [-21.5, 1.45E-5, 2.88E-6, 2.92E-5],\n",
      "                     [-21.0, 1.29E-4, 7.06E-5, 2.19E-4],\n",
      "                     [-20.5, 2.30E-4, 9.34E-5, 5.77E-4]])\n",
      "                    # Magnitude,log_LumFunct\n",
      "Obs_data_log = array([  [ -22.5, -7.57511836, -8.04191415, -7.1090204 ],\n",
      "                        [ -22.0, -5.66154351, -6.06048075, -5.01322827],\n",
      "                        [ -21.5, -4.838632  , -5.54060751, -4.53461715],\n",
      "                        [ -21.0, -3.88941029, -4.1511953 , -3.65955589],\n",
      "                        [ -20.5, -3.63827216, -4.02965312, -3.23882419]])"
     ],
     "language": "python",
     "metadata": {},
     "outputs": [
      {
       "output_type": "stream",
       "stream": "stdout",
       "text": [
        "Populating the interactive namespace from numpy and matplotlib\n"
       ]
      }
     ],
     "prompt_number": 1
    },
    {
     "cell_type": "markdown",
     "metadata": {},
     "source": [
      "Magnitude: dimetionless\n",
      "\n",
      "Luminosity:  $[ \\text{erg } \\text{s}^{-1} \\text{Hz}^{-1} ]$"
     ]
    },
    {
     "cell_type": "code",
     "collapsed": false,
     "input": [
      "# This is the Luminosity function, \n",
      "# it has four parameters and one variable, \n",
      "# the halo mass: M.\n",
      "\n",
      "def Luminosity(M,L_0,M_0,beta,gamma):\n",
      "    return L_0*M*( (M/M_0)**(-beta) + (M/M_0)**gamma)**(-1)\n",
      "\n",
      "# Some necesary vectors: halo mass M, log_10(M) \n",
      "# and the luminosity of each halo: L.\n",
      "\n",
      "M=data[:,3]\n",
      "log_M = log(M[:])\n",
      "L=np.zeros(M.size)"
     ],
     "language": "python",
     "metadata": {},
     "outputs": [],
     "prompt_number": 2
    },
    {
     "cell_type": "code",
     "collapsed": false,
     "input": [
      "################################################################\n",
      "#                                                              #\n",
      "#                     The Random Walk                          #\n",
      "#                     fitting function                         #\n",
      "#                                                              #\n",
      "################################################################\n",
      "\n",
      "# Initial constants for the luminosity function\n",
      "\n",
      "L_0   = 10.0**(25.0)\n",
      "M_0   = 10.0**(11.5)\n",
      "beta  =  1.00\n",
      "gamma =  1.00\n",
      "\n",
      "# 4D sphere that needs 3 angles and one radius.\n",
      "phi_1 = 0.00 ;phi_2 = 0.00; phi_3 = 0.00"
     ],
     "language": "python",
     "metadata": {},
     "outputs": [],
     "prompt_number": 3
    },
    {
     "cell_type": "code",
     "collapsed": false,
     "input": [
      "for i in range(M.size):\n",
      "    L[i] = Luminosity( M[i], L_0, M_0, beta, gamma)\n",
      "    \n",
      "log_L = log(L[:])"
     ],
     "language": "python",
     "metadata": {},
     "outputs": [],
     "prompt_number": 4
    },
    {
     "cell_type": "code",
     "collapsed": false,
     "input": [
      "HIST = zeros(BINS-1)"
     ],
     "language": "python",
     "metadata": {},
     "outputs": [],
     "prompt_number": 5
    },
    {
     "cell_type": "code",
     "collapsed": false,
     "input": [],
     "language": "python",
     "metadata": {},
     "outputs": []
    },
    {
     "cell_type": "code",
     "collapsed": false,
     "input": [
      "HIST = histogram(log_L, bins=6, range=None, normed=False, weights=None, density=None)"
     ],
     "language": "python",
     "metadata": {},
     "outputs": [],
     "prompt_number": 60
    },
    {
     "cell_type": "code",
     "collapsed": false,
     "input": [
      "print HIST"
     ],
     "language": "python",
     "metadata": {},
     "outputs": [
      {
       "output_type": "stream",
       "stream": "stdout",
       "text": [
        "(array([ 3431, 89362, 48132, 21473,  8676,  2718]), array([ 77.95245424,  78.96641855,  79.98038286,  80.99434717,\n",
        "        82.00831147,  83.02227578,  84.03624009]))\n"
       ]
      }
     ],
     "prompt_number": 61
    },
    {
     "cell_type": "code",
     "collapsed": false,
     "input": [
      "plt.hist(log_L, bins=6, range=None)"
     ],
     "language": "python",
     "metadata": {},
     "outputs": [
      {
       "metadata": {},
       "output_type": "pyout",
       "prompt_number": 59,
       "text": [
        "(array([ 3431, 89362, 48132, 21473,  8676,  2718]),\n",
        " array([ 77.95245424,  78.96641855,  79.98038286,  80.99434717,\n",
        "         82.00831147,  83.02227578,  84.03624009]),\n",
        " <a list of 6 Patch objects>)"
       ]
      },
      {
       "metadata": {},
       "output_type": "display_data",
       "png": "[encoded data removed]",
       "text": [
        "<matplotlib.figure.Figure at 0x3143590>"
       ]
      }
     ],
     "prompt_number": 59
    },
    {
     "cell_type": "code",
     "collapsed": false,
     "input": [
      "HIST[1]"
     ],
     "language": "python",
     "metadata": {},
     "outputs": [
      {
       "metadata": {},
       "output_type": "pyout",
       "prompt_number": 34,
       "text": [
        "array([ 77.95245424,  78.96641855,  79.98038286,  80.99434717,\n",
        "        82.00831147,  83.02227578,  84.03624009])"
       ]
      }
     ],
     "prompt_number": 34
    },
    {
     "cell_type": "code",
     "collapsed": false,
     "input": [
      "HIST[0]"
     ],
     "language": "python",
     "metadata": {},
     "outputs": [
      {
       "metadata": {},
       "output_type": "pyout",
       "prompt_number": 36,
       "text": [
        "array([ 3431, 89362, 48132, 21473,  8676,  2718])"
       ]
      }
     ],
     "prompt_number": 36
    },
    {
     "cell_type": "code",
     "collapsed": false,
     "input": [],
     "language": "python",
     "metadata": {},
     "outputs": []
    }
   ],
   "metadata": {}
  }
 ]
}