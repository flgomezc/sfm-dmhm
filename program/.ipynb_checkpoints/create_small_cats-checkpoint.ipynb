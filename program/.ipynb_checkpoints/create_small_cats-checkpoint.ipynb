{
 "metadata": {
  "name": "",
  "signature": "sha256:27304e0f83a543af771bf019e704475f81b10024688484a776f150a8dbcd22bd"
 },
 "nbformat": 3,
 "nbformat_minor": 0,
 "worksheets": [
  {
   "cells": [
    {
     "cell_type": "code",
     "collapsed": false,
     "input": [
      "%pylab inline\n",
      "data = np.loadtxt('../data/MD_3840_Planck1/BDM/new_reduced_catshortV_007.dat',usecols=(0,1,2,3), skiprows=17)"
     ],
     "language": "python",
     "metadata": {},
     "outputs": [
      {
       "output_type": "stream",
       "stream": "stdout",
       "text": [
        "Populating the interactive namespace from numpy and matplotlib\n"
       ]
      }
     ],
     "prompt_number": 1
    },
    {
     "cell_type": "code",
     "collapsed": false,
     "input": [
      "files = [open('../data/MD_3840_Planck1/BDM/Small_Cells/%i.dat' %i, 'w') for i in range(64)]\n",
      "\n",
      "for l in range(data[:,3].size):\n",
      "    X = data[l,0]\n",
      "    Y = data[l,1]\n",
      "    Z = data[l,2]\n",
      "    for i in range(4):\n",
      "        if( (i*250<X) & (X<=(i+1)*250) ):\n",
      "            for j in range(4):\n",
      "                if( (j*250<Y) & (Y<=(j+1)*250)):\n",
      "                    for k in range(4):\n",
      "                        if( (k*250<Z) & (Z<=(k+1)*250)):\n",
      "                            files[i*1+j*4+k*16].write(  str(data[l,0])+\"\\t\"+\n",
      "                                                        str(data[l,1])+\"\\t\"+\n",
      "                                                        str(data[l,2])+\"\\t\"+\n",
      "                                                        str(data[l,3])+\"\\n\")\n",
      "                \n",
      "for f in files:\n",
      "    f.close()\n"
     ],
     "language": "python",
     "metadata": {},
     "outputs": [],
     "prompt_number": 5
    },
    {
     "cell_type": "code",
     "collapsed": false,
     "input": [],
     "language": "python",
     "metadata": {},
     "outputs": []
    }
   ],
   "metadata": {}
  }
 ]
}