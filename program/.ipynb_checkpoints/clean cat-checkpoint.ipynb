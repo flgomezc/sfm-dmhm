{
 "metadata": {
  "name": "",
  "signature": "sha256:b036ad95f03da170d8e329d628c44c404c54597ff3d398af0d68bae2d1deb72e"
 },
 "nbformat": 3,
 "nbformat_minor": 0,
 "worksheets": [
  {
   "cells": [
    {
     "cell_type": "code",
     "collapsed": false,
     "input": [
      "%pylab inline\n",
      "\n",
      "data = np.loadtxt(\n",
      "        #'../data/MD_3840_Planck1/BDM/small_cell_cat.dat',\n",
      "        '../data/MD_3840_Planck1/BDM/reduced_catshortV_007.dat',\n",
      "        '../data/MD_3840_Planck1/BDM/new_reduced_catshortV_007.dat',\n",
      "                   usecols=(0,1,2,3), skiprows=17)"
     ],
     "language": "python",
     "metadata": {},
     "outputs": [
      {
       "output_type": "stream",
       "stream": "stdout",
       "text": [
        "Populating the interactive namespace from numpy and matplotlib\n"
       ]
      }
     ],
     "prompt_number": 1
    },
    {
     "cell_type": "code",
     "collapsed": false,
     "input": [
      "log10_Mass = log10(data[:,3])\n",
      "figure(figsize=(10,8))\n",
      "hist(log10_Mass, bins=50)\n",
      "yscale('log')\n",
      "ylabel('Number of halos')\n",
      "xlabel('$\\log_{10} M$')\n",
      "axis([10.2,10.8,10**4.5,10**6.5])"
     ],
     "language": "python",
     "metadata": {},
     "outputs": [
      {
       "metadata": {},
       "output_type": "pyout",
       "prompt_number": 2,
       "text": [
        "[10.2, 10.8, 31622.776601683792, 3162277.6601683795]"
       ]
      },
      {
       "metadata": {},
       "output_type": "display_data",
       "png": "[encoded data removed]",
       "text": [
        "<matplotlib.figure.Figure at 0x96c044c>"
       ]
      }
     ],
     "prompt_number": 2
    },
    {
     "cell_type": "code",
     "collapsed": false,
     "input": [
      "new_data = open('../data/MD_3840_Planck1/BDM/new_reduced_catshortV_007.dat', \"w\")\n",
      "new_data.write(\"bigMD2.5Om27 Small Halos rejected below 1e10.5 solar mass\\nA = 0.14290\\nI = 0 Ngrid=\\nOmega_0= 0.30711 Omega_L= 0.67770\\nForce softening (kpch)\\nMinimum distance between\\nNumber of neighbours 20\\nNumber of buffered \\nSplit factor for 8\\nNumber of radial \\nStep in radius \\nMass of smallest 1.5054E+09\\nSubhalos rejection: virial \\noffset parameter limit \\nradius overshoot factor \\nOverdensity limit = \\nXYZ(Mpch) Vxyz(km/s) Mbound Vcirc(km/s)\")\n",
      "\n",
      "for i in range(data[:,3].size):\n",
      "    if(data[i,3]>=10**10.5):\n",
      "        new_data.write(str(data[i,0])+\"\\t\"+\n",
      "                       str(data[i,1])+\"\\t\"+\n",
      "                       str(data[i,2])+\"\\t\"+\n",
      "                       str(data[i,3])+\"\\n\")\n",
      "    if (i % 1000000==0):\n",
      "        print i\n",
      "new_data.close()"
     ],
     "language": "python",
     "metadata": {},
     "outputs": [
      {
       "output_type": "stream",
       "stream": "stdout",
       "text": [
        "0\n",
        "1000000"
       ]
      },
      {
       "output_type": "stream",
       "stream": "stdout",
       "text": [
        "\n",
        "2000000"
       ]
      },
      {
       "output_type": "stream",
       "stream": "stdout",
       "text": [
        "\n",
        "3000000"
       ]
      },
      {
       "output_type": "stream",
       "stream": "stdout",
       "text": [
        "\n",
        "4000000"
       ]
      },
      {
       "output_type": "stream",
       "stream": "stdout",
       "text": [
        "\n",
        "5000000"
       ]
      },
      {
       "output_type": "stream",
       "stream": "stdout",
       "text": [
        "\n",
        "6000000"
       ]
      },
      {
       "output_type": "stream",
       "stream": "stdout",
       "text": [
        "\n",
        "7000000"
       ]
      },
      {
       "output_type": "stream",
       "stream": "stdout",
       "text": [
        "\n",
        "8000000"
       ]
      },
      {
       "output_type": "stream",
       "stream": "stdout",
       "text": [
        "\n",
        "9000000"
       ]
      },
      {
       "output_type": "stream",
       "stream": "stdout",
       "text": [
        "\n",
        "10000000"
       ]
      },
      {
       "output_type": "stream",
       "stream": "stdout",
       "text": [
        "\n"
       ]
      }
     ],
     "prompt_number": 3
    },
    {
     "cell_type": "code",
     "collapsed": false,
     "input": [
      "#%pylab inline\n",
      "\n",
      "data = np.loadtxt('../data/MD_3840_Planck1/BDM/new_reduced_catshortV_007.dat',\n",
      "        #'../data/MD_3840_Planck1/BDM/small_cell_cat.dat',\n",
      "        #'../data/MD_3840_Planck1/BDM/reduced_catshortV_007.dat',\n",
      "                   usecols=(0,1,2,3), skiprows=17)\n",
      "log10_Mass = log10(data[:,3])"
     ],
     "language": "python",
     "metadata": {},
     "outputs": [],
     "prompt_number": 4
    },
    {
     "cell_type": "code",
     "collapsed": false,
     "input": [
      "log10_Mass = log10(data[:,3])\n",
      "figure(figsize=(10,8))\n",
      "hist(log10_Mass, bins=10)\n",
      "yscale('log')\n",
      "ylabel('Number of halos')\n",
      "xlabel('$\\log_{10} M$')\n",
      "#axis([10.2,10.8,10**4.5,10**6.5])"
     ],
     "language": "python",
     "metadata": {},
     "outputs": [
      {
       "metadata": {},
       "output_type": "pyout",
       "prompt_number": 5,
       "text": [
        "<matplotlib.text.Text at 0xaee6074c>"
       ]
      },
      {
       "metadata": {},
       "output_type": "display_data",
       "png": "[encoded data removed]",
       "text": [
        "<matplotlib.figure.Figure at 0xa93a720c>"
       ]
      }
     ],
     "prompt_number": 5
    },
    {
     "cell_type": "code",
     "collapsed": false,
     "input": [],
     "language": "python",
     "metadata": {},
     "outputs": []
    }
   ],
   "metadata": {}
  }
 ]
}