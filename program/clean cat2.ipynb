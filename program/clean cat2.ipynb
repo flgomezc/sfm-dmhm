{
 "metadata": {
  "name": "",
  "signature": "sha256:0e4fa7ffad972f7dc49e1534e4e504001400f692720e013bf2a0386239138e94"
 },
 "nbformat": 3,
 "nbformat_minor": 0,
 "worksheets": [
  {
   "cells": [
    {
     "cell_type": "code",
     "collapsed": false,
     "input": [
      "%pylab inline"
     ],
     "language": "python",
     "metadata": {},
     "outputs": [
      {
       "output_type": "stream",
       "stream": "stdout",
       "text": [
        "Populating the interactive namespace from numpy and matplotlib\n"
       ]
      }
     ],
     "prompt_number": 1
    },
    {
     "cell_type": "code",
     "collapsed": false,
     "input": [
      "data = np.loadtxt(\n",
      "        #'../data/MD_3840_Planck1/BDM/small_cell_cat.dat',\n",
      "        #'../data/MD_3840_Planck1/BDM/reduced_catshortV_007.dat',\n",
      "        '../data/MD_3840_Planck1/BDM/new_reduced_catshortV_007.dat',\n",
      "                   usecols=(0,1,2,3), skiprows=17)\n",
      "\n",
      "new_data = open('../data/MD_3840_Planck1/BDM/new_reduced_catshortV_007.dat', \"w\")\n",
      "new_data.write(\"bigMD2.5Om27 Small Halos rejected below 1e10.5 solar mass\\nA = 0.14290\\nI = 0 Ngrid=\\nOmega_0= 0.30711 Omega_L= 0.67770\\nForce softening (kpch)\\nMinimum distance between\\nNumber of neighbours 20\\nNumber of buffered \\nSplit factor for 8\\nNumber of radial \\nStep in radius \\nMass of smallest 1.5054E+09\\nSubhalos rejection: virial \\noffset parameter limit \\nradius overshoot factor \\nOverdensity limit = \\nXYZ(Mpch) Vxyz(km/s) Mbound Vcirc(km/s)\\n\")\n",
      "\n",
      "\n",
      "index = where( data[:,3] >= 10**10.50 )\n",
      "\n",
      "newdata = data[index[:]]\n",
      "\n",
      "for line in newdata:\n",
      "    new_data.write(str(line[0])+\"\\t\"+str(line[1])+\"\\t\"+str(line[2])+\"\\t\"+'{:e}'.format(float(str(line[3])))+\"\\n\")\n",
      "    \n",
      "new_data.close()"
     ],
     "language": "python",
     "metadata": {},
     "outputs": [],
     "prompt_number": 2
    },
    {
     "cell_type": "code",
     "collapsed": false,
     "input": [],
     "language": "python",
     "metadata": {},
     "outputs": []
    }
   ],
   "metadata": {}
  }
 ]
}