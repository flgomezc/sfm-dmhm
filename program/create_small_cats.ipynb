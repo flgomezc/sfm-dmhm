{
 "metadata": {
  "name": "",
  "signature": "sha256:b653bb757374b3e2b0c6ca304d76afcb010d401a9a8f91db561de68c46ebaec2"
 },
 "nbformat": 3,
 "nbformat_minor": 0,
 "worksheets": [
  {
   "cells": [
    {
     "cell_type": "code",
     "collapsed": false,
     "input": [
      "%pylab inline\n",
      "data = np.loadtxt('../data/MD_3840_Planck1/BDM/new_reduced_catshortV_007.dat',usecols=(0,1,2,3), skiprows=17)"
     ],
     "language": "python",
     "metadata": {},
     "outputs": [
      {
       "output_type": "stream",
       "stream": "stdout",
       "text": [
        "Populating the interactive namespace from numpy and matplotlib\n"
       ]
      }
     ],
     "prompt_number": 1
    },
    {
     "cell_type": "code",
     "collapsed": false,
     "input": [
      "files = [open('../data/MD_3840_Planck1/BDM/Small_Cells/%i.dat' %i, 'w') for i in range(64)]\n",
      "\n",
      "\n",
      "for i in range(4):\n",
      "    for j in range(4):\n",
      "        for k in range(4):\n",
      "            index = where((i*250<data[:,0])&(data[:,0]<=(i+1)*250)\n",
      "                         &(j*250<data[:,1])&(data[:,1]<=(j+1)*250)\n",
      "                         &(k*250<data[:,2])&(data[:,2]<=(k+1)*250))\n",
      "            newdata = data[index[:]]\n",
      "            \n",
      "            for line in newdata:\n",
      "                files[i*1+j*4+k*16].write(str(line[0])+\"\\t\"\n",
      "                                  +str(line[1])+\"\\t\"\n",
      "                                  +str(line[2])+\"\\t\"\n",
      "                                  +'{:e}'.format(float(str(line[3])))\n",
      "                                  +\"\\n\")\n",
      "for f in files:\n",
      "    f.close()\n",
      "            \n",
      "                "
     ],
     "language": "python",
     "metadata": {},
     "outputs": [],
     "prompt_number": 2
    },
    {
     "cell_type": "code",
     "collapsed": false,
     "input": [],
     "language": "python",
     "metadata": {},
     "outputs": []
    }
   ],
   "metadata": {}
  }
 ]
}