{
 "metadata": {
  "name": "",
  "signature": "sha256:30b168e0e21257e23864064a0b8c84b69071263b397caf98eb671655fd9ae568"
 },
 "nbformat": 3,
 "nbformat_minor": 0,
 "worksheets": [
  {
   "cells": [
    {
     "cell_type": "code",
     "collapsed": false,
     "input": [
      "%pylab inline\n",
      "data = np.loadtxt('../data/MD_3840_Planck1/BDM/new_reduced_catshortV_007.dat',usecols=(0,1,2,3), skiprows=17)"
     ],
     "language": "python",
     "metadata": {},
     "outputs": [
      {
       "output_type": "stream",
       "stream": "stdout",
       "text": [
        "Populating the interactive namespace from numpy and matplotlib\n"
       ]
      }
     ],
     "prompt_number": 1
    },
    {
     "cell_type": "code",
     "collapsed": false,
     "input": [
      "files = [open('../data/MD_3840_Planck1/BDM/Small_Cells/%i.dat' %i, 'w') for i in range(64)]\n",
      "\n",
      "for l in range(data[:,3].size):\n",
      "    if (l%100000==0):print l\n",
      "    X = data[l,0]\n",
      "    Y = data[l,1]\n",
      "    Z = data[l,2]\n",
      "    for i in range(4):\n",
      "        if( (i*250<X) & (X<=(i+1)*250) ):\n",
      "            for j in range(4):\n",
      "                if( (j*250<Y) & (Y<=(j+1)*250)):\n",
      "                    for k in range(4):\n",
      "                        if( (k*250<Z) & (Z<=(k+1)*250)):\n",
      "                            files[i*1+j*4+k*16].write(  str(data[l,0])+\"\\t\"+\n",
      "                                                        str(data[l,1])+\"\\t\"+\n",
      "                                                        str(data[l,2])+\"\\t\"+\n",
      "                                                        str(data[l,3])+\"\\n\")\n",
      "                \n",
      "for f in files:\n",
      "    f.close()\n"
     ],
     "language": "python",
     "metadata": {},
     "outputs": [
      {
       "output_type": "stream",
       "stream": "stdout",
       "text": [
        "0\n",
        "100000"
       ]
      }
     ]
    },
    {
     "cell_type": "code",
     "collapsed": false,
     "input": [],
     "language": "python",
     "metadata": {},
     "outputs": []
    }
   ],
   "metadata": {}
  }
 ]
}