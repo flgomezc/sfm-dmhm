{
 "metadata": {
  "name": "",
  "signature": "sha256:94264a3d0ed1102d09ac30b56412cd5c01fbd258bb0843171a99058ed17627f2"
 },
 "nbformat": 3,
 "nbformat_minor": 0,
 "worksheets": [
  {
   "cells": [
    {
     "cell_type": "code",
     "collapsed": false,
     "input": [
      "%pylab inline"
     ],
     "language": "python",
     "metadata": {},
     "outputs": [
      {
       "output_type": "stream",
       "stream": "stdout",
       "text": [
        "Populating the interactive namespace from numpy and matplotlib\n"
       ]
      }
     ],
     "prompt_number": 1
    },
    {
     "cell_type": "code",
     "collapsed": false,
     "input": [
      "#from astropy.cosmology import Planck13 as cosmo\n",
      "from astropy.cosmology import FlatLambdaCDM\n",
      "from astropy import units as u"
     ],
     "language": "python",
     "metadata": {},
     "outputs": [],
     "prompt_number": 2
    },
    {
     "cell_type": "code",
     "collapsed": false,
     "input": [
      "cosmo = FlatLambdaCDM( H0=70, Om0=0.3)\n",
      "cosmo"
     ],
     "language": "python",
     "metadata": {},
     "outputs": [
      {
       "metadata": {},
       "output_type": "pyout",
       "prompt_number": 3,
       "text": [
        "FlatLambdaCDM(H0=70 km / (Mpc s), Om0=0.3, Tcmb0=2.725 K, Neff=3.04, m_nu=[ 0.  0.  0.] eV, Ob0=None)"
       ]
      }
     ],
     "prompt_number": 3
    },
    {
     "cell_type": "markdown",
     "metadata": {},
     "source": [
      "#SMALL BOX SIZE\n",
      "$V \\sim 156 \\times 10^5 \\textrm{Mpc}^3 h^{-3}$"
     ]
    },
    {
     "cell_type": "code",
     "collapsed": false,
     "input": [
      "(250 *u.Mpc / 0.7)**3"
     ],
     "language": "python",
     "metadata": {},
     "outputs": [
      {
       "latex": [
        "$45553936 \\; \\mathrm{Mpc^{3}}$"
       ],
       "metadata": {},
       "output_type": "pyout",
       "prompt_number": 4,
       "text": [
        "<Quantity 45553935.860058315 Mpc3>"
       ]
      }
     ],
     "prompt_number": 4
    },
    {
     "cell_type": "markdown",
     "metadata": {},
     "source": [
      "|   Dataset   | Volume $\\left( 10^6 \\textrm{Mpc}^3\\right)$|\n",
      "|:-----------:|-------------------------------------|\n",
      "| Willott     | 10.9                                |\n",
      "| McLure      | 3.3                                 |\n",
      "| Bouwens     | 1.8                                 |\n",
      "| Finkelstein | 0.8                                 |\n"
     ]
    },
    {
     "cell_type": "markdown",
     "metadata": {},
     "source": [
      "# Willott\n",
      "FOV $\\sim 4 \\deg^2$\n",
      "\n",
      "$V \\sim 1.09 \\times 10^7 \\textrm{Mpc}^3$"
     ]
    },
    {
     "cell_type": "code",
     "collapsed": false,
     "input": [
      "alpha = (2 *u.deg)\n",
      "beta  = (2 *u.deg)\n",
      "z1 = 5.757        ### Lower redshift by the criteria selction, without the serendipitous outlier\n",
      "z  = 5.9          ### Mean redshift\n",
      "z2 = 6.068        ### Maximun spectroscopic redshift\n",
      "\n",
      "FOV = alpha*beta\n",
      "\n",
      "L1 = (cosmo.kpc_comoving_per_arcmin(z)*alpha).to(u.Mpc)\n",
      "L2 = (cosmo.kpc_comoving_per_arcmin(z)*beta).to(u.Mpc)\n",
      "L3 = cosmo.comoving_distance(z2) -cosmo.comoving_distance(z1)\n",
      "volume = L1*L2*L3 \n",
      "print L1\n",
      "print L2\n",
      "print L3\n",
      "print \"Volume ~\", volume"
     ],
     "language": "python",
     "metadata": {},
     "outputs": [
      {
       "output_type": "stream",
       "stream": "stdout",
       "text": [
        "286.291358681 Mpc\n",
        "286.291358681 Mpc\n",
        "133.245634024 Mpc\n",
        "Volume ~ 10921177.5316 Mpc3\n"
       ]
      }
     ],
     "prompt_number": 5
    },
    {
     "cell_type": "markdown",
     "metadata": {},
     "source": [
      "# Bouwens\n",
      "FOV $\\sim 0.7 \\deg^2$\n",
      "\n",
      "$V \\sim 1.8\\times 10^6 \\textrm{Mpc}^3$"
     ]
    },
    {
     "cell_type": "code",
     "collapsed": false,
     "input": [
      "Barea = 4.7 + 4.7 + 4.7 + 64.5 + 34.2+40.5+68.3+65.4+151.2+151.9+150.7\n",
      "\n",
      "print \"Bouwens z6 area=\",Barea\n",
      "\n",
      "alpha = (Barea**0.5)*u.arcmin\n",
      "beta = alpha\n",
      "\n",
      "print alpha*beta"
     ],
     "language": "python",
     "metadata": {},
     "outputs": [
      {
       "output_type": "stream",
       "stream": "stdout",
       "text": [
        "Bouwens z6 area= 740.8\n",
        "740.8 arcmin2\n"
       ]
      }
     ],
     "prompt_number": 55
    },
    {
     "cell_type": "code",
     "collapsed": false,
     "input": [
      "#\n",
      "#alpha = (0.7**0.5 *u.deg)\n",
      "#beta  = (0.7**0.5 *u.deg)\n",
      "z1 = 5.4\n",
      "z  = 6.0\n",
      "z2 = 6.4\n",
      "\n",
      "FOV = alpha*beta\n",
      "\n",
      "L1 = (cosmo.kpc_comoving_per_arcmin(z)*alpha).to(u.Mpc)\n",
      "L2 = (cosmo.kpc_comoving_per_arcmin(z)*beta).to(u.Mpc)\n",
      "L3 = cosmo.comoving_distance(z2) - cosmo.comoving_distance(z1)\n",
      "volume = L1*L2*L3 \n",
      "print L1\n",
      "print L2\n",
      "print L3\n",
      "print \"Volume ~\", volume"
     ],
     "language": "python",
     "metadata": {},
     "outputs": [
      {
       "output_type": "stream",
       "stream": "stdout",
       "text": [
        "65.2711881533 Mpc\n",
        "65.2711881533 Mpc\n",
        "430.854902388 Mpc\n",
        "Volume ~ 1835583.20585 Mpc3\n"
       ]
      }
     ],
     "prompt_number": 56
    },
    {
     "cell_type": "code",
     "collapsed": false,
     "input": [
      "940.1 / 3600"
     ],
     "language": "python",
     "metadata": {},
     "outputs": [
      {
       "metadata": {},
       "output_type": "pyout",
       "prompt_number": 59,
       "text": [
        "0.2611388888888889"
       ]
      }
     ],
     "prompt_number": 59
    },
    {
     "cell_type": "markdown",
     "metadata": {},
     "source": [
      "# McLure\n",
      "FOV $\\sim 0.63 \\deg^2$\n",
      "\n",
      "$V \\sim 3.3 \\times 10^6 \\textrm{Mpc}^3$"
     ]
    },
    {
     "cell_type": "code",
     "collapsed": false,
     "input": [
      "\n",
      "alpha = (0.63**0.5 *u.deg).to(u.arcmin)\n",
      "beta  = (0.63**0.5 *u.deg).to(u.arcmin)\n",
      "z1 = 5.7\n",
      "z  = 6.0\n",
      "z2 = 6.3\n",
      "\n",
      "FOV = alpha*beta\n",
      "\n",
      "L1 = (cosmo.kpc_comoving_per_arcmin(z)*alpha).to(u.Mpc)\n",
      "L2 = (cosmo.kpc_comoving_per_arcmin(z)*beta).to(u.Mpc)\n",
      "L3 = cosmo.comoving_distance(z2) - cosmo.comoving_distance(z1)\n",
      "volume = L1*L2*L3 \n",
      "print L1\n",
      "print L2\n",
      "print L3\n",
      "print \"Volume ~\", volume"
     ],
     "language": "python",
     "metadata": {},
     "outputs": [
      {
       "output_type": "stream",
       "stream": "stdout",
       "text": [
        "114.206956098 Mpc\n",
        "114.206956098 Mpc\n",
        "252.496642615 Mpc\n",
        "Volume ~ 3293371.48619 Mpc3\n"
       ]
      }
     ],
     "prompt_number": 8
    },
    {
     "cell_type": "code",
     "collapsed": false,
     "input": [],
     "language": "python",
     "metadata": {},
     "outputs": [],
     "prompt_number": 8
    },
    {
     "cell_type": "markdown",
     "metadata": {},
     "source": [
      "#Finkelstein\n",
      "\n",
      "Number of Galaxies\n",
      "\n",
      "$N_{all} = 706$\n",
      "\n",
      "\n",
      "\n",
      "$N_{M<-21} = 28$\n",
      "\n",
      "$V_{eff}\\left(M_{1500=-22}\\right) = 7.93 \\times 10^5 \\textrm{Mpc}^3$\n",
      "\n",
      "$V_{eff}\\left(M_{1500=-19}\\right) = 2.50 \\times 10^5 \\textrm{Mpc}^3$"
     ]
    },
    {
     "cell_type": "code",
     "collapsed": false,
     "input": [
      "TotalArea = 61.6 + 41.4 + 35.6 + 67.6 + 71.7 + 5.1 + 4.7 + 4.8 + 4.4 + 4.3\n",
      "print TotalArea, 'arcmin2'"
     ],
     "language": "python",
     "metadata": {},
     "outputs": [
      {
       "output_type": "stream",
       "stream": "stdout",
       "text": [
        "301.2 arcmin2\n"
       ]
      }
     ],
     "prompt_number": 32
    },
    {
     "cell_type": "code",
     "collapsed": false,
     "input": [
      "L = sqrt(TotalArea)\n",
      "print L"
     ],
     "language": "python",
     "metadata": {},
     "outputs": [
      {
       "output_type": "stream",
       "stream": "stdout",
       "text": [
        "17.3551145199\n"
       ]
      }
     ],
     "prompt_number": 33
    },
    {
     "cell_type": "code",
     "collapsed": false,
     "input": [
      "L=L*u.arcmin\n",
      "print L"
     ],
     "language": "python",
     "metadata": {},
     "outputs": [
      {
       "output_type": "stream",
       "stream": "stdout",
       "text": [
        "17.3551145199 arcmin\n"
       ]
      }
     ],
     "prompt_number": 34
    },
    {
     "cell_type": "code",
     "collapsed": false,
     "input": [
      "L.to(u.degree)"
     ],
     "language": "python",
     "metadata": {},
     "outputs": [
      {
       "latex": [
        "$0.28925191 \\; \\mathrm{{}^{\\circ}}$"
       ],
       "metadata": {},
       "output_type": "pyout",
       "prompt_number": 35,
       "text": [
        "<Quantity 0.28925190866555517 deg>"
       ]
      }
     ],
     "prompt_number": 35
    },
    {
     "cell_type": "code",
     "collapsed": false,
     "input": [
      "alpha = L\n",
      "beta  = L\n",
      "z1 = 5.5        ### Lower redshift by the criteria selction, without the serendipitous outlier\n",
      "z  = 6.0          ### Mean redshift\n",
      "z2 = 6.5        ### Maximun spectroscopic redshift\n",
      "\n",
      "FOV = alpha*beta\n",
      "\n",
      "L1 = (cosmo.kpc_comoving_per_arcmin(z)*alpha).to(u.Mpc)\n",
      "L2 = (cosmo.kpc_comoving_per_arcmin(z)*beta).to(u.Mpc)\n",
      "L3 = cosmo.comoving_distance(z2) -cosmo.comoving_distance(z1)\n",
      "volume = L1*L2*L3 \n",
      "print L1\n",
      "print L2\n",
      "print L3\n",
      "print \"Volume ~\", volume"
     ],
     "language": "python",
     "metadata": {},
     "outputs": [
      {
       "output_type": "stream",
       "stream": "stdout",
       "text": [
        "41.6196587789 Mpc\n",
        "41.6196587789 Mpc\n",
        "421.674548033 Mpc\n",
        "Volume ~ 730422.964087 Mpc3\n"
       ]
      }
     ],
     "prompt_number": 36
    },
    {
     "cell_type": "code",
     "collapsed": false,
     "input": [
      "L\n",
      "#Finkelstein"
     ],
     "language": "python",
     "metadata": {},
     "outputs": [
      {
       "latex": [
        "$17.355115 \\; \\mathrm{{}^{\\prime}}$"
       ],
       "metadata": {},
       "output_type": "pyout",
       "prompt_number": 37,
       "text": [
        "<Quantity 17.35511451993331 arcmin>"
       ]
      }
     ],
     "prompt_number": 37
    },
    {
     "cell_type": "code",
     "collapsed": false,
     "input": [
      "((0.7**0.5)*u.deg).to(u.arcmin)\n",
      "#Bouwens"
     ],
     "language": "python",
     "metadata": {},
     "outputs": [
      {
       "latex": [
        "$50.199602 \\; \\mathrm{{}^{\\prime}}$"
       ],
       "metadata": {},
       "output_type": "pyout",
       "prompt_number": 38,
       "text": [
        "<Quantity 50.19960159204453 arcmin>"
       ]
      }
     ],
     "prompt_number": 38
    },
    {
     "cell_type": "code",
     "collapsed": false,
     "input": [],
     "language": "python",
     "metadata": {},
     "outputs": []
    }
   ],
   "metadata": {}
  }
 ]
}