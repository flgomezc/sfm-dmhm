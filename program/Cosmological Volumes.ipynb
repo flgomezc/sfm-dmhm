{
 "metadata": {
  "name": "",
  "signature": "sha256:c5da5d45224bcae493fa927686a08a002996a4b3e76f951e126532d3957152f3"
 },
 "nbformat": 3,
 "nbformat_minor": 0,
 "worksheets": [
  {
   "cells": [
    {
     "cell_type": "code",
     "collapsed": false,
     "input": [
      "%pylab inline"
     ],
     "language": "python",
     "metadata": {},
     "outputs": [
      {
       "output_type": "stream",
       "stream": "stdout",
       "text": [
        "Populating the interactive namespace from numpy and matplotlib\n"
       ]
      }
     ],
     "prompt_number": 1
    },
    {
     "cell_type": "code",
     "collapsed": false,
     "input": [
      "#from astropy.cosmology import Planck13 as cosmo\n",
      "from astropy.cosmology import FlatLambdaCDM\n",
      "from astropy import units as u"
     ],
     "language": "python",
     "metadata": {},
     "outputs": [],
     "prompt_number": 8
    },
    {
     "cell_type": "code",
     "collapsed": false,
     "input": [
      "cosmo = FlatLambdaCDM( H0=70, Om0=0.3)\n",
      "cosmo"
     ],
     "language": "python",
     "metadata": {},
     "outputs": [
      {
       "metadata": {},
       "output_type": "pyout",
       "prompt_number": 17,
       "text": [
        "FlatLambdaCDM(H0=70 km / (Mpc s), Om0=0.3, Tcmb0=2.725 K, Neff=3.04, m_nu=[ 0.  0.  0.] eV, Ob0=None)"
       ]
      }
     ],
     "prompt_number": 17
    },
    {
     "cell_type": "markdown",
     "metadata": {},
     "source": [
      "#SMALL BOX SIZE\n",
      "$V \\sim 156 \\times 10^5 \\textrm{Mpc}^3 h^{-3}$"
     ]
    },
    {
     "cell_type": "code",
     "collapsed": false,
     "input": [
      "(250 *u.Mpc)**3"
     ],
     "language": "python",
     "metadata": {},
     "outputs": [
      {
       "latex": [
        "$15625000 \\; \\mathrm{Mpc^{3}}$"
       ],
       "metadata": {},
       "output_type": "pyout",
       "prompt_number": 25,
       "text": [
        "<Quantity 15625000.0 Mpc3>"
       ]
      }
     ],
     "prompt_number": 25
    },
    {
     "cell_type": "markdown",
     "metadata": {},
     "source": [
      "# Willott\n",
      "FOV $\\sim 4 \\deg^2$\n",
      "\n",
      "$V \\sim 609 \\times 10^5 \\textrm{Mpc}^3 h^{-3}$"
     ]
    },
    {
     "cell_type": "code",
     "collapsed": false,
     "input": [
      "alpha = (2 *u.deg)\n",
      "beta  = (2 *u.deg)\n",
      "z1 = 5.7\n",
      "z  = 6.0\n",
      "z2 = 6.3\n",
      "\n",
      "FOV = alpha*beta\n",
      "\n",
      "L1 = (cosmo.kpc_comoving_per_arcmin(z)*alpha).to(u.Mpc)/cosmo.h\n",
      "L2 = (cosmo.kpc_comoving_per_arcmin(z)*beta).to(u.Mpc)/cosmo.h\n",
      "L3 = cosmo.comoving_distance(6.3)/cosmo.h-cosmo.comoving_distance(5.7)/cosmo.h\n",
      "volume = L1*L2*L3 \n",
      "print L1\n",
      "print L2\n",
      "print L3\n",
      "print \"Volume ~\", volume"
     ],
     "language": "python",
     "metadata": {},
     "outputs": [
      {
       "output_type": "stream",
       "stream": "stdout",
       "text": [
        "411.106399766 Mpc\n",
        "411.106399766 Mpc\n",
        "360.70948945 Mpc\n",
        "Volume ~ 60962959.6222 Mpc3\n"
       ]
      }
     ],
     "prompt_number": 24
    },
    {
     "cell_type": "markdown",
     "metadata": {},
     "source": [
      "# Bouwens\n",
      "FOV $\\sim 0.7 \\deg^2$\n",
      "\n",
      "$V \\sim 106 \\times 10^5 \\textrm{Mpc}^3 h^{-3}$"
     ]
    },
    {
     "cell_type": "code",
     "collapsed": false,
     "input": [
      "\n",
      "alpha = (0.7**0.5 *u.deg)\n",
      "beta  = (0.7**0.5 *u.deg)\n",
      "z1 = 5.7\n",
      "z  = 6.0\n",
      "z2 = 6.3\n",
      "\n",
      "FOV = alpha*beta\n",
      "\n",
      "L1 = (cosmo.kpc_comoving_per_arcmin(z)*alpha).to(u.Mpc)/cosmo.h\n",
      "L2 = (cosmo.kpc_comoving_per_arcmin(z)*beta).to(u.Mpc)/cosmo.h\n",
      "L3 = cosmo.comoving_distance(6.3)/cosmo.h-cosmo.comoving_distance(5.7)/cosmo.h\n",
      "volume = L1*L2*L3 \n",
      "print L1\n",
      "print L2\n",
      "print L3\n",
      "print \"Volume ~\", volume"
     ],
     "language": "python",
     "metadata": {},
     "outputs": [
      {
       "output_type": "stream",
       "stream": "stdout",
       "text": [
        "171.978145668 Mpc\n",
        "171.978145668 Mpc\n",
        "360.70948945 Mpc\n",
        "Volume ~ 10668517.9339 Mpc3\n"
       ]
      }
     ],
     "prompt_number": 19
    },
    {
     "cell_type": "markdown",
     "metadata": {},
     "source": [
      "# McLure\n",
      "FOV $\\sim 0.63 \\deg^2$\n",
      "\n",
      "$V \\sim 96.0 \\times 10^5 \\textrm{Mpc}^3 h^{-3}$"
     ]
    },
    {
     "cell_type": "code",
     "collapsed": false,
     "input": [
      "\n",
      "alpha = (0.63**0.5 *u.deg).to(u.arcmin)\n",
      "beta  = (0.63**0.5 *u.deg).to(u.arcmin)\n",
      "z1 = 5.7\n",
      "z  = 6.0\n",
      "z2 = 6.3\n",
      "\n",
      "FOV = alpha*beta\n",
      "\n",
      "L1 = (cosmo.kpc_comoving_per_arcmin(z)*alpha).to(u.Mpc)/cosmo.h\n",
      "L2 = (cosmo.kpc_comoving_per_arcmin(z)*beta).to(u.Mpc)/cosmo.h\n",
      "L3 = cosmo.comoving_distance(6.3)/cosmo.h-cosmo.comoving_distance(5.7)/cosmo.h\n",
      "volume = L1*L2*L3 \n",
      "print L1\n",
      "print L2\n",
      "print L3\n",
      "print \"Volume ~\", volume"
     ],
     "language": "python",
     "metadata": {},
     "outputs": [
      {
       "output_type": "stream",
       "stream": "stdout",
       "text": [
        "163.152794425 Mpc\n",
        "163.152794425 Mpc\n",
        "360.70948945 Mpc\n",
        "Volume ~ 9601666.14049 Mpc3\n"
       ]
      }
     ],
     "prompt_number": 29
    },
    {
     "cell_type": "markdown",
     "metadata": {},
     "source": [
      "#Finklator\n",
      "\n",
      "Number of Galaxies\n",
      "\n",
      "$N_{all} = 706$\n",
      "\n",
      "\n",
      "\n",
      "$N_{M<-21} = 28$\n",
      "\n",
      "$V_{eff}\\left(M_{1500=-22}\\right) = 7.93 \\times 10^5 \\textrm{Mpc}^3$\n",
      "\n",
      "$V_{eff}\\left(M_{1500=-19}\\right) = 2.50 \\times 10^5 \\textrm{Mpc}^3$"
     ]
    },
    {
     "cell_type": "code",
     "collapsed": false,
     "input": [],
     "language": "python",
     "metadata": {},
     "outputs": []
    }
   ],
   "metadata": {}
  }
 ]
}