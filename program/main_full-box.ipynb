{
 "metadata": {
  "name": "",
  "signature": "sha256:ce7ecfc8f20b136805f537ef6e41f0d6288cf9192097b34c586ee0bd5e9c60c0"
 },
 "nbformat": 3,
 "nbformat_minor": 0,
 "worksheets": [
  {
   "cells": [
    {
     "cell_type": "code",
     "collapsed": false,
     "input": [
      "# Last modification: 2014-jun-03\n",
      "%pylab inline\n",
      "\n",
      "from random import *\n",
      "from observational_data import *\n",
      "# Obs_data1: Willot  et al 2013\n",
      "# obs_data2: Bouwens et al 2014\n",
      "# obs_data3: McLure  et al 2009\n",
      "\n",
      "#############################################\n",
      "#                                           #\n",
      "#            Loading data file              #\n",
      "#                                           #\n",
      "#############################################\n",
      "\n",
      "# Data columns:\n",
      "# X (Mpc h^-1), Y (Mpc h^-1), Z (Mpc h^-1), Halo mass (Solar Mass)\n",
      "data = np.loadtxt(\n",
      "    '../data/MD_3840_Planck1/BDM/new_reduced_catshortV_007.dat',usecols=(0,1,2,3), skiprows=17); BoxLength = 1000.0 # Mpc h^{-1}\n",
      "    #'../data/MD_3840_Planck1/BDM/Small_Cells/0.dat', usecols=(0,1,2,3), skiprows=0); BoxLength = 250.0 # Mpc h^{-1}\n",
      "\n",
      "def Luminosity(M,L_0,M_0,beta,gamma):\n",
      "    return L_0*M*( (M/M_0)**(-beta) + (M/M_0)**gamma)**(-1)\n",
      "\n",
      "def StarFormationRate(M,L_0,M_0,beta,gamma):\n",
      "    return Luminosity(M,L_0,M_0,beta,gamma) * 1.4e-28"
     ],
     "language": "python",
     "metadata": {},
     "outputs": [
      {
       "output_type": "stream",
       "stream": "stdout",
       "text": [
        "Populating the interactive namespace from numpy and matplotlib\n"
       ]
      },
      {
       "output_type": "stream",
       "stream": "stderr",
       "text": [
        "observational_data.py:61: RuntimeWarning: divide by zero encountered in divide\n",
        "  Obs_data2_log10yerror = [array(log10(Bouwens[:,1]/(Bouwens[:,1]-Bouwens[:,2]))),\n"
       ]
      }
     ],
     "prompt_number": 1
    },
    {
     "cell_type": "code",
     "collapsed": false,
     "input": [
      "M       = data[:,3]\n",
      "log10_M = log10(M[:])\n",
      "L       = np.zeros(M.size)\n",
      "L_R     = np.zeros(M.size)\n",
      "seed(None) # seed(None) uses curent time as seed.\n",
      "MCMC_reg = open(\"MCMC_reg_fullbox.dat\", \"w\")\n",
      "\n",
      "################################################################\n",
      "#                                                              #\n",
      "#                     The Random Walk                          #\n",
      "#                     fitting function                         #\n",
      "#                                                              #\n",
      "################################################################\n",
      "\n",
      "# Initial constants for the luminosity function\n",
      "#  L_0          log10( M_0)    beta             gamma         Xi**2\n",
      "# 17.651076186 11.3103664009 0.863881819343 0.532187082693 0.0478280976379\n",
      "L_0   = 10.0**(17.65)\n",
      "M_0   = 10.0**(11.31)\n",
      "beta  =  0.86\n",
      "gamma =  0.53\n",
      "\n",
      "#Calculate the histogram and Xi_sqr for first time.\n",
      "#for i in range(M.size):\n",
      "L[:] = Luminosity( M[:], L_0, M_0, beta, gamma)\n",
      "Magnitude_UV_galaxy_list = 51.82 - 2.5 * log10(L[:])\n",
      "\n",
      "HIST1 = 1.0*histogram(Magnitude_UV_galaxy_list,bins=HIST1_bins)[0]\n",
      "HIST2 = 1.0*histogram(Magnitude_UV_galaxy_list,bins=HIST2_bins)[0]\n",
      "HIST3 = 1.0*histogram(Magnitude_UV_galaxy_list,bins=HIST3_bins)[0]\n",
      "\n",
      "### Normalize the histograms\n",
      "for i in range(len(HIST1)):\n",
      "    HIST1[i] = HIST1[i]/((HIST1_bins[i+1]-HIST1_bins[i])*BoxLength**3)\n",
      "for i in range(len(HIST2)):\n",
      "    HIST2[i] = HIST2[i]*1.0/(1.0*(HIST2_bins[i+1]-HIST2_bins[i])*BoxLength**3)\n",
      "for i in range(len(HIST3)):\n",
      "    HIST3[i] = HIST3[i]/((HIST3_bins[i+1]-HIST3_bins[i])*BoxLength**3)\n",
      "\n",
      "    \n",
      "    ### Calculate chi2 as the sum for each histogram\n",
      "NOB = 0\n",
      "chi_sqr=0.0\n",
      "for i in range(len(HIST1)):\n",
      "    if (HIST1[i] != 0.0):\n",
      "        chi_sqr = chi_sqr + (( log10(HIST1[i])-Obs_data1_log10[i,1] )**2 )/(2*sigma1[i]**2)\n",
      "        NOB += 1\n",
      "for i in range(len(HIST2)):\n",
      "    if (HIST2[i] != 0.0):\n",
      "        chi_sqr = chi_sqr + (( log10(HIST2[i])-Obs_data2_log10[i,1] )**2 )/(2*sigma2[i]**2)\n",
      "        NOB += 1\n",
      "for i in range(len(HIST3)):\n",
      "    if (HIST3[i] != 0.0):\n",
      "        chi_sqr = chi_sqr + (( log10(HIST3[i])-Obs_data3_log10[i,1] )**2 )/(2*sigma3[i]**2)\n",
      "        NOB += 1\n",
      "\n",
      "if NOB > 4:\n",
      "    NDF = NOB-4\n",
      "else:\n",
      "    NDF = 1.0e-10\n",
      "\n",
      "chi_sqr = chi_sqr / NDF\n",
      "\n",
      "MCMC_reg.write(\"# L_0 \\t M_0 \\t beta \\t gamma \\t chi_sqr \\t Number of Bins\")\n",
      "\n",
      "MCMC_reg.write(str(log10(L_0))+\"\\t\"+str(log10(M_0))+\"\\t\"+str(beta)+\"\\t\"+str(gamma)+\"\\t\"+str(chi_sqr)+\"\\t\"+str(NOB)+\"\\n\")"
     ],
     "language": "python",
     "metadata": {},
     "outputs": [],
     "prompt_number": 2
    },
    {
     "cell_type": "code",
     "collapsed": false,
     "input": [
      "################################################################\n",
      "#                                                              #\n",
      "#                 Markov Chain Monte Carlo                     #\n",
      "#                          STARTS                              #\n",
      "#                                                              #\n",
      "################################################################\n",
      "\n",
      "print \"\\n\\n Monte Carlo Starts\"\n",
      "\n",
      "MCMC_reg = open(\"MCMC_reg_fullbox.dat\", \"r+\")\n",
      "\n",
      "# BoxLength = 250.0 # Mpc h^{-1} \n",
      "MonteCarloSteps = 10000\n",
      "DeltaChi = 0.0\n",
      "K0 = 0.01\n",
      "K1 = 0.01\n",
      "K2 = 0.5\n",
      "K3 = 0.5\n",
      "\n",
      "# First of all, the histogram with the original parameters must be calculated,\n",
      "# included the Xi_square deviation\n",
      "for k in range(MonteCarloSteps):\n",
      "    #if (k%100==0): ##Show progress\n",
      "    #print k\n",
      "        \n",
      "    # Then the parameters are changed in order to calculate the new histogram\n",
      "    L_0R   = L_0  *10**(gauss(0.0,K0))\n",
      "    M_0R   = M_0  *10**(gauss(0.0,K1))\n",
      "    betaR  = beta + gauss(0.0,K2)\n",
      "    gammaR = gamma+ gauss(0.0,K3)\n",
      "\n",
      "    \n",
      "    ### Some constraints over parameters\n",
      "    while (L_0R <10**(16.75)) or (L_0R >10**(18.0)):\n",
      "        L_0R   = L_0  *10**(gauss(0.0,K0))\n",
      "    while (M_0R < 10.80):\n",
      "        M_0R   = M_0  *10**(gauss(0.0,K1))\n",
      "    while (betaR<0) or (betaR>2.0):\n",
      "        betaR  = beta + gauss(0.0,K2)\n",
      "    while (gammaR<0) or (gammaR>3.0):\n",
      "        gammaR = gamma+ gauss(0.0,K3)\n",
      "    \n",
      "    \n",
      "    #for i in range(M.size):\n",
      "    L_R[:]    = Luminosity( M[:], L_0R, M_0R, betaR, gammaR)\n",
      "    Magnitude_UV_galaxy_list_R = 51.82 - 2.5 * log10(L_R[:])\n",
      "\n",
      "    ### Calculate the histograms\n",
      "    # HIST0_R = 1.0*histogram(Magnitude_UV_galaxy_list_R,bins=(-22.0,-21.5,-21.0,-20.5,-20.0,-19.5,-19.0,-18.5,-18.0,-17.5,-17.0,-16.5,-16.0))[0]\n",
      "    HIST1_R = 1.0*histogram(Magnitude_UV_galaxy_list_R,bins=HIST1_bins)[0]\n",
      "    HIST2_R = 1.0*histogram(Magnitude_UV_galaxy_list_R,bins=HIST2_bins)[0]\n",
      "    HIST3_R = 1.0*histogram(Magnitude_UV_galaxy_list_R,bins=HIST3_bins)[0]\n",
      "    \n",
      "    ### Normalize the histograms\n",
      "    for i in range(len(HIST1_R)):\n",
      "        HIST1_R[i] = HIST1_R[i]/((HIST1_bins[i+1]-HIST1_bins[i])*BoxLength**3)\n",
      "    for i in range(len(HIST2_R)):\n",
      "        HIST2_R[i] = HIST2_R[i]*1.0/(1.0*(HIST2_bins[i+1]-HIST2_bins[i])*BoxLength**3)\n",
      "    for i in range(len(HIST3_R)):\n",
      "        HIST3_R[i] = HIST3_R[i]/((HIST3_bins[i+1]-HIST3_bins[i])*BoxLength**3)\n",
      "    \n",
      "    ### Calculate chi2 as the sum for each histogram\n",
      "    chi_sqr_R=0.0\n",
      "    a1=0\n",
      "    a2=0\n",
      "    a3=0\n",
      "    NOB = 0 # Number of used Bins\n",
      "    for i in range(len(HIST1_R)):\n",
      "        a1 += HIST1_R[i]\n",
      "        if (HIST1_R[i] != 0.0):\n",
      "            chi_sqr_R = chi_sqr_R + (( log10(HIST1_R[i])-Obs_data1_log10[i,1] )**2 )/(2*sigma1[i]**2)\n",
      "            NOB += 1\n",
      "        else:\n",
      "            chi_sqr_R = chi_sqr_R + DeltaChi\n",
      "    for i in range(len(HIST2_R)):\n",
      "        a2 += HIST2_R[i]\n",
      "        if (HIST2_R[i] != 0.0):\n",
      "            chi_sqr_R = chi_sqr_R + (( log10(HIST2_R[i])-Obs_data2_log10[i,1] )**2 )/(2*sigma2[i]**2)\n",
      "            NOB += 1\n",
      "        else:\n",
      "            chi_sqr_R = chi_sqr_R + DeltaChi\n",
      "    for i in range(len(HIST3_R)):\n",
      "        a3 += HIST3_R[i]\n",
      "        if (HIST3_R[i] != 0.0):\n",
      "            chi_sqr_R = chi_sqr_R + (( log10(HIST3_R[i])-Obs_data3_log10[i,1] )**2 )/(2*sigma3[i]**2)\n",
      "            NOB += 1\n",
      "        else:\n",
      "            chi_sqr_R = chi_sqr_R + DeltaChi\n",
      "    if NOB > 4:\n",
      "        NDF = NOB-4\n",
      "    else:\n",
      "        NDF = 1.0e-10\n",
      "        \n",
      "    chi_sqr_R = chi_sqr_R / NDF\n",
      "    \n",
      "    if(a1==0): chi_sqr_R +=5\n",
      "    if(a2==0): chi_sqr_R +=5\n",
      "    if(a3==0): chi_sqr_R +=5\n",
      "        \n",
      "    # Save the result of a variation \n",
      "    # L_0, M_0, beta, gamma, chi_sqr\n",
      "    MCMC_reg.write(\n",
      "                    str(log10(L_0R))+\"\\t\"+\n",
      "                    str(log10(M_0R))+\"\\t\"+\n",
      "                    str(betaR)      +\"\\t\"+\n",
      "                    str(gammaR)     +\"\\t\"+\n",
      "                    str(chi_sqr_R)  +\"\\t\"+\n",
      "                    str(NOB)        +\"\\n\")\n",
      "    \n",
      "    # If the new chi2 is better, then the new set of parameters is accepted\n",
      "    Delta_chi = chi_sqr_R - chi_sqr\n",
      "    if ( Delta_chi < 0):\n",
      "        L_0    = L_0R\n",
      "        M_0    = M_0R\n",
      "        beta   = betaR\n",
      "        gamma  = gammaR\n",
      "        HIST1   = HIST1_R\n",
      "        HIST2   = HIST2_R\n",
      "        HIST3   = HIST3_R \n",
      "        chi_sqr= chi_sqr_R\n",
      "    else:\n",
      "        p = rand()\n",
      "        #print p, exp( -Delta_chi)\n",
      "        if ( p < exp( -Delta_chi) ): ## CORRECT EXPRESSION \"<\"\n",
      "            L_0    = L_0R\n",
      "            M_0    = M_0R\n",
      "            beta   = betaR\n",
      "            gamma  = gammaR\n",
      "            HIST1   = HIST1_R\n",
      "            HIST2   = HIST2_R\n",
      "            HIST3   = HIST3_R\n",
      "            chi_sqr= chi_sqr_R\n",
      "    if(k%100==0): Step=100.0*k/MonteCarloSteps; print str(Step)+\"%\"\n",
      "    # End of the loop\n",
      "MCMC_reg.close()\n",
      "\n",
      "print \"\\n\\n Monte Carlo Ends\"\n"
     ],
     "language": "python",
     "metadata": {},
     "outputs": [
      {
       "output_type": "stream",
       "stream": "stdout",
       "text": [
        "\n",
        "\n",
        " Monte Carlo Starts\n",
        "0.0%"
       ]
      },
      {
       "output_type": "stream",
       "stream": "stdout",
       "text": [
        "\n",
        "1.0%"
       ]
      },
      {
       "output_type": "stream",
       "stream": "stdout",
       "text": [
        "\n",
        "2.0%"
       ]
      },
      {
       "output_type": "stream",
       "stream": "stdout",
       "text": [
        "\n",
        "3.0%"
       ]
      },
      {
       "output_type": "stream",
       "stream": "stdout",
       "text": [
        "\n",
        "4.0%"
       ]
      },
      {
       "output_type": "stream",
       "stream": "stdout",
       "text": [
        "\n",
        "5.0%"
       ]
      },
      {
       "output_type": "stream",
       "stream": "stdout",
       "text": [
        "\n",
        "6.0%"
       ]
      },
      {
       "output_type": "stream",
       "stream": "stdout",
       "text": [
        "\n",
        "7.0%"
       ]
      },
      {
       "output_type": "stream",
       "stream": "stdout",
       "text": [
        "\n",
        "8.0%"
       ]
      },
      {
       "output_type": "stream",
       "stream": "stdout",
       "text": [
        "\n",
        "9.0%"
       ]
      },
      {
       "output_type": "stream",
       "stream": "stdout",
       "text": [
        "\n",
        "10.0%"
       ]
      },
      {
       "output_type": "stream",
       "stream": "stdout",
       "text": [
        "\n",
        "11.0%"
       ]
      },
      {
       "output_type": "stream",
       "stream": "stdout",
       "text": [
        "\n",
        "12.0%"
       ]
      },
      {
       "output_type": "stream",
       "stream": "stdout",
       "text": [
        "\n",
        "13.0%"
       ]
      },
      {
       "output_type": "stream",
       "stream": "stdout",
       "text": [
        "\n",
        "14.0%"
       ]
      },
      {
       "output_type": "stream",
       "stream": "stdout",
       "text": [
        "\n",
        "15.0%"
       ]
      },
      {
       "output_type": "stream",
       "stream": "stdout",
       "text": [
        "\n",
        "16.0%"
       ]
      },
      {
       "output_type": "stream",
       "stream": "stdout",
       "text": [
        "\n",
        "17.0%"
       ]
      },
      {
       "output_type": "stream",
       "stream": "stdout",
       "text": [
        "\n",
        "18.0%"
       ]
      },
      {
       "output_type": "stream",
       "stream": "stdout",
       "text": [
        "\n",
        "19.0%"
       ]
      },
      {
       "output_type": "stream",
       "stream": "stdout",
       "text": [
        "\n",
        "20.0%"
       ]
      },
      {
       "output_type": "stream",
       "stream": "stdout",
       "text": [
        "\n",
        "21.0%"
       ]
      },
      {
       "output_type": "stream",
       "stream": "stdout",
       "text": [
        "\n",
        "22.0%"
       ]
      },
      {
       "output_type": "stream",
       "stream": "stdout",
       "text": [
        "\n",
        "23.0%"
       ]
      },
      {
       "output_type": "stream",
       "stream": "stdout",
       "text": [
        "\n",
        "24.0%"
       ]
      },
      {
       "output_type": "stream",
       "stream": "stdout",
       "text": [
        "\n",
        "25.0%"
       ]
      },
      {
       "output_type": "stream",
       "stream": "stdout",
       "text": [
        "\n",
        "26.0%"
       ]
      },
      {
       "output_type": "stream",
       "stream": "stdout",
       "text": [
        "\n",
        "27.0%"
       ]
      },
      {
       "output_type": "stream",
       "stream": "stdout",
       "text": [
        "\n",
        "28.0%"
       ]
      },
      {
       "output_type": "stream",
       "stream": "stdout",
       "text": [
        "\n",
        "29.0%"
       ]
      },
      {
       "output_type": "stream",
       "stream": "stdout",
       "text": [
        "\n",
        "30.0%"
       ]
      },
      {
       "output_type": "stream",
       "stream": "stdout",
       "text": [
        "\n",
        "31.0%"
       ]
      },
      {
       "output_type": "stream",
       "stream": "stdout",
       "text": [
        "\n",
        "32.0%"
       ]
      },
      {
       "output_type": "stream",
       "stream": "stdout",
       "text": [
        "\n",
        "33.0%"
       ]
      },
      {
       "output_type": "stream",
       "stream": "stdout",
       "text": [
        "\n",
        "34.0%"
       ]
      },
      {
       "output_type": "stream",
       "stream": "stdout",
       "text": [
        "\n",
        "35.0%"
       ]
      },
      {
       "output_type": "stream",
       "stream": "stdout",
       "text": [
        "\n",
        "36.0%"
       ]
      },
      {
       "output_type": "stream",
       "stream": "stdout",
       "text": [
        "\n",
        "37.0%"
       ]
      },
      {
       "output_type": "stream",
       "stream": "stdout",
       "text": [
        "\n",
        "38.0%"
       ]
      },
      {
       "output_type": "stream",
       "stream": "stdout",
       "text": [
        "\n",
        "39.0%"
       ]
      },
      {
       "output_type": "stream",
       "stream": "stdout",
       "text": [
        "\n",
        "40.0%"
       ]
      },
      {
       "output_type": "stream",
       "stream": "stdout",
       "text": [
        "\n",
        "41.0%"
       ]
      },
      {
       "output_type": "stream",
       "stream": "stdout",
       "text": [
        "\n",
        "42.0%"
       ]
      },
      {
       "output_type": "stream",
       "stream": "stdout",
       "text": [
        "\n",
        "43.0%"
       ]
      },
      {
       "output_type": "stream",
       "stream": "stdout",
       "text": [
        "\n",
        "44.0%"
       ]
      },
      {
       "output_type": "stream",
       "stream": "stdout",
       "text": [
        "\n",
        "45.0%"
       ]
      },
      {
       "output_type": "stream",
       "stream": "stdout",
       "text": [
        "\n",
        "46.0%"
       ]
      },
      {
       "output_type": "stream",
       "stream": "stdout",
       "text": [
        "\n",
        "47.0%"
       ]
      },
      {
       "output_type": "stream",
       "stream": "stdout",
       "text": [
        "\n",
        "48.0%"
       ]
      },
      {
       "output_type": "stream",
       "stream": "stdout",
       "text": [
        "\n",
        "49.0%"
       ]
      },
      {
       "output_type": "stream",
       "stream": "stdout",
       "text": [
        "\n",
        "50.0%"
       ]
      },
      {
       "output_type": "stream",
       "stream": "stdout",
       "text": [
        "\n",
        "51.0%"
       ]
      },
      {
       "output_type": "stream",
       "stream": "stdout",
       "text": [
        "\n",
        "52.0%"
       ]
      },
      {
       "output_type": "stream",
       "stream": "stdout",
       "text": [
        "\n",
        "53.0%"
       ]
      },
      {
       "output_type": "stream",
       "stream": "stdout",
       "text": [
        "\n",
        "54.0%"
       ]
      },
      {
       "output_type": "stream",
       "stream": "stdout",
       "text": [
        "\n",
        "55.0%"
       ]
      },
      {
       "output_type": "stream",
       "stream": "stdout",
       "text": [
        "\n",
        "56.0%"
       ]
      },
      {
       "output_type": "stream",
       "stream": "stdout",
       "text": [
        "\n",
        "57.0%"
       ]
      },
      {
       "output_type": "stream",
       "stream": "stdout",
       "text": [
        "\n",
        "58.0%"
       ]
      },
      {
       "output_type": "stream",
       "stream": "stdout",
       "text": [
        "\n",
        "59.0%"
       ]
      },
      {
       "output_type": "stream",
       "stream": "stdout",
       "text": [
        "\n",
        "60.0%"
       ]
      },
      {
       "output_type": "stream",
       "stream": "stdout",
       "text": [
        "\n",
        "61.0%"
       ]
      },
      {
       "output_type": "stream",
       "stream": "stdout",
       "text": [
        "\n",
        "62.0%"
       ]
      },
      {
       "output_type": "stream",
       "stream": "stdout",
       "text": [
        "\n",
        "63.0%"
       ]
      },
      {
       "output_type": "stream",
       "stream": "stdout",
       "text": [
        "\n",
        "64.0%"
       ]
      },
      {
       "output_type": "stream",
       "stream": "stdout",
       "text": [
        "\n",
        "65.0%"
       ]
      },
      {
       "output_type": "stream",
       "stream": "stdout",
       "text": [
        "\n",
        "66.0%"
       ]
      },
      {
       "output_type": "stream",
       "stream": "stdout",
       "text": [
        "\n",
        "67.0%"
       ]
      },
      {
       "output_type": "stream",
       "stream": "stdout",
       "text": [
        "\n",
        "68.0%"
       ]
      },
      {
       "output_type": "stream",
       "stream": "stdout",
       "text": [
        "\n",
        "69.0%"
       ]
      },
      {
       "output_type": "stream",
       "stream": "stdout",
       "text": [
        "\n",
        "70.0%"
       ]
      },
      {
       "output_type": "stream",
       "stream": "stdout",
       "text": [
        "\n",
        "71.0%"
       ]
      },
      {
       "output_type": "stream",
       "stream": "stdout",
       "text": [
        "\n",
        "72.0%"
       ]
      },
      {
       "output_type": "stream",
       "stream": "stdout",
       "text": [
        "\n",
        "73.0%"
       ]
      },
      {
       "output_type": "stream",
       "stream": "stdout",
       "text": [
        "\n",
        "74.0%"
       ]
      },
      {
       "output_type": "stream",
       "stream": "stdout",
       "text": [
        "\n",
        "75.0%"
       ]
      },
      {
       "output_type": "stream",
       "stream": "stdout",
       "text": [
        "\n",
        "76.0%"
       ]
      },
      {
       "output_type": "stream",
       "stream": "stdout",
       "text": [
        "\n",
        "77.0%"
       ]
      },
      {
       "output_type": "stream",
       "stream": "stdout",
       "text": [
        "\n",
        "78.0%"
       ]
      },
      {
       "output_type": "stream",
       "stream": "stdout",
       "text": [
        "\n",
        "79.0%"
       ]
      },
      {
       "output_type": "stream",
       "stream": "stdout",
       "text": [
        "\n",
        "80.0%"
       ]
      },
      {
       "output_type": "stream",
       "stream": "stdout",
       "text": [
        "\n",
        "81.0%"
       ]
      },
      {
       "output_type": "stream",
       "stream": "stdout",
       "text": [
        "\n",
        "82.0%"
       ]
      },
      {
       "output_type": "stream",
       "stream": "stdout",
       "text": [
        "\n",
        "83.0%"
       ]
      },
      {
       "output_type": "stream",
       "stream": "stdout",
       "text": [
        "\n",
        "84.0%"
       ]
      },
      {
       "output_type": "stream",
       "stream": "stdout",
       "text": [
        "\n",
        "85.0%"
       ]
      },
      {
       "output_type": "stream",
       "stream": "stdout",
       "text": [
        "\n",
        "86.0%"
       ]
      },
      {
       "output_type": "stream",
       "stream": "stdout",
       "text": [
        "\n",
        "87.0%"
       ]
      },
      {
       "output_type": "stream",
       "stream": "stdout",
       "text": [
        "\n",
        "88.0%"
       ]
      },
      {
       "output_type": "stream",
       "stream": "stdout",
       "text": [
        "\n",
        "89.0%"
       ]
      },
      {
       "output_type": "stream",
       "stream": "stdout",
       "text": [
        "\n",
        "90.0%"
       ]
      },
      {
       "output_type": "stream",
       "stream": "stdout",
       "text": [
        "\n",
        "91.0%"
       ]
      },
      {
       "output_type": "stream",
       "stream": "stdout",
       "text": [
        "\n",
        "92.0%"
       ]
      },
      {
       "output_type": "stream",
       "stream": "stdout",
       "text": [
        "\n",
        "93.0%"
       ]
      },
      {
       "output_type": "stream",
       "stream": "stdout",
       "text": [
        "\n",
        "94.0%"
       ]
      },
      {
       "output_type": "stream",
       "stream": "stdout",
       "text": [
        "\n",
        "95.0%"
       ]
      },
      {
       "output_type": "stream",
       "stream": "stdout",
       "text": [
        "\n",
        "96.0%"
       ]
      },
      {
       "output_type": "stream",
       "stream": "stdout",
       "text": [
        "\n",
        "97.0%"
       ]
      },
      {
       "output_type": "stream",
       "stream": "stdout",
       "text": [
        "\n",
        "98.0%"
       ]
      },
      {
       "output_type": "stream",
       "stream": "stdout",
       "text": [
        "\n",
        "99.0%"
       ]
      },
      {
       "output_type": "stream",
       "stream": "stdout",
       "text": [
        "\n",
        "\n",
        "\n",
        " Monte Carlo Ends"
       ]
      },
      {
       "output_type": "stream",
       "stream": "stdout",
       "text": [
        "\n"
       ]
      }
     ],
     "prompt_number": 3
    }
   ],
   "metadata": {}
  }
 ]
}