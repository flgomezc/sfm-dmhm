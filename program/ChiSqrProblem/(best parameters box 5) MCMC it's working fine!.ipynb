{
 "metadata": {
  "name": "",
  "signature": "sha256:5e424cf525e57a1c68ea519fa22430480b03276a064bc7873520372bcc5c3813"
 },
 "nbformat": 3,
 "nbformat_minor": 0,
 "worksheets": [
  {
   "cells": [
    {
     "cell_type": "code",
     "collapsed": false,
     "input": [
      "# Last modification: 2015-mar-24 West Lafayette\n",
      "%pylab inline\n",
      "from random import *\n",
      "from observational_data import *\n",
      "from constants import *\n",
      "from functions import *"
     ],
     "language": "python",
     "metadata": {},
     "outputs": [
      {
       "output_type": "stream",
       "stream": "stdout",
       "text": [
        "Populating the interactive namespace from numpy and matplotlib\n"
       ]
      },
      {
       "ename": "ImportError",
       "evalue": "No module named observational_data",
       "output_type": "pyerr",
       "traceback": [
        "\u001b[0;31m---------------------------------------------------------------------------\u001b[0m\n\u001b[0;31mImportError\u001b[0m                               Traceback (most recent call last)",
        "\u001b[0;32m<ipython-input-1-fb00ce471335>\u001b[0m in \u001b[0;36m<module>\u001b[0;34m()\u001b[0m\n\u001b[1;32m      2\u001b[0m \u001b[0mget_ipython\u001b[0m\u001b[0;34m(\u001b[0m\u001b[0;34m)\u001b[0m\u001b[0;34m.\u001b[0m\u001b[0mmagic\u001b[0m\u001b[0;34m(\u001b[0m\u001b[0;34mu'pylab inline'\u001b[0m\u001b[0;34m)\u001b[0m\u001b[0;34m\u001b[0m\u001b[0m\n\u001b[1;32m      3\u001b[0m \u001b[0;32mfrom\u001b[0m \u001b[0mrandom\u001b[0m \u001b[0;32mimport\u001b[0m \u001b[0;34m*\u001b[0m\u001b[0;34m\u001b[0m\u001b[0m\n\u001b[0;32m----> 4\u001b[0;31m \u001b[0;32mfrom\u001b[0m \u001b[0mobservational_data\u001b[0m \u001b[0;32mimport\u001b[0m \u001b[0;34m*\u001b[0m\u001b[0;34m\u001b[0m\u001b[0m\n\u001b[0m\u001b[1;32m      5\u001b[0m \u001b[0;32mfrom\u001b[0m \u001b[0mconstants\u001b[0m \u001b[0;32mimport\u001b[0m \u001b[0;34m*\u001b[0m\u001b[0;34m\u001b[0m\u001b[0m\n\u001b[1;32m      6\u001b[0m \u001b[0;32mfrom\u001b[0m \u001b[0mfunctions\u001b[0m \u001b[0;32mimport\u001b[0m \u001b[0;34m*\u001b[0m\u001b[0;34m\u001b[0m\u001b[0m\n",
        "\u001b[0;31mImportError\u001b[0m: No module named observational_data"
       ]
      }
     ],
     "prompt_number": 1
    },
    {
     "cell_type": "code",
     "collapsed": false,
     "input": [
      "##################  Name of the Observed Dataset\n",
      "name = \"\""
     ],
     "language": "python",
     "metadata": {},
     "outputs": [],
     "prompt_number": 2
    },
    {
     "cell_type": "code",
     "collapsed": false,
     "input": [
      "# This cell operates over one specific box.\n",
      "BoxNum=5\n",
      "# Open the raw data from Markov Chain-MoteCarlo\n",
      "# L_0 \t M_0 \t beta \t gamma \t chi_sqr \t Number of Bins\n",
      "if (Dust_Ext == 1): MCMC_raw = np.loadtxt('results_w_ext'+name+'/'+str(BoxNum)+'.dat',usecols=(0,1,2,3,4,5),skiprows=0); \n",
      "else:\n",
      "    MCMC_raw = np.loadtxt('results_wo_ext'+name+'/'+str(BoxNum)+'.dat',usecols=(0,1,2,3,4,5),skiprows=0); \n",
      "BoxLength = 250.0 # Mpc h^{-1}\n",
      "\n",
      "LABELS = [\"$\\log_{10}(L_0)$\", \"$\\log_{10}(M_0)$\", r\"$\\beta$\", r\"$\\gamma$\"]\n",
      "\n",
      "\n",
      "index = where( MCMC_raw[:,4] == MCMC_raw[:,4].min() )[0] \n",
      "L_min     = MCMC_raw[index,0][0]\n",
      "M_min     = MCMC_raw[index,1][0]\n",
      "beta_min  = MCMC_raw[index,2][0]\n",
      "gamma_min = MCMC_raw[index,3][0]\n",
      "chi_sqr_min= MCMC_raw[index,4][0]\n",
      "bins      = MCMC_raw[index,5][0]\n",
      "\n",
      "MINS = [L_min, M_min, beta_min, gamma_min]\n",
      "\n",
      "for k in range(4):\n",
      "    print LABELS[k], '\\t', MINS[k]\n",
      "print  chi_sqr_min, bins, \"Index min= \", index\n",
      "\n",
      "histo_0 = histogram(MCMC_raw[:,0], bins=30)\n",
      "histo_1 = histogram(MCMC_raw[:,1], bins=30)\n",
      "histo_2 = histogram(MCMC_raw[:,2], bins=30)\n",
      "histo_3 = histogram(MCMC_raw[:,3], bins=30)\n",
      "\n",
      "#################### Chi2 vs MCMC steps  ###################################    \n",
      "#\n",
      "fig = figure(figsize(10,5))\n",
      "plot(MCMC_raw[:,4])\n",
      "axhline(y=chi_sqr_min, color='red')\n",
      "axvline(x=1.0*index[0], color='red')\n",
      "ylabel(r\"$\\chi^2$ \",fontsize=20)\n",
      "xlabel('MCMC steps')\n",
      "#ylim([0.01,1])\n",
      "#savefig('11000 MCMC steps.pdf')\n",
      "yscale('log')\n",
      "\n",
      "fig = figure(figsize(10,5))\n",
      "hist(log10(MCMC_raw[:,4]))\n",
      "#axhline(y=chi_sqr_min, color='red')\n",
      "#axvline(x=1.0*index[0], color='red')\n",
      "xlabel(r\"$\\log_{10}(\\chi^2)$ \",fontsize=20)\n",
      "#xlabel('MCMC steps')\n",
      "#ylim([0.01,1])\n",
      "#savefig('11000 MCMC steps.pdf')\n",
      "yscale('log')\n",
      "#######################  end of Chi2 plot ########\n",
      "\n",
      "\n",
      "############## MCMC walking steps plots ########################\n",
      "#               y axis = Parameters\n",
      "#               x axis = MCMC step\n",
      "fig = figure(figsize=(10, 5))\n",
      "fig.subplots_adjust(hspace=0.20, wspace=0.2,top=1.5, right=1.0, bottom=0.0)\n",
      "ax1=fig.add_subplot(221); ax2=fig.add_subplot(222); ax3=fig.add_subplot(223); ax4=fig.add_subplot(224);\n",
      "ax = [ax1,ax2,ax3,ax4]\n",
      "for k in range(4):\n",
      "    ax[k].plot(MCMC_raw[:,k])\n",
      "    ax[k].set_ylabel(LABELS[k], fontsize=20)\n",
      "    ax[k].axhline(y=MINS[k], color='red')\n",
      "    ax[k].axvline(x=1.0*index[0], color='red')\n",
      "################################### end of MCMC walking steps\n",
      "    \n",
      "############## Scattering plots ########################\n",
      "#               y axis = chi2 \n",
      "#               x axis = Parameters\n",
      "fig = figure(figsize=(10, 5))\n",
      "fig.subplots_adjust(hspace=0.20, wspace=0.0,top=1.5, right=1.0, bottom=0.0)\n",
      "ax1=fig.add_subplot(221); ax2=fig.add_subplot(222); ax3=fig.add_subplot(223); ax4=fig.add_subplot(224);\n",
      "ax = [ax1,ax2,ax3,ax4]\n",
      "for k in range(4):\n",
      "    ax[k].scatter(MCMC_raw[:,k], MCMC_raw[:,4], s=0.01)\n",
      "    ax[k].set_xlabel(LABELS[k], fontsize=20)\n",
      "    ax[k].axvline(x=MINS[k], color='red')\n",
      "    ax[k].set_yscale('log')\n",
      "    \n",
      "ax1.set_ylabel(\" $\\chi^2$ \",fontsize=20)\n",
      "ax2.yaxis.set_major_formatter(plt.NullFormatter())\n",
      "ax3.set_ylabel(\" $\\chi^2$ \",fontsize=20)\n",
      "ax4.yaxis.set_major_formatter(plt.NullFormatter())\n",
      "####################### end of scattering plots ########\n",
      "\n",
      "\n",
      "################## Histograms #############################\n",
      "#               y axis = freq \n",
      "#               x axis = Parameters\n",
      "fig = figure(figsize=(10, 5))\n",
      "fig.subplots_adjust(hspace=0.20, wspace=0.15,top=1.5, right=1.0, bottom=0.0)\n",
      "ax1=fig.add_subplot(221); ax2=fig.add_subplot(222); ax3=fig.add_subplot(223); ax4=fig.add_subplot(224)\n",
      "ax = [ax1,ax2,ax3,ax4]\n",
      "for k in range(4):\n",
      "    ax[k].hist(MCMC_raw[:,k], bins=30)\n",
      "    ax[k].axvline(x=MINS[k], color='red')\n",
      "    ax[k].set_xlabel(LABELS[k], fontsize=20)\n",
      "################################## end of Histograms #####\n",
      "    \n"
     ],
     "language": "python",
     "metadata": {},
     "outputs": [
      {
       "ename": "NameError",
       "evalue": "name 'Dust_Ext' is not defined",
       "output_type": "pyerr",
       "traceback": [
        "\u001b[0;31m---------------------------------------------------------------------------\u001b[0m\n\u001b[0;31mNameError\u001b[0m                                 Traceback (most recent call last)",
        "\u001b[0;32m<ipython-input-1-71cbce919189>\u001b[0m in \u001b[0;36m<module>\u001b[0;34m()\u001b[0m\n\u001b[1;32m      3\u001b[0m \u001b[0;31m# Open the raw data from Markov Chain-MoteCarlo\u001b[0m\u001b[0;34m\u001b[0m\u001b[0;34m\u001b[0m\u001b[0m\n\u001b[1;32m      4\u001b[0m \u001b[0;31m# L_0    M_0     beta    gamma   chi_sqr         Number of Bins\u001b[0m\u001b[0;34m\u001b[0m\u001b[0;34m\u001b[0m\u001b[0m\n\u001b[0;32m----> 5\u001b[0;31m \u001b[0;32mif\u001b[0m \u001b[0;34m(\u001b[0m\u001b[0mDust_Ext\u001b[0m \u001b[0;34m==\u001b[0m \u001b[0;36m1\u001b[0m\u001b[0;34m)\u001b[0m\u001b[0;34m:\u001b[0m \u001b[0mMCMC_raw\u001b[0m \u001b[0;34m=\u001b[0m \u001b[0mnp\u001b[0m\u001b[0;34m.\u001b[0m\u001b[0mloadtxt\u001b[0m\u001b[0;34m(\u001b[0m\u001b[0;34m'results_w_ext'\u001b[0m\u001b[0;34m+\u001b[0m\u001b[0mname\u001b[0m\u001b[0;34m+\u001b[0m\u001b[0;34m'/'\u001b[0m\u001b[0;34m+\u001b[0m\u001b[0mstr\u001b[0m\u001b[0;34m(\u001b[0m\u001b[0mBoxNum\u001b[0m\u001b[0;34m)\u001b[0m\u001b[0;34m+\u001b[0m\u001b[0;34m'.dat'\u001b[0m\u001b[0;34m,\u001b[0m\u001b[0musecols\u001b[0m\u001b[0;34m=\u001b[0m\u001b[0;34m(\u001b[0m\u001b[0;36m0\u001b[0m\u001b[0;34m,\u001b[0m\u001b[0;36m1\u001b[0m\u001b[0;34m,\u001b[0m\u001b[0;36m2\u001b[0m\u001b[0;34m,\u001b[0m\u001b[0;36m3\u001b[0m\u001b[0;34m,\u001b[0m\u001b[0;36m4\u001b[0m\u001b[0;34m,\u001b[0m\u001b[0;36m5\u001b[0m\u001b[0;34m)\u001b[0m\u001b[0;34m,\u001b[0m\u001b[0mskiprows\u001b[0m\u001b[0;34m=\u001b[0m\u001b[0;36m0\u001b[0m\u001b[0;34m)\u001b[0m\u001b[0;34m;\u001b[0m\u001b[0;34m\u001b[0m\u001b[0m\n\u001b[0m\u001b[1;32m      6\u001b[0m \u001b[0;32melse\u001b[0m\u001b[0;34m:\u001b[0m\u001b[0;34m\u001b[0m\u001b[0m\n\u001b[1;32m      7\u001b[0m     \u001b[0mMCMC_raw\u001b[0m \u001b[0;34m=\u001b[0m \u001b[0mnp\u001b[0m\u001b[0;34m.\u001b[0m\u001b[0mloadtxt\u001b[0m\u001b[0;34m(\u001b[0m\u001b[0;34m'results_wo_ext'\u001b[0m\u001b[0;34m+\u001b[0m\u001b[0mname\u001b[0m\u001b[0;34m+\u001b[0m\u001b[0;34m'/'\u001b[0m\u001b[0;34m+\u001b[0m\u001b[0mstr\u001b[0m\u001b[0;34m(\u001b[0m\u001b[0mBoxNum\u001b[0m\u001b[0;34m)\u001b[0m\u001b[0;34m+\u001b[0m\u001b[0;34m'.dat'\u001b[0m\u001b[0;34m,\u001b[0m\u001b[0musecols\u001b[0m\u001b[0;34m=\u001b[0m\u001b[0;34m(\u001b[0m\u001b[0;36m0\u001b[0m\u001b[0;34m,\u001b[0m\u001b[0;36m1\u001b[0m\u001b[0;34m,\u001b[0m\u001b[0;36m2\u001b[0m\u001b[0;34m,\u001b[0m\u001b[0;36m3\u001b[0m\u001b[0;34m,\u001b[0m\u001b[0;36m4\u001b[0m\u001b[0;34m,\u001b[0m\u001b[0;36m5\u001b[0m\u001b[0;34m)\u001b[0m\u001b[0;34m,\u001b[0m\u001b[0mskiprows\u001b[0m\u001b[0;34m=\u001b[0m\u001b[0;36m0\u001b[0m\u001b[0;34m)\u001b[0m\u001b[0;34m;\u001b[0m\u001b[0;34m\u001b[0m\u001b[0m\n",
        "\u001b[0;31mNameError\u001b[0m: name 'Dust_Ext' is not defined"
       ]
      }
     ],
     "prompt_number": 1
    },
    {
     "cell_type": "code",
     "collapsed": false,
     "input": [],
     "language": "python",
     "metadata": {},
     "outputs": []
    },
    {
     "cell_type": "code",
     "collapsed": false,
     "input": [],
     "language": "python",
     "metadata": {},
     "outputs": []
    },
    {
     "cell_type": "code",
     "collapsed": false,
     "input": [],
     "language": "python",
     "metadata": {},
     "outputs": []
    }
   ],
   "metadata": {}
  }
 ]
}