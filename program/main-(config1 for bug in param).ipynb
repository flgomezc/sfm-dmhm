{
 "metadata": {
  "name": "",
  "signature": "sha256:d8eb76fffb54279eb3b6a92d6906b19177728f1fb163d68a9567b04332c05807"
 },
 "nbformat": 3,
 "nbformat_minor": 0,
 "worksheets": [
  {
   "cells": [
    {
     "cell_type": "markdown",
     "metadata": {},
     "source": [
      "# List of completed tasks:\n",
      "\n",
      "1. Solve the fitting bug on histograms\n",
      "2. Improve graphics\n",
      "3. Add Mclure-2009 observational data\n",
      "4. Clear the datafile: remove small halos\n",
      "    1. Find the mass resolution limit\n",
      "    2. Remove those small halos\n",
      "5. Create 64 datafiles, one per small box\n",
      "6. Check bins centering\n",
      "7. Check error bars\n",
      "8. Set constraints on upper and lower limmits for all parameters\n",
      "\n",
      "# List of pendings tasks:\n",
      "\n",
      "0. Run over 64 boxes"
     ]
    },
    {
     "cell_type": "code",
     "collapsed": false,
     "input": [
      "# Last modification: 2014-mar-20\n",
      "%pylab inline\n",
      "\n",
      "from random import *\n",
      "from observational_data import *\n",
      "# Obs_data1: Willot  et al 2013\n",
      "# obs_data2: Bouwens et al 2014\n",
      "# obs_data3: McLure  et al 2009\n",
      "\n",
      "#############################################\n",
      "#                                           #\n",
      "#            Loading data file              #\n",
      "#                                           #\n",
      "#############################################\n",
      "\n",
      "# Data columns:\n",
      "# X (Mpc h^-1), Y (Mpc h^-1), Z (Mpc h^-1), Halo mass (Solar Mass)\n",
      "data = np.loadtxt(\n",
      "    #'../data/MD_3840_Planck1/BDM/new_reduced_catshortV_007.dat',usecols=(0,1,2,3), skiprows=17) BoxLength = 1000.0 # Mpc h^{-1}\n",
      "    '../data/MD_3840_Planck1/BDM/Small_Cells/0.dat', usecols=(0,1,2,3), skiprows=0); BoxLength = 250.0 # Mpc h^{-1}\n",
      "\n",
      "def Luminosity(M,L_0,M_0,beta,gamma):\n",
      "    return L_0*M*( (M/M_0)**(-beta) + (M/M_0)**gamma)**(-1)\n",
      "\n",
      "def StarFormationRate(M,L_0,M_0,beta,gamma):\n",
      "    return Luminosity(M,L_0,M_0,beta,gamma) * 1.4e-28"
     ],
     "language": "python",
     "metadata": {},
     "outputs": [
      {
       "output_type": "stream",
       "stream": "stdout",
       "text": [
        "Populating the interactive namespace from numpy and matplotlib\n"
       ]
      }
     ],
     "prompt_number": 1
    },
    {
     "cell_type": "code",
     "collapsed": false,
     "input": [
      "M       = data[:,3]\n",
      "log10_M = log10(M[:])\n",
      "L       = np.zeros(M.size)\n",
      "L_R     = np.zeros(M.size)\n",
      "seed(0)\n",
      "MCMC_reg = open(\"MCMC_reg.dat\", \"w\")\n",
      "\n",
      "################################################################\n",
      "#                                                              #\n",
      "#                     The Random Walk                          #\n",
      "#                     fitting function                         #\n",
      "#                                                              #\n",
      "################################################################\n",
      "\n",
      "# Initial constants for the luminosity function\n",
      "#  L_0          log10( M_0)    beta             gamma         Xi**2\n",
      "# 17.651076186 11.3103664009 0.863881819343 0.532187082693 0.0478280976379\n",
      "L_0   = 10.0**(17.5)\n",
      "M_0   = 10.0**(11.40)\n",
      "beta  =  0.88\n",
      "gamma =  0.50\n",
      "\n",
      "#Calculate the histogram and Xi_sqr for first time.\n",
      "for i in range(M.size):\n",
      "    L[i] = Luminosity( M[i], L_0, M_0, beta, gamma)\n",
      "Magnitude_UV_galaxy_list = 51.82 - 2.5 * log10(L[:])\n",
      "\n",
      "HIST1 = 1.0*histogram(Magnitude_UV_galaxy_list,bins=HIST1_bins)[0]\n",
      "HIST2 = 1.0*histogram(Magnitude_UV_galaxy_list,bins=HIST2_bins)[0]\n",
      "HIST3 = 1.0*histogram(Magnitude_UV_galaxy_list,bins=HIST3_bins)[0]\n",
      "\n",
      "### Normalize the histograms\n",
      "for i in range(len(HIST1)):\n",
      "    HIST1[i] = HIST1[i]/((HIST1_bins[i+1]-HIST1_bins[i])*BoxLength**3)\n",
      "for i in range(len(HIST2)):\n",
      "    HIST2[i] = HIST2[i]*1.0/(1.0*(HIST2_bins[i+1]-HIST2_bins[i])*BoxLength**3)\n",
      "for i in range(len(HIST3)):\n",
      "    HIST3[i] = HIST3[i]/((HIST3_bins[i+1]-HIST3_bins[i])*BoxLength**3)\n",
      "\n",
      "    \n",
      "    ### Calculate chi2 as the sum for each histogram\n",
      "chi_sqr=0.0\n",
      "for i in range(len(HIST1)):\n",
      "    chi_sqr = chi_sqr + ( log10(HIST1[i])-Obs_data1_log10[i,1] )**2 \n",
      "for i in range(len(HIST2)):\n",
      "    chi_sqr = chi_sqr + ( log10(HIST2[i])-Obs_data2_log10[i,1] )**2\n",
      "for i in range(len(HIST3)):\n",
      "    chi_sqr = chi_sqr + ( log10(HIST3[i])-Obs_data3_log10[i,1] )**2\n",
      "\n",
      "    \n",
      "MCMC_reg.write(\"# L_0 \\t M_0 \\t beta \\t gamma \\t chi_sqr\")\n",
      "\n",
      "MCMC_reg.write(str(log10(L_0))+\"\\t\"+str(log10(M_0))+\"\\t\"+str(beta)+\"\\t\"+str(gamma)+\"\\t\"+str(chi_sqr)+\"\\n\")\n"
     ],
     "language": "python",
     "metadata": {},
     "outputs": [],
     "prompt_number": 2
    },
    {
     "cell_type": "code",
     "collapsed": false,
     "input": [
      "print \"\\n\\n Monte Carlo Starts\"\n",
      "\n",
      "MCMC_reg = open(\"MCMC_reg.dat\", \"r+\")\n",
      "\n",
      "# BoxLength = 250.0 # Mpc h^{-1} \n",
      "MonteCarloSteps = 1000\n",
      "\n",
      "DeltaChi = 0.05\n",
      "\n",
      "K0 = 0.005\n",
      "K1 = 0.005\n",
      "K2 = 0.05\n",
      "K3 = 0.05\n",
      "\n",
      "\n",
      "# First of all, the histogram with the original parameters must be calculated,\n",
      "# included the Xi_square deviation\n",
      "for k in range(MonteCarloSteps):\n",
      "    #if (k%100==0): ##Show progress\n",
      "    #    print k\n",
      "        \n",
      "    # Then the parameters are changed in order to calculate the new histogram\n",
      "    L_0R   = L_0  *10**(K0*gauss(0.0,1.0))\n",
      "    M_0R   = M_0  *10**(K1*gauss(0.0,1.0))\n",
      "    betaR  = beta + K2*gauss(0.0,1.0)\n",
      "    gammaR = gamma+ K3*gauss(0.0,1.0)\n",
      "\n",
      "    \n",
      "    ### Some constraints over parameters\n",
      "    while (betaR<0) or (betaR>4.0):\n",
      "        betaR  = beta + K2*gauss(0.0,1.0)\n",
      "    while (gammaR<0) or (gammaR>4.0):\n",
      "        gammaR = gamma+ K3*gauss(0.0,1.0)\n",
      "    while (L_0R <10**(16.75)) or (L_0R >10**(18.0)):\n",
      "        L_0R   = L_0  *10**(K0*gauss(0.0,1.0))\n",
      "    while (M_0R < 10.80):\n",
      "        M_0R   = M_0  *10**(K1*gauss(0.0,1.0))\n",
      "    \n",
      "    \n",
      "    for i in range(M.size):\n",
      "        L_R[i]    = Luminosity( M[i], L_0R, M_0R, betaR, gammaR)\n",
      "    Magnitude_UV_galaxy_list_R = 51.82 - 2.5 * log10(L_R[:])\n",
      "\n",
      "    ### Calculate the histograms\n",
      "    # HIST0_R = 1.0*histogram(Magnitude_UV_galaxy_list_R,bins=(-22.0,-21.5,-21.0,-20.5,-20.0,-19.5,-19.0,-18.5,-18.0,-17.5,-17.0,-16.5,-16.0))[0]\n",
      "    HIST1_R = 1.0*histogram(Magnitude_UV_galaxy_list_R,bins=HIST1_bins)[0]\n",
      "    HIST2_R = 1.0*histogram(Magnitude_UV_galaxy_list_R,bins=HIST2_bins)[0]\n",
      "    HIST3_R = 1.0*histogram(Magnitude_UV_galaxy_list_R,bins=HIST3_bins)[0]\n",
      "    \n",
      "    ### Normalize the histograms\n",
      "    for i in range(len(HIST1_R)):\n",
      "        HIST1_R[i] = HIST1_R[i]/((HIST1_bins[i+1]-HIST1_bins[i])*BoxLength**3)\n",
      "    for i in range(len(HIST2_R)):\n",
      "        HIST2_R[i] = HIST2_R[i]*1.0/(1.0*(HIST2_bins[i+1]-HIST2_bins[i])*BoxLength**3)\n",
      "    for i in range(len(HIST3_R)):\n",
      "        HIST3_R[i] = HIST3_R[i]/((HIST3_bins[i+1]-HIST3_bins[i])*BoxLength**3)\n",
      "    \n",
      "    ### Calculate chi2 as the sum for each histogram\n",
      "    chi_sqr_R=0.0\n",
      "    a1=0\n",
      "    a2=0\n",
      "    a3=0\n",
      "    for i in range(len(HIST1_R)):\n",
      "        #a1 += HIST1_R[i]\n",
      "        if (HIST1_R[i] != 0.0):\n",
      "            chi_sqr_R = chi_sqr_R + ( log10(HIST1_R[i])-Obs_data1_log10[i,1] )**2\n",
      "        else:\n",
      "            chi_sqr_R = chi_sqr_R + DeltaChi\n",
      "    for i in range(len(HIST2_R)):\n",
      "        #a2 += HIST2_R[i]\n",
      "        if (HIST2_R[i] != 0.0):\n",
      "            chi_sqr_R = chi_sqr_R + ( log10(HIST2_R[i])-Obs_data2_log10[i,1] )**2\n",
      "        else:\n",
      "            chi_sqr_R = chi_sqr_R + DeltaChi\n",
      "    for i in range(len(HIST3_R)):\n",
      "        #a3 += HIST3_R[i]\n",
      "        if (HIST3_R[i] != 0.0):\n",
      "            chi_sqr_R = chi_sqr_R + ( log10(HIST3_R[i])-Obs_data3_log10[i,1] )**2\n",
      "        else:\n",
      "            chi_sqr_R = chi_sqr_R + DeltaChi\n",
      "    if(a1==0): chi_sqr_R +=20\n",
      "    if(a2==0): chi_sqr_R +=20\n",
      "    if(a3==0): chi_sqr_R +=20\n",
      "        \n",
      "    # Save the result of a variation \n",
      "    # L_0, M_0, beta, gamma, chi_sqr\n",
      "    MCMC_reg.write(\n",
      "                    str(log10(L_0R))+\"\\t\"+\n",
      "                    str(log10(M_0R))+\"\\t\"+\n",
      "                    str(betaR)      +\"\\t\"+\n",
      "                    str(gammaR)     +\"\\t\"+\n",
      "                    str(chi_sqr_R)  +\"\\n\")\n",
      "    \n",
      "    # If the new chi2 is better, then the new set of parameters is accepted\n",
      "    Delta_chi = chi_sqr_R - chi_sqr\n",
      "    if ( Delta_chi < 0):\n",
      "        L_0    = L_0R\n",
      "        M_0    = M_0R\n",
      "        beta   = betaR\n",
      "        gamma  = gammaR\n",
      "        HIST1   = HIST1_R\n",
      "        HIST2   = HIST2_R\n",
      "        HIST3   = HIST3_R \n",
      "        chi_sqr= chi_sqr_R\n",
      "    else:\n",
      "        p = rand()\n",
      "        #print p, exp( -Delta_chi)\n",
      "        if ( p < exp( -Delta_chi) ): ## CORRECT EXPRESSION \"<\"\n",
      "            L_0    = L_0R\n",
      "            M_0    = M_0R\n",
      "            beta   = betaR\n",
      "            gamma  = gammaR\n",
      "            HIST1   = HIST1_R\n",
      "            HIST2   = HIST2_R\n",
      "            HIST3   = HIST3_R\n",
      "            chi_sqr= chi_sqr_R\n",
      "    if(k%10==0): i=100.0*k/MonteCarloSteps; print \"%i%\"\n",
      "    # End of the loop\n",
      "MCMC_reg.close()\n",
      "\n",
      "print \"\\n\\n Monte Carlo Ends\""
     ],
     "language": "python",
     "metadata": {},
     "outputs": [
      {
       "output_type": "stream",
       "stream": "stdout",
       "text": [
        "\n",
        "\n",
        " Monte Carlo Starts\n",
        "0.0"
       ]
      },
      {
       "output_type": "stream",
       "stream": "stdout",
       "text": [
        " %\n",
        "1.0"
       ]
      },
      {
       "output_type": "stream",
       "stream": "stdout",
       "text": [
        " %\n",
        "2.0"
       ]
      },
      {
       "output_type": "stream",
       "stream": "stdout",
       "text": [
        " %\n",
        "3.0"
       ]
      },
      {
       "output_type": "stream",
       "stream": "stdout",
       "text": [
        " %\n",
        "4.0"
       ]
      },
      {
       "output_type": "stream",
       "stream": "stdout",
       "text": [
        " %\n",
        "5.0"
       ]
      },
      {
       "output_type": "stream",
       "stream": "stdout",
       "text": [
        " %\n",
        "6.0"
       ]
      },
      {
       "output_type": "stream",
       "stream": "stdout",
       "text": [
        " %\n",
        "7.0"
       ]
      },
      {
       "output_type": "stream",
       "stream": "stdout",
       "text": [
        " %\n",
        "8.0"
       ]
      },
      {
       "output_type": "stream",
       "stream": "stdout",
       "text": [
        " %\n",
        "9.0"
       ]
      },
      {
       "output_type": "stream",
       "stream": "stdout",
       "text": [
        " %\n",
        "10.0"
       ]
      },
      {
       "output_type": "stream",
       "stream": "stdout",
       "text": [
        " %\n",
        "11.0"
       ]
      },
      {
       "output_type": "stream",
       "stream": "stdout",
       "text": [
        " %\n",
        "12.0"
       ]
      },
      {
       "output_type": "stream",
       "stream": "stdout",
       "text": [
        " %\n",
        "13.0"
       ]
      },
      {
       "output_type": "stream",
       "stream": "stdout",
       "text": [
        " %\n",
        "14.0"
       ]
      },
      {
       "output_type": "stream",
       "stream": "stdout",
       "text": [
        " %\n",
        "15.0"
       ]
      },
      {
       "output_type": "stream",
       "stream": "stdout",
       "text": [
        " %\n",
        "16.0"
       ]
      },
      {
       "output_type": "stream",
       "stream": "stdout",
       "text": [
        " %\n",
        "17.0"
       ]
      },
      {
       "output_type": "stream",
       "stream": "stdout",
       "text": [
        " %\n",
        "18.0"
       ]
      },
      {
       "output_type": "stream",
       "stream": "stdout",
       "text": [
        " %\n",
        "19.0"
       ]
      },
      {
       "output_type": "stream",
       "stream": "stdout",
       "text": [
        " %\n",
        "20.0"
       ]
      },
      {
       "output_type": "stream",
       "stream": "stdout",
       "text": [
        " %\n",
        "21.0"
       ]
      },
      {
       "output_type": "stream",
       "stream": "stdout",
       "text": [
        " %\n",
        "22.0"
       ]
      },
      {
       "output_type": "stream",
       "stream": "stdout",
       "text": [
        " %\n",
        "23.0"
       ]
      },
      {
       "output_type": "stream",
       "stream": "stdout",
       "text": [
        " %\n",
        "24.0"
       ]
      },
      {
       "output_type": "stream",
       "stream": "stdout",
       "text": [
        " %\n",
        "25.0"
       ]
      },
      {
       "output_type": "stream",
       "stream": "stdout",
       "text": [
        " %\n",
        "26.0"
       ]
      },
      {
       "output_type": "stream",
       "stream": "stdout",
       "text": [
        " %\n",
        "27.0"
       ]
      },
      {
       "output_type": "stream",
       "stream": "stdout",
       "text": [
        " %\n",
        "28.0"
       ]
      },
      {
       "output_type": "stream",
       "stream": "stdout",
       "text": [
        " %\n",
        "29.0"
       ]
      },
      {
       "output_type": "stream",
       "stream": "stdout",
       "text": [
        " %\n",
        "30.0"
       ]
      },
      {
       "output_type": "stream",
       "stream": "stdout",
       "text": [
        " %\n",
        "31.0"
       ]
      },
      {
       "output_type": "stream",
       "stream": "stdout",
       "text": [
        " %\n",
        "32.0"
       ]
      },
      {
       "output_type": "stream",
       "stream": "stdout",
       "text": [
        " %\n",
        "33.0"
       ]
      },
      {
       "output_type": "stream",
       "stream": "stdout",
       "text": [
        " %\n",
        "34.0"
       ]
      },
      {
       "output_type": "stream",
       "stream": "stdout",
       "text": [
        " %\n",
        "35.0"
       ]
      },
      {
       "output_type": "stream",
       "stream": "stdout",
       "text": [
        " %\n",
        "36.0"
       ]
      },
      {
       "output_type": "stream",
       "stream": "stdout",
       "text": [
        " %\n",
        "37.0"
       ]
      },
      {
       "output_type": "stream",
       "stream": "stdout",
       "text": [
        " %\n",
        "38.0"
       ]
      },
      {
       "output_type": "stream",
       "stream": "stdout",
       "text": [
        " %\n",
        "39.0"
       ]
      },
      {
       "output_type": "stream",
       "stream": "stdout",
       "text": [
        " %\n",
        "40.0"
       ]
      },
      {
       "output_type": "stream",
       "stream": "stdout",
       "text": [
        " %\n",
        "41.0"
       ]
      },
      {
       "output_type": "stream",
       "stream": "stdout",
       "text": [
        " %\n",
        "42.0"
       ]
      },
      {
       "output_type": "stream",
       "stream": "stdout",
       "text": [
        " %\n",
        "43.0"
       ]
      },
      {
       "output_type": "stream",
       "stream": "stdout",
       "text": [
        " %\n",
        "44.0"
       ]
      },
      {
       "output_type": "stream",
       "stream": "stdout",
       "text": [
        " %\n",
        "45.0"
       ]
      },
      {
       "output_type": "stream",
       "stream": "stdout",
       "text": [
        " %\n",
        "46.0"
       ]
      },
      {
       "output_type": "stream",
       "stream": "stdout",
       "text": [
        " %\n",
        "47.0"
       ]
      },
      {
       "output_type": "stream",
       "stream": "stdout",
       "text": [
        " %\n",
        "48.0"
       ]
      },
      {
       "output_type": "stream",
       "stream": "stdout",
       "text": [
        " %\n",
        "49.0"
       ]
      },
      {
       "output_type": "stream",
       "stream": "stdout",
       "text": [
        " %\n",
        "50.0"
       ]
      },
      {
       "output_type": "stream",
       "stream": "stdout",
       "text": [
        " %\n",
        "51.0"
       ]
      },
      {
       "output_type": "stream",
       "stream": "stdout",
       "text": [
        " %\n",
        "52.0"
       ]
      },
      {
       "output_type": "stream",
       "stream": "stdout",
       "text": [
        " %\n",
        "53.0"
       ]
      },
      {
       "output_type": "stream",
       "stream": "stdout",
       "text": [
        " %\n",
        "54.0"
       ]
      },
      {
       "output_type": "stream",
       "stream": "stdout",
       "text": [
        " %\n",
        "55.0"
       ]
      },
      {
       "output_type": "stream",
       "stream": "stdout",
       "text": [
        " %\n",
        "56.0"
       ]
      },
      {
       "output_type": "stream",
       "stream": "stdout",
       "text": [
        " %\n",
        "57.0"
       ]
      },
      {
       "output_type": "stream",
       "stream": "stdout",
       "text": [
        " %\n",
        "58.0"
       ]
      },
      {
       "output_type": "stream",
       "stream": "stdout",
       "text": [
        " %\n",
        "59.0"
       ]
      },
      {
       "output_type": "stream",
       "stream": "stdout",
       "text": [
        " %\n",
        "60.0"
       ]
      },
      {
       "output_type": "stream",
       "stream": "stdout",
       "text": [
        " %\n",
        "61.0"
       ]
      },
      {
       "output_type": "stream",
       "stream": "stdout",
       "text": [
        " %\n",
        "62.0"
       ]
      },
      {
       "output_type": "stream",
       "stream": "stdout",
       "text": [
        " %\n",
        "63.0"
       ]
      },
      {
       "output_type": "stream",
       "stream": "stdout",
       "text": [
        " %\n",
        "64.0"
       ]
      },
      {
       "output_type": "stream",
       "stream": "stdout",
       "text": [
        " %\n",
        "65.0"
       ]
      },
      {
       "output_type": "stream",
       "stream": "stdout",
       "text": [
        " %\n",
        "66.0"
       ]
      },
      {
       "output_type": "stream",
       "stream": "stdout",
       "text": [
        " %\n",
        "67.0"
       ]
      },
      {
       "output_type": "stream",
       "stream": "stdout",
       "text": [
        " %\n",
        "68.0"
       ]
      },
      {
       "output_type": "stream",
       "stream": "stdout",
       "text": [
        " %\n",
        "69.0"
       ]
      },
      {
       "output_type": "stream",
       "stream": "stdout",
       "text": [
        " %\n",
        "70.0"
       ]
      },
      {
       "output_type": "stream",
       "stream": "stdout",
       "text": [
        " %\n",
        "71.0"
       ]
      },
      {
       "output_type": "stream",
       "stream": "stdout",
       "text": [
        " %\n",
        "72.0"
       ]
      },
      {
       "output_type": "stream",
       "stream": "stdout",
       "text": [
        " %\n",
        "73.0"
       ]
      },
      {
       "output_type": "stream",
       "stream": "stdout",
       "text": [
        " %\n",
        "74.0"
       ]
      },
      {
       "output_type": "stream",
       "stream": "stdout",
       "text": [
        " %\n",
        "75.0"
       ]
      },
      {
       "output_type": "stream",
       "stream": "stdout",
       "text": [
        " %\n",
        "76.0"
       ]
      },
      {
       "output_type": "stream",
       "stream": "stdout",
       "text": [
        " %\n",
        "77.0"
       ]
      },
      {
       "output_type": "stream",
       "stream": "stdout",
       "text": [
        " %\n",
        "78.0"
       ]
      },
      {
       "output_type": "stream",
       "stream": "stdout",
       "text": [
        " %\n",
        "79.0"
       ]
      },
      {
       "output_type": "stream",
       "stream": "stdout",
       "text": [
        " %\n",
        "80.0"
       ]
      },
      {
       "output_type": "stream",
       "stream": "stdout",
       "text": [
        " %\n",
        "81.0"
       ]
      },
      {
       "output_type": "stream",
       "stream": "stdout",
       "text": [
        " %\n",
        "82.0"
       ]
      },
      {
       "output_type": "stream",
       "stream": "stdout",
       "text": [
        " %\n",
        "83.0"
       ]
      },
      {
       "output_type": "stream",
       "stream": "stdout",
       "text": [
        " %\n",
        "84.0"
       ]
      },
      {
       "output_type": "stream",
       "stream": "stdout",
       "text": [
        " %\n",
        "85.0"
       ]
      },
      {
       "output_type": "stream",
       "stream": "stdout",
       "text": [
        " %\n",
        "86.0"
       ]
      },
      {
       "output_type": "stream",
       "stream": "stdout",
       "text": [
        " %\n",
        "87.0"
       ]
      },
      {
       "output_type": "stream",
       "stream": "stdout",
       "text": [
        " %\n",
        "88.0"
       ]
      },
      {
       "output_type": "stream",
       "stream": "stdout",
       "text": [
        " %\n",
        "89.0"
       ]
      },
      {
       "output_type": "stream",
       "stream": "stdout",
       "text": [
        " %\n",
        "90.0"
       ]
      },
      {
       "output_type": "stream",
       "stream": "stdout",
       "text": [
        " %\n",
        "91.0"
       ]
      },
      {
       "output_type": "stream",
       "stream": "stdout",
       "text": [
        " %\n",
        "92.0"
       ]
      },
      {
       "output_type": "stream",
       "stream": "stdout",
       "text": [
        " %\n",
        "93.0"
       ]
      },
      {
       "output_type": "stream",
       "stream": "stdout",
       "text": [
        " %\n",
        "94.0"
       ]
      },
      {
       "output_type": "stream",
       "stream": "stdout",
       "text": [
        " %\n",
        "95.0"
       ]
      },
      {
       "output_type": "stream",
       "stream": "stdout",
       "text": [
        " %\n",
        "96.0"
       ]
      },
      {
       "output_type": "stream",
       "stream": "stdout",
       "text": [
        " %\n",
        "97.0"
       ]
      },
      {
       "output_type": "stream",
       "stream": "stdout",
       "text": [
        " %\n",
        "98.0"
       ]
      },
      {
       "output_type": "stream",
       "stream": "stdout",
       "text": [
        " %\n",
        "99.0"
       ]
      },
      {
       "output_type": "stream",
       "stream": "stdout",
       "text": [
        " %\n",
        "\n",
        "\n",
        " Monte Carlo Ends"
       ]
      },
      {
       "output_type": "stream",
       "stream": "stdout",
       "text": [
        "\n"
       ]
      }
     ],
     "prompt_number": 3
    },
    {
     "cell_type": "code",
     "collapsed": false,
     "input": [
      "print HIST1\n",
      "a=0\n",
      "for i in range (HIST1.size):\n",
      "   a += HIST1[i]\n",
      "print a"
     ],
     "language": "python",
     "metadata": {},
     "outputs": [
      {
       "output_type": "stream",
       "stream": "stdout",
       "text": [
        "[  0.00000000e+00   0.00000000e+00   0.00000000e+00   4.91520000e-05\n",
        "   2.74560000e-04]\n",
        "0.000323712\n"
       ]
      }
     ],
     "prompt_number": 16
    },
    {
     "cell_type": "code",
     "collapsed": false,
     "input": [
      "data_mcmc = np.loadtxt('MCMC_reg.dat', usecols=(0,1,2,3,4))\n",
      "# L_0, M_0, beta, gamma, chi_sqr\n",
      "\n",
      "\n",
      "\n",
      "V = data_mcmc[:,0] # L_0\n",
      "W = data_mcmc[:,1] # M_0\n",
      "X = data_mcmc[:,2] # beta\n",
      "Y = data_mcmc[:,3] # gamma\n",
      "Z = data_mcmc[:,4] # chi_sqr\n",
      "\n",
      "fig = figure(figsize=(10, 5))\n",
      "fig.subplots_adjust(hspace=0.20, wspace=0.20,top=1.5, right=1.0, bottom=0.0)\n",
      "\n",
      "ax1 = fig.add_subplot(221)\n",
      "ax1.scatter(V, Z, s=0.8)\n",
      "ax1.set_xlabel(\"$\\log_{10}(L_0)$\",fontsize=20)\n",
      "ax1.set_ylabel(\" $\\chi^2$ \",fontsize=20)\n",
      "#ax1.set_yscale=(\"log\")\n",
      "\n",
      "\n",
      "ax2 = fig.add_subplot(222)\n",
      "ax2.scatter(W, Z, s=0.8)\n",
      "ax2.set_xlabel(\"$\\log_{10}(M_0)$\",fontsize=20)\n",
      "ax2.set_ylabel(\" $\\chi^2$ \",fontsize=20)\n",
      "#ax2.set_yscale=(\"log\")\n",
      "\n",
      "#ax2.yaxis.set_major_formatter(plt.NullFormatter())\n",
      "\n",
      "ax3 = fig.add_subplot(223)\n",
      "ax3.scatter(X, Z, s=0.8)\n",
      "ax3.set_xlabel(r\" $\\beta $  \",fontsize=20)\n",
      "ax3.set_ylabel(\" $\\chi^2$ \",fontsize=20)\n",
      "#ax3.set_yscale=(\"log\")\n",
      "#ax.yaxis.set_major_formatter(plt.NullFormatter())\n",
      "\n",
      "ax = fig.add_subplot(224)\n",
      "ax.scatter(Y, Z, s=0.8)\n",
      "ax.set_xlabel(r\"$\\gamma$\",fontsize=20)\n",
      "ax.set_ylabel(\" $\\chi^2$ \",fontsize=20)\n",
      "#ax.set_yscale=(\"log\")\n",
      "\n",
      "#ax.yaxis.set_major_formatter(plt.NullFormatter())\n",
      "\n"
     ],
     "language": "python",
     "metadata": {},
     "outputs": [
      {
       "metadata": {},
       "output_type": "pyout",
       "prompt_number": 4,
       "text": [
        "<matplotlib.text.Text at 0xb0f46b4c>"
       ]
      },
      {
       "metadata": {},
       "output_type": "display_data",
       "png": "[encoded data removed]",
       "text": [
        "<matplotlib.figure.Figure at 0xb4d3acec>"
       ]
      }
     ],
     "prompt_number": 4
    },
    {
     "cell_type": "code",
     "collapsed": false,
     "input": [
      "print \"\\n\\n\"\n",
      "L_0   = 10**17.75\n",
      "M_0   = 10**11.23133723\n",
      "beta  = 0.63808236\n",
      "gamma = 0.577339735\n",
      "\n",
      "#Calculate the histogram and Xi_sqr for first time.\n",
      "for i in range(M.size):\n",
      "    L[i] = Luminosity( M[i], L_0, M_0, beta, gamma)\n",
      "Magnitude_UV_galaxy_list = 51.82 - 2.5 * log10(L[:])\n",
      "\n",
      "CC = histogram( Magnitude_UV_galaxy_list, \n",
      "               bins=(-22.5,-22.0,-21.5,-21.0,-20.5,-20.0,-19.5,-19.0,-18.5,-18.0,-17.5,-17.0,-16.5))[0]\n",
      "CC = CC/( 0.5*BoxLength**3)\n",
      "DD = [-22.5,-22.0,-21.5,-21.0,-20.5,-20.0,-19.5,-19,-18.5,-18.0,-17.5,-17.0]\n",
      "\n",
      "figure(figsize(6,4.5))\n",
      "semilogy(DD,CC,\"g\", label='Fit')\n",
      "plot(Obs_data1[:,0],Obs_data1[:,1],#Obs_data[:,2],Obs_data[:,3],\n",
      "         \"bo\",label='Willott-2013')\n",
      "plot(Obs_data2[:,0],Obs_data2[:,1],#Obs_data2[:,2],Obs_data2[:,3],\n",
      "         \"ko\",label='Bouwens-2014')\n",
      "plot(Obs_data3[:,0],Obs_data3[:,1],#Obs_data3[:,2],Obs_data3[:,3],\n",
      "        \"ro\",label='McLure-2009',linewidth=1)\n",
      "\n",
      "ylabel(r\"$\\log_{10}$ LF\",fontsize=20)\n",
      "yscale(\"log\")\n",
      "xlabel(\"Magnitude\",fontsize=20)\n",
      "axis([-23,-16,0.8e-6,1.6e-2])\n",
      "title(\"Luminosity Function at z=5.9\\n in a box of lenght=250Mpc h-1\",fontsize=17)\n",
      "\n",
      "legend(loc=4)"
     ],
     "language": "python",
     "metadata": {},
     "outputs": [
      {
       "output_type": "stream",
       "stream": "stdout",
       "text": [
        "\n",
        "\n",
        "\n"
       ]
      },
      {
       "metadata": {},
       "output_type": "pyout",
       "prompt_number": 7,
       "text": [
        "<matplotlib.legend.Legend at 0xaee2bacc>"
       ]
      },
      {
       "metadata": {},
       "output_type": "display_data",
       "png": "[encoded data removed]",
       "text": [
        "<matplotlib.figure.Figure at 0xaee1dc6c>"
       ]
      }
     ],
     "prompt_number": 7
    },
    {
     "cell_type": "markdown",
     "metadata": {},
     "source": [
      "#Functions\n",
      "\n",
      "### The Fitting function for Luminosity\n",
      "\n",
      "$$ L(M) = L_0 M \\left[ \\left(\\frac{M}{M^*}\\right)^{-\\beta} + \\left(\\frac{M}{M^*}\\right)^{\\gamma} \\right]^{-1} $$\n",
      "\n",
      "### The fitting funtion for Star Forming Rate\n",
      "$$ \\textrm{SFR}(M_h) = 1.4 \\times 10^{-28} L_0 M \n",
      "                          \\left[ \\left(\\frac{M_h}{M^*}\\right)^{-\\beta} \n",
      "                               + \\left(\\frac{M_h}{M^*}\\right)^{\\gamma} \\right]^{-1} $$\n",
      "###Dimensions\n",
      "\n",
      "Magnitude: dimetionless\n",
      "\n",
      "Luminosity:  $[ \\text{erg } \\text{s}^{-1} \\text{Hz}^{-1} ]$\n",
      "\n",
      "Star Formation Rate: $[ M_\\odot \\textrm{yr}^{-1} ]$\n",
      "\n",
      "Number of parameters:= $n$. In this case $n=4$. They are $L_0$, $M_0$, $\\beta$ and $\\gamma$.\n",
      "\n",
      "The likelihood ($\\mathcal{L}$) is defined as:\n",
      "\n",
      "$\\mathcal{L} \\propto e^{-\\frac{\\chi^2}{ n}}$\n",
      "\n",
      "where\n",
      "\n",
      "$\\chi = \\sum \\left( x_\\textrm{obs} - x_\\textrm{fit} \\right)^2$\n",
      "\n",
      "------------------------------------\n",
      "# Markov Chain Monte Carlo\n",
      "\n",
      "For each MC step $\\mathcal{L}_\\textrm{new}$ is calculated with a random set of parameters.\n",
      "\n",
      "### Accepted MC-step parameters:\n",
      "\n",
      "If $ \\frac{\\mathcal{L}_\\textrm{new}}{\\mathcal{L}_\\textrm{old}}  > 1$ the new set of parameters is accepted.\n",
      "\n",
      "### Accepted MC-step parameters:\n",
      "Else, not al steps are rejected, there is a probability to be accepted. With $p$ a random number in the range $[0,1)$, if\n",
      "\n",
      "\n",
      "$ 1 > p > \\frac{\\mathcal{L}_\\textrm{new}}{\\mathcal{L}_\\textrm{old}} $\n",
      "\n",
      "the step is accepted. This condition can be written as:\n",
      "\n",
      "$ p > \\frac{ \\exp\\left( - \\frac{ \\chi^2_\\textrm{new} }{ n }  \\right) }\n",
      "           { \\exp\\left( - \\frac{ \\chi^2_\\textrm{old} }{ n }  \\right) }\n",
      "     =  \n",
      "            \\exp\\left( - \\left(\\chi^2_\\textrm{new} - \\chi^2_\\textrm{old} \\right) \\right)\n",
      "     =      \n",
      "            \\exp\\left( - \\Delta  \\right)\n",
      "     $\n",
      "     \n",
      "With $ \\Delta = \\chi^2_\\textrm{new} - \\chi^2_\\textrm{old} $\n",
      "\n",
      "### Rejected MC-step parameters:\n",
      "If $ \\frac{\\mathcal{L}_\\textrm{new}}{\\mathcal{L}_\\textrm{old}}  < 1$\n",
      "\n",
      "and\n",
      "\n",
      "$ p < \\exp\\left( -\\Delta \\right)$"
     ]
    },
    {
     "cell_type": "code",
     "collapsed": false,
     "input": [
      "#############################################\n",
      "#                                           #\n",
      "#           Plotting SFR function           #\n",
      "#                                           #\n",
      "#############################################\n",
      "\n",
      "L_0   = 10.0**(17.651076186)\n",
      "M_0   = 10.0**(11.3103664009)\n",
      "beta  =  0.863881819343\n",
      "gamma =  0.532187082693\n",
      "\n",
      "Mass = linspace(10,14,20)\n",
      "SFR2 = zeros(Mass.size)\n",
      "\n",
      "for i in range(Mass.size):\n",
      "    SFR2[i] = StarFormationRate(10**Mass[i],L_0,M_0,beta,gamma)\n",
      "           \n",
      "loglog(10**Mass,SFR2,\"r-\")\n",
      "xlabel(\"DMH mass$[M_\\odot]$\", fontsize=20)\n",
      "ylabel(\"SFR $[M_\\odot yr^{-1}]$\", fontsize=20)"
     ],
     "language": "python",
     "metadata": {},
     "outputs": [
      {
       "metadata": {},
       "output_type": "pyout",
       "prompt_number": 9,
       "text": [
        "<matplotlib.text.Text at 0xb08ae56c>"
       ]
      },
      {
       "metadata": {},
       "output_type": "display_data",
       "png": "[encoded data removed]",
       "text": [
        "<matplotlib.figure.Figure at 0xaf39dbac>"
       ]
      }
     ],
     "prompt_number": 9
    },
    {
     "cell_type": "code",
     "collapsed": false,
     "input": [
      "from IPython.core.display import HTML\n",
      "HTML('<img src=\"http://pbfcomics.com/archive_b/PBF048-Suicide_Train.gif\" />') "
     ],
     "language": "python",
     "metadata": {},
     "outputs": [
      {
       "html": [
        "<img src=\"http://pbfcomics.com/archive_b/PBF048-Suicide_Train.gif\" />"
       ],
       "metadata": {},
       "output_type": "pyout",
       "prompt_number": 11,
       "text": [
        "<IPython.core.display.HTML at 0xaea7d52c>"
       ]
      }
     ],
     "prompt_number": 11
    },
    {
     "cell_type": "code",
     "collapsed": false,
     "input": [],
     "language": "python",
     "metadata": {},
     "outputs": []
    }
   ],
   "metadata": {}
  }
 ]
}