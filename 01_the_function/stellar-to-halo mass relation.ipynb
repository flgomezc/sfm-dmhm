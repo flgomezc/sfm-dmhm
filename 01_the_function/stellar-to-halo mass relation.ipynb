{
 "metadata": {
  "name": ""
 },
 "nbformat": 3,
 "nbformat_minor": 0,
 "worksheets": [
  {
   "cells": [
    {
     "cell_type": "markdown",
     "metadata": {},
     "source": [
      "From the article of Moster et al-2010\n",
      "\n",
      "The Stellar mass of galaxies (m) to the mass of its dark matter halo (M)\n",
      "\n",
      "\n",
      "$ \\frac{m(M)}{M} = 2 \\left(\\frac{m}{M} \\right)_0 \\left[ \\left(\\frac{M}{M_1}\\right)^{-\\beta} + \\left(\\frac{M}{M_1}\\right)^{-\\gamma} \\right]^{-1}$\n",
      "\n",
      "With the following fitting parameters:\n",
      "\n",
      "$\\log_{10}M_1 = 11.884$\n",
      "\n",
      "$\\left(\\frac{m}{M} \\right)_0 = 0.02820$\n",
      "\n",
      "$\\beta = 1.057$\n",
      "\n",
      "$\\gamma = 0.556$\n"
     ]
    },
    {
     "cell_type": "code",
     "collapsed": false,
     "input": [
      "%pylab inline\n"
     ],
     "language": "python",
     "metadata": {},
     "outputs": [
      {
       "output_type": "stream",
       "stream": "stdout",
       "text": [
        "Populating the interactive namespace from numpy and matplotlib\n"
       ]
      }
     ],
     "prompt_number": 47
    },
    {
     "cell_type": "code",
     "collapsed": false,
     "input": [
      "\n",
      "\n",
      "BINS = 11\n",
      "\n",
      "mM0 = 11.884\n",
      "logM1  = 11.884\n",
      "beta = 1.057\n",
      "gamma = 0.556\n",
      "\n",
      "logM_min = 10\n",
      "logM_max = 13\n",
      "\n",
      "dm_mass = np.linspace( logM_min, logM_max, BINS)"
     ],
     "language": "python",
     "metadata": {},
     "outputs": [],
     "prompt_number": 48
    },
    {
     "cell_type": "code",
     "collapsed": false,
     "input": [
      "def SHM(M):\n",
      "    return 2*mM0*( (M/10**logM1)**(-beta) +\n",
      "                  (M/10**logM1)**(-gamma) )**(-1)\n"
     ],
     "language": "python",
     "metadata": {},
     "outputs": [],
     "prompt_number": 49
    },
    {
     "cell_type": "code",
     "collapsed": false,
     "input": [
      "M= 10**dm_mass\n"
     ],
     "language": "python",
     "metadata": {},
     "outputs": [],
     "prompt_number": 50
    },
    {
     "cell_type": "code",
     "collapsed": false,
     "input": [
      "plt.loglog(M,SHM(M)/M)\n",
      "plt.title(\"Stellar-to-Halo mass relation\")\n",
      "plt.xlabel(\"Halo mass ($M_\\odot$)\")\n",
      "plt.ylabel(r\"$\\frac{m}{M}$\")"
     ],
     "language": "python",
     "metadata": {},
     "outputs": [
      {
       "metadata": {},
       "output_type": "pyout",
       "prompt_number": 62,
       "text": [
        "<matplotlib.text.Text at 0x6aa3b50>"
       ]
      },
      {
       "metadata": {},
       "output_type": "display_data",
       "png": "[encoded data removed]",
       "text": [
        "<matplotlib.figure.Figure at 0x7e80b10>"
       ]
      }
     ],
     "prompt_number": 62
    },
    {
     "cell_type": "code",
     "collapsed": false,
     "input": [],
     "language": "python",
     "metadata": {},
     "outputs": [
      {
       "metadata": {},
       "output_type": "pyout",
       "prompt_number": 35,
       "text": [
        "array([  1.00000000e+10,   1.99526231e+10,   3.98107171e+10,\n",
        "         7.94328235e+10,   1.58489319e+11,   3.16227766e+11,\n",
        "         6.30957344e+11,   1.25892541e+12,   2.51188643e+12,\n",
        "         5.01187234e+12,   1.00000000e+13])"
       ]
      }
     ],
     "prompt_number": 35
    },
    {
     "cell_type": "code",
     "collapsed": false,
     "input": [],
     "language": "python",
     "metadata": {},
     "outputs": []
    }
   ],
   "metadata": {}
  }
 ]
}