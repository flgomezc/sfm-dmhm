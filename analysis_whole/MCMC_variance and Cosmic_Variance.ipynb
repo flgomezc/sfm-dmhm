{
 "cells": [
  {
   "cell_type": "code",
   "execution_count": 1,
   "metadata": {
    "collapsed": false
   },
   "outputs": [
    {
     "name": "stdout",
     "output_type": "stream",
     "text": [
      "Populating the interactive namespace from numpy and matplotlib\n"
     ]
    },
    {
     "name": "stderr",
     "output_type": "stream",
     "text": [
      "observational_data.py:64: RuntimeWarning: divide by zero encountered in divide\n",
      "  Obs_data2_log10yerror = [array(log10(Bouwens[:,1]/(Bouwens[:,1]-Bouwens[:,2]))),\n"
     ]
    }
   ],
   "source": [
    "%pylab inline\n",
    "from random import *\n",
    "from observational_data import *\n",
    "from constants import *\n",
    "from functions import *"
   ]
  },
  {
   "cell_type": "code",
   "execution_count": 2,
   "metadata": {
    "collapsed": false
   },
   "outputs": [],
   "source": [
    "dataset = [OD1[3], OD2[3],OD3[3],OD4[3]]\n",
    "labels = [\"L_0\", \"M_0\", \"beta\", \"gamma\"]"
   ]
  },
  {
   "cell_type": "code",
   "execution_count": 10,
   "metadata": {
    "collapsed": false
   },
   "outputs": [
    {
     "name": "stdout",
     "output_type": "stream",
     "text": [
      "\n",
      "Willott\n",
      "With Dust \n",
      "\n",
      "L_0\n",
      "18.07 0.06 0.10\n",
      "M_0\n",
      "11.19 0.26 0.67\n",
      "beta\n",
      "1.48 1.28 0.11\n",
      "gamma\n",
      "0.4028 0.0822 0.3010\n",
      "\n",
      "Willott\n",
      "Without Dust \n",
      "\n",
      "L_0\n",
      "17.81 0.08 0.12\n",
      "M_0\n",
      "11.12 0.24 0.58\n",
      "beta\n",
      "1.44 1.35 0.16\n",
      "gamma\n",
      "0.5182 0.0589 0.2367\n"
     ]
    }
   ],
   "source": [
    "BestPar_w = np.loadtxt('../program/analysis/OD1/Best_Parameters_w_dust.dat', \n",
    "                       usecols=(0,1,2,3,4,5,6,7,8,9,10,11), skiprows=1, delimiter=\",\")\n",
    "print \"\\n\",dataset[0]\n",
    "print \"With Dust \\n\"\n",
    "for i in range (4):\n",
    "    P_mean       = BestPar_w[:,i*3+ 0]\n",
    "    P_deltaminus = BestPar_w[:,i*3+1]\n",
    "    P_deltaplus  = BestPar_w[:,i*3+2]\n",
    "    \n",
    "    print labels[i]\n",
    "    if(i!=3):\n",
    "        print \"%.2f\" %average(P_mean), \"%.2f\" %average(P_deltaminus), \"%.2f\" %average(P_deltaplus)\n",
    "    else:\n",
    "        print \"%.4f\" %average(P_mean), \"%.4f\" %average(P_deltaminus), \"%.4f\" %average(P_deltaplus)\n",
    "    \n",
    "BestPar_w = np.loadtxt('../program/analysis/OD1/Best_Parameters_wo_dust.dat', \n",
    "                       usecols=(0,1,2,3,4,5,6,7,8,9,10,11), skiprows=1, delimiter=\",\")\n",
    "print \"\\n\",dataset[0]\n",
    "print \"Without Dust \\n\"\n",
    "for i in range (4):\n",
    "    P_mean       = BestPar_w[:,i*3+ 0]\n",
    "    P_deltaminus = BestPar_w[:,i*3+1]\n",
    "    P_deltaplus  = BestPar_w[:,i*3+2]\n",
    "    print labels[i]\n",
    "    if(i!=3):\n",
    "        print \"%.2f\" %average(P_mean), \"%.2f\" %average(P_deltaminus), \"%.2f\" %average(P_deltaplus)\n",
    "    else:\n",
    "        print \"%.4f\" %average(P_mean), \"%.4f\" %average(P_deltaminus), \"%.4f\" %average(P_deltaplus)"
   ]
  },
  {
   "cell_type": "code",
   "execution_count": 11,
   "metadata": {
    "collapsed": false,
    "scrolled": false
   },
   "outputs": [
    {
     "name": "stdout",
     "output_type": "stream",
     "text": [
      "\n",
      "Bouwens\n",
      "With Dust \n",
      "\n",
      "L_0\n",
      "18.27 0.22 0.34\n",
      "M_0\n",
      "11.43 0.49 0.57\n",
      "beta\n",
      "0.88 0.28 0.39\n",
      "gamma\n",
      "0.1406 0.1406 0.7588\n",
      "\n",
      "Bouwens\n",
      "Without Dust \n",
      "\n",
      "L_0\n",
      "17.81 0.16 0.22\n",
      "M_0\n",
      "10.82 0.32 1.02\n",
      "beta\n",
      "0.91 0.48 0.62\n",
      "gamma\n",
      "0.1346 0.1344 0.6771\n",
      "\n",
      "McLure\n",
      "With Dust \n",
      "\n",
      "L_0\n",
      "18.03 0.20 0.08\n",
      "M_0\n",
      "11.41 0.83 0.57\n",
      "beta\n",
      "0.49 0.44 1.07\n",
      "gamma\n",
      "0.1953 0.1393 0.2933\n",
      "\n",
      "McLure\n",
      "Without Dust \n",
      "\n",
      "L_0\n",
      "17.78 0.12 0.15\n",
      "M_0\n",
      "11.02 0.45 0.83\n",
      "beta\n",
      "0.67 0.65 0.90\n",
      "gamma\n",
      "0.3365 0.1064 0.2906\n",
      "\n",
      "Finkelstein\n",
      "With Dust \n",
      "\n",
      "L_0\n",
      "17.98 0.07 0.23\n",
      "M_0\n",
      "11.17 0.10 0.51\n",
      "beta\n",
      "1.36 0.48 0.22\n",
      "gamma\n",
      "0.0242 0.0239 0.5032\n",
      "\n",
      "Finkelstein\n",
      "Without Dust \n",
      "\n",
      "L_0\n",
      "17.63 0.06 0.17\n",
      "M_0\n",
      "10.88 0.11 0.44\n",
      "beta\n",
      "1.56 0.75 0.03\n",
      "gamma\n",
      "0.0933 0.0830 0.3033\n"
     ]
    }
   ],
   "source": [
    "for k in range(1,4):\n",
    "    BestPar_w = np.loadtxt('../program_small/analysis/OD'+str(k+1)+'/Best_Parameters_w_dust.dat', \n",
    "                           usecols=(0,1,2,3,4,5,6,7,8,9,10,11), skiprows=1, delimiter=\",\")\n",
    "    print \"\\n\",dataset[k]\n",
    "    print \"With Dust \\n\"\n",
    "    for i in range (4):\n",
    "        P_mean       = BestPar_w[:,i*3+ 0]\n",
    "        P_deltaminus = BestPar_w[:,i*3+1]\n",
    "        P_deltaplus  = BestPar_w[:,i*3+2]\n",
    "\n",
    "        print labels[i]\n",
    "        if(i!=3):\n",
    "            print \"%.2f\" %average(P_mean), \"%.2f\" %average(P_deltaminus), \"%.2f\" %average(P_deltaplus)\n",
    "        else:\n",
    "            print \"%.4f\" %average(P_mean), \"%.4f\" %average(P_deltaminus), \"%.4f\" %average(P_deltaplus)\n",
    "\n",
    "    BestPar_w = np.loadtxt('../program_small/analysis/OD'+str(k+1)+'/Best_Parameters_wo_dust.dat', \n",
    "                           usecols=(0,1,2,3,4,5,6,7,8,9,10,11), skiprows=1, delimiter=\",\")\n",
    "    print \"\\n\",dataset[k]\n",
    "    print \"Without Dust \\n\"\n",
    "    for i in range (4):\n",
    "        P_mean       = BestPar_w[:,i*3+ 0]\n",
    "        P_deltaminus = BestPar_w[:,i*3+1]\n",
    "        P_deltaplus  = BestPar_w[:,i*3+2]\n",
    "        print labels[i]\n",
    "        if(i!=3):\n",
    "            print \"%.2f\" %average(P_mean), \"%.2f\" %average(P_deltaminus), \"%.2f\" %average(P_deltaplus)\n",
    "        else:\n",
    "            print \"%.4f\" %average(P_mean), \"%.4f\" %average(P_deltaminus), \"%.4f\" %average(P_deltaplus)\n",
    "    "
   ]
  },
  {
   "cell_type": "code",
   "execution_count": null,
   "metadata": {
    "collapsed": true
   },
   "outputs": [],
   "source": []
  }
 ],
 "metadata": {
  "kernelspec": {
   "display_name": "Python 2",
   "language": "python",
   "name": "python2"
  },
  "language_info": {
   "codemirror_mode": {
    "name": "ipython",
    "version": 2
   },
   "file_extension": ".py",
   "mimetype": "text/x-python",
   "name": "python",
   "nbconvert_exporter": "python",
   "pygments_lexer": "ipython2",
   "version": "2.7.5+"
  }
 },
 "nbformat": 4,
 "nbformat_minor": 0
}
