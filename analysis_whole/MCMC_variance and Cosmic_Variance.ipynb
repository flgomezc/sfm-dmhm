{
 "cells": [
  {
   "cell_type": "code",
   "execution_count": 1,
   "metadata": {
    "collapsed": false
   },
   "outputs": [
    {
     "name": "stdout",
     "output_type": "stream",
     "text": [
      "Populating the interactive namespace from numpy and matplotlib\n"
     ]
    },
    {
     "name": "stderr",
     "output_type": "stream",
     "text": [
      "observational_data.py:64: RuntimeWarning: divide by zero encountered in divide\n",
      "  Obs_data2_log10yerror = [array(log10(Bouwens[:,1]/(Bouwens[:,1]-Bouwens[:,2]))),\n"
     ]
    }
   ],
   "source": [
    "%pylab inline\n",
    "from random import *\n",
    "from observational_data import *\n",
    "from constants import *\n",
    "from functions import *"
   ]
  },
  {
   "cell_type": "code",
   "execution_count": 2,
   "metadata": {
    "collapsed": false
   },
   "outputs": [],
   "source": [
    "dataset = [OD1[3], OD2[3],OD3[3],OD4[3]]\n",
    "labels = [\"L_0\", \"M_0\", \"beta\", \"gamma\"]"
   ]
  },
  {
   "cell_type": "code",
   "execution_count": 3,
   "metadata": {
    "collapsed": false
   },
   "outputs": [
    {
     "name": "stdout",
     "output_type": "stream",
     "text": [
      "Willott\n",
      "\n",
      "    With Dust \n",
      "\n",
      "L_0\n",
      "18.0668181805 0.0591476640156 0.0961872137797\n",
      "M_0\n",
      "11.1894829902 0.258188216978 0.674474978461\n",
      "beta\n",
      "1.48014744519 1.27665791904 0.114403866879\n",
      "gamma\n",
      "0.402845130968 0.0822057718882 0.300982049282\n",
      "Willott\n",
      "\n",
      "    Without Dust \n",
      "\n",
      "L_0\n",
      "17.8076246968 0.0831815455531 0.115167336236\n",
      "M_0\n",
      "11.119460579 0.23796141535 0.582557900477\n",
      "beta\n",
      "1.43705896343 1.34873166055 0.157369049836\n",
      "gamma\n",
      "0.518242492031 0.0588837634477 0.236656243375\n"
     ]
    }
   ],
   "source": [
    "BestPar_w = np.loadtxt('../program/analysis/OD1/Best_Parameters_w_dust.dat', \n",
    "                       usecols=(0,1,2,3,4,5,6,7,8,9,10,11), skiprows=1, delimiter=\",\")\n",
    "print dataset[0]\n",
    "print \"\\n    With Dust \\n\"\n",
    "for i in range (4):\n",
    "    P_mean       = BestPar_w[:,i*3+ 0]\n",
    "    P_deltaminus = BestPar_w[:,i*3+1]\n",
    "    P_deltaplus  = BestPar_w[:,i*3+2]\n",
    "    \n",
    "    print labels[i]\n",
    "    print average(P_mean), average(P_deltaminus), average(P_deltaplus)\n",
    "    \n",
    "BestPar_w = np.loadtxt('../program/analysis/OD1/Best_Parameters_wo_dust.dat', \n",
    "                       usecols=(0,1,2,3,4,5,6,7,8,9,10,11), skiprows=1, delimiter=\",\")\n",
    "print dataset[0]\n",
    "print \"\\n    Without Dust \\n\"\n",
    "for i in range (4):\n",
    "    P_mean       = BestPar_w[:,i*3+ 0]\n",
    "    P_deltaminus = BestPar_w[:,i*3+1]\n",
    "    P_deltaplus  = BestPar_w[:,i*3+2]\n",
    "    print labels[i]\n",
    "    print average(P_mean), average(P_deltaminus), average(P_deltaplus)"
   ]
  },
  {
   "cell_type": "code",
   "execution_count": 6,
   "metadata": {
    "collapsed": false
   },
   "outputs": [
    {
     "name": "stdout",
     "output_type": "stream",
     "text": [
      "Bouwens\n",
      "\n",
      "    With Dust \n",
      "\n",
      "L_0\n",
      "18.2662588333 0.224313066675 0.337565165713\n",
      "M_0\n",
      "11.4293951846 0.4915899281 0.570492715675\n",
      "beta\n",
      "0.880560287466 0.279808831637 0.385332960497\n",
      "gamma\n",
      "0.140633600184 0.140583953913 0.758779620846\n",
      "Bouwens\n",
      "\n",
      "    Without Dust \n",
      "\n",
      "L_0\n",
      "17.8115523758 0.158154168313 0.216717375537\n",
      "M_0\n",
      "10.8204526145 0.318962523325 1.01630996282\n",
      "beta\n",
      "0.912943800517 0.484576162545 0.623745906228\n",
      "gamma\n",
      "0.134643304815 0.134399878312 0.677061013093\n",
      "McLure\n",
      "\n",
      "    With Dust \n",
      "\n",
      "L_0\n",
      "18.0343777289 0.203219849663 0.08214965925\n",
      "M_0\n",
      "11.4067172739 0.825005096725 0.569798658113\n",
      "beta\n",
      "0.490455548162 0.440132605456 1.06865460534\n",
      "gamma\n",
      "0.19526730287 0.139273442847 0.293314692362\n",
      "McLure\n",
      "\n",
      "    Without Dust \n",
      "\n",
      "L_0\n",
      "17.7849538795 0.117097176962 0.151101833162\n",
      "M_0\n",
      "11.0186009015 0.449706744762 0.83132237345\n",
      "beta\n",
      "0.668242072816 0.648817946785 0.896065556025\n",
      "gamma\n",
      "0.336463259539 0.106420728589 0.290598888045\n"
     ]
    }
   ],
   "source": [
    "for k in range(1,3):\n",
    "    BestPar_w = np.loadtxt('../program_small/analysis/OD'+str(k+1)+'/Best_Parameters_w_dust.dat', \n",
    "                           usecols=(0,1,2,3,4,5,6,7,8,9,10,11), skiprows=1, delimiter=\",\")\n",
    "    print dataset[k]\n",
    "    print \"\\n    With Dust \\n\"\n",
    "    for i in range (4):\n",
    "        P_mean       = BestPar_w[:,i*3+ 0]\n",
    "        P_deltaminus = BestPar_w[:,i*3+1]\n",
    "        P_deltaplus  = BestPar_w[:,i*3+2]\n",
    "\n",
    "        print labels[i]\n",
    "        print average(P_mean), average(P_deltaminus), average(P_deltaplus)\n",
    "\n",
    "    BestPar_w = np.loadtxt('../program_small/analysis/OD'+str(k+1)+'/Best_Parameters_wo_dust.dat', \n",
    "                           usecols=(0,1,2,3,4,5,6,7,8,9,10,11), skiprows=1, delimiter=\",\")\n",
    "    print dataset[k]\n",
    "    print \"\\n    Without Dust \\n\"\n",
    "    for i in range (4):\n",
    "        P_mean       = BestPar_w[:,i*3+ 0]\n",
    "        P_deltaminus = BestPar_w[:,i*3+1]\n",
    "        P_deltaplus  = BestPar_w[:,i*3+2]\n",
    "        print labels[i]\n",
    "        print average(P_mean), average(P_deltaminus), average(P_deltaplus)"
   ]
  },
  {
   "cell_type": "code",
   "execution_count": null,
   "metadata": {
    "collapsed": true
   },
   "outputs": [],
   "source": []
  }
 ],
 "metadata": {
  "kernelspec": {
   "display_name": "Python 2",
   "language": "python",
   "name": "python2"
  },
  "language_info": {
   "codemirror_mode": {
    "name": "ipython",
    "version": 2
   },
   "file_extension": ".py",
   "mimetype": "text/x-python",
   "name": "python",
   "nbconvert_exporter": "python",
   "pygments_lexer": "ipython2",
   "version": "2.7.5+"
  }
 },
 "nbformat": 4,
 "nbformat_minor": 0
}
