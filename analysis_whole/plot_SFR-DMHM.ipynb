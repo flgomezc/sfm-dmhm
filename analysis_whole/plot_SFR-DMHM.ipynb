{
 "cells": [
  {
   "cell_type": "code",
   "execution_count": 1,
   "metadata": {
    "collapsed": false,
    "scrolled": true
   },
   "outputs": [
    {
     "name": "stdout",
     "output_type": "stream",
     "text": [
      "Populating the interactive namespace from numpy and matplotlib\n"
     ]
    },
    {
     "name": "stderr",
     "output_type": "stream",
     "text": [
      "observational_data.py:64: RuntimeWarning: divide by zero encountered in divide\n",
      "  Obs_data2_log10yerror = [array(log10(Bouwens[:,1]/(Bouwens[:,1]-Bouwens[:,2]))),\n"
     ]
    }
   ],
   "source": [
    "# Last modification: 2015-aug-29 Bogota\n",
    "%pylab inline\n",
    "from random import *\n",
    "from observational_data import *\n",
    "from constants import *\n",
    "from functions import *"
   ]
  },
  {
   "cell_type": "code",
   "execution_count": 2,
   "metadata": {
    "collapsed": false
   },
   "outputs": [],
   "source": [
    "import os\n",
    "DIR = os.path.expanduser('~')+'/sfr-dmhm/'"
   ]
  },
  {
   "cell_type": "code",
   "execution_count": 3,
   "metadata": {
    "collapsed": false
   },
   "outputs": [],
   "source": [
    "###################################\n",
    "# Behroozi et. al. Data\n",
    "\n",
    "aux = np.loadtxt(DIR+'data/Behroozi/sfr_release.dat') #,usecols=(0,1,2,3),skiprows=1)\n",
    "Behroozi =[]\n",
    "for i in range (aux.shape[0]):\n",
    "    if(aux[i,0]==7.030747):   # (1+z)  , Redshift z= 6.03, next closer z=5.91\n",
    "        if(aux[i,2]>-10):     #minimun log(SFR)\n",
    "            if(aux[i,1]>10.3):  #minimun log(mass)\n",
    "                Behroozi.append([aux[i,1], aux[i,2]])\n",
    "Behroozi = np.array( Behroozi)\n",
    "#(1+z) Log10(Halo Mass) Log10(<SFR>) Log10(Median SM)\n",
    "#Units are Msun, Msun/yr, and Msun, respectively.\n",
    "\n",
    "\n",
    "###################################\n",
    "# Gonzalez-Perez et. al. Data\n",
    "\n",
    "Gonzalez  = np.loadtxt(DIR+'data/v_gonzalez/gonzalez_data.dat')\n",
    "# log10(Halo_Mass), log10(SFR_mean), log10(SFR_per25), log10(SFR_per50), log10(SFR_per75)"
   ]
  },
  {
   "cell_type": "code",
   "execution_count": 4,
   "metadata": {
    "collapsed": false
   },
   "outputs": [],
   "source": [
    "Dust_Ext = 0\n",
    "### MINIMUN MASS IN THE CATALOG: 10**10.3 Msun"
   ]
  },
  {
   "cell_type": "code",
   "execution_count": 84,
   "metadata": {
    "collapsed": false,
    "scrolled": true
   },
   "outputs": [
    {
     "ename": "SyntaxError",
     "evalue": "invalid syntax (<ipython-input-84-1855c6a6dc6b>, line 66)",
     "output_type": "error",
     "traceback": [
      "\u001b[1;36m  File \u001b[1;32m\"<ipython-input-84-1855c6a6dc6b>\"\u001b[1;36m, line \u001b[1;32m66\u001b[0m\n\u001b[1;33m    SFR_1qrt.append( percentile(SFR[i][:],25) )\u001b[0m\n\u001b[1;37m           ^\u001b[0m\n\u001b[1;31mSyntaxError\u001b[0m\u001b[1;31m:\u001b[0m invalid syntax\n"
     ]
    }
   ],
   "source": [
    "Parameters=[]\n",
    "\n",
    "N_Obs_Sets = [1,]       # OD1\n",
    "for i in N_Obs_Sets:\n",
    "    if (Dust_Ext == 1):\n",
    "        Parameters.append(np.loadtxt(DIR+'program/analysis/best_parameters_w_ext_OD'+str(i)+'.dat',usecols=(0,1,2,3),skiprows=1))\n",
    "    else:\n",
    "        Parameters.append(np.loadtxt(DIR+'program/analysis/best_parameters_wo_ext_OD'+str(i)+'.dat',usecols=(0,1,2,3),skiprows=1))\n",
    "\n",
    "        \n",
    "DATA = np.loadtxt(\"../../sfr-dmhm/program_small/analysis/OD4/Best_Parameters_w_dust.dat\", delimiter=\",\", usecols=(0,3,6,9))\n",
    "\n",
    "N_Obs_Sets = [2,3,4]       # OD2, OD3, OD4\n",
    "for i in N_Obs_Sets:\n",
    "    if (Dust_Ext == 1):\n",
    "        Parameters.append(\n",
    "        np.loadtxt(\"../../sfr-dmhm/program_small/analysis/OD\"+str(i)+\"/Best_Parameters_w_dust.dat\", \n",
    "                    delimiter=\",\", usecols=(0,3,6,9))\n",
    "                         )\n",
    "        \n",
    "    else:\n",
    "        Parameters.append(\n",
    "        np.loadtxt(\"../../sfr-dmhm/program_small/analysis/OD\"+str(i)+\"/Best_Parameters_wo_dust.dat\", \n",
    "                    delimiter=\",\", usecols=(0,3,6,9))\n",
    "                         )\n",
    "\n",
    "Parameters = np.array(Parameters)\n",
    "\n",
    "\n",
    "#N_Obs_Sets = range(4)\n",
    "Dust_Extinction()\n",
    "Parameters = np.array(Parameters)\n",
    "\n",
    "Mass = logspace(10.3,13,20)\n",
    "\n",
    "L_0  = []\n",
    "M_0  = []\n",
    "beta = []\n",
    "gamma= []\n",
    "\n",
    "for k in range(4):\n",
    "    L_0.append(10**Parameters[k][:,0])\n",
    "    M_0.append(10**Parameters[k][:,1])\n",
    "    beta.append(10**Parameters[k][:,2])\n",
    "    gamma.append(10**Parameters[k][:,3])\n",
    "    \n",
    "SFR = []\n",
    "\n",
    "\n",
    "for i in range(4):\n",
    "    aux = []\n",
    "    for j in range(len(L_0[i])):\n",
    "         aux.append( array(StarFormationRate(Mass, L_0[i][j], M_0[i][j], beta[i][j], gamma[i][j])) )\n",
    "    aux = array(aux)\n",
    "    SFR.append( aux )\n",
    "\n",
    "SFR = array(SFR)    \n",
    "\n",
    "\n",
    "SFR_1qrt = []\n",
    "SFR_2qrt = []\n",
    "SFR_3qrt = []\n",
    "\n",
    "for i in range(4):\n",
    "    for j in range(len(SFR[i])\n",
    "        SFR_1qrt.append( percentile(SFR[i][:],25) )\n",
    "        SFR_2qrt.append( percentile(SFR[i][:],50) )\n",
    "        SFR_3qrt.append( percentile(SFR[i][:],75) )\n",
    "    \n",
    "SFR_1qrt"
   ]
  },
  {
   "cell_type": "code",
   "execution_count": 66,
   "metadata": {
    "collapsed": false
   },
   "outputs": [
    {
     "data": {
      "text/plain": [
       "(8, 20)"
      ]
     },
     "execution_count": 66,
     "metadata": {},
     "output_type": "execute_result"
    }
   ],
   "source": [
    "SFR[3].shape"
   ]
  },
  {
   "cell_type": "code",
   "execution_count": null,
   "metadata": {
    "collapsed": true
   },
   "outputs": [],
   "source": [
    "SFR_avrg = np.zeros([4,20])\n",
    "SFR_1qrt = np.zeros([4,20])\n",
    "SFR_3qrt = np.zeros([4,20])\n",
    "\n",
    "for i in N_Obs_Sets:\n",
    "    k = i+1\n",
    "    for j in range(0,Mass.size):\n",
    "        SFR_avrg[k,j] = average(SFR[k,:,j])\n",
    "        SFR_1qrt[k,j] = percentile(SFR[k,:,j],25)\n",
    "        SFR_3qrt[k,j] = percentile(SFR[k,:,j],75)\n",
    "\n",
    "#################################################################\n",
    "#                                                               #\n",
    "#                           Plotting                            #\n",
    "#                                                               #\n",
    "#################################################################\n",
    "        \n",
    "colors=['blue','red','green','black']\n",
    "authors=[OD1[3], OD2[3], OD3[3], OD4[3]]\n",
    "\n",
    "figure(figsize=(9,7))\n",
    "\n",
    "################################\n",
    "#              Our results \n",
    "for i in range(0,1):\n",
    "    plot(Mass,SFR_avrg[i],color=colors[i], label=authors[i])\n",
    "    fill_between(Mass,SFR_1qrt[i],SFR_3qrt[i], facecolor=colors[i],alpha=0.3)\n",
    "    plt.yscale('log', nonposy='clip')\n",
    "    plt.xscale('log')\n",
    "    \n",
    "################################\n",
    "#  Behroozi et al & Perez et al    \n",
    "plot( 10**Behroozi[:,0], 10**Behroozi[:,1], 'ro', label='Behroozi et al.')\n",
    "plot(10**Gonzalez[:,0],10**Gonzalez[:,3], c=\"red\", label='Gonzalez-Perez et al.')\n",
    "fill_between(10**Gonzalez[:,0],10**Gonzalez[:,2],10**Gonzalez[:,4], facecolor=\"red\",alpha=0.3)\n",
    "\n",
    "###############################\n",
    "legend(loc='upper left')\n",
    "\n",
    "xlim([10**10.3,10**13])\n",
    "ylim([10**-2,10**4])\n",
    "xlabel(\"DMH mass$[M_\\odot]$\", fontsize=20)\n",
    "ylabel(\"SFR $[M_\\odot yr^{-1}]$\", fontsize=20)\n",
    "\n",
    "#Dust_Extinction()\n",
    "if Dust_Ext == 1:    title('Dust Extinction Model', fontsize=24); savefig('SFR_DMHM_w.pdf')\n",
    "else:                title('No Dust Extinction Model', fontsize=24); savefig('SFR_DMHM_wo.pdf')\n",
    "\n"
   ]
  },
  {
   "cell_type": "code",
   "execution_count": null,
   "metadata": {
    "collapsed": true
   },
   "outputs": [],
   "source": []
  }
 ],
 "metadata": {
  "kernelspec": {
   "display_name": "Python 2",
   "language": "python",
   "name": "python2"
  },
  "language_info": {
   "codemirror_mode": {
    "name": "ipython",
    "version": 2
   },
   "file_extension": ".py",
   "mimetype": "text/x-python",
   "name": "python",
   "nbconvert_exporter": "python",
   "pygments_lexer": "ipython2",
   "version": "2.7.5+"
  }
 },
 "nbformat": 4,
 "nbformat_minor": 0
}
