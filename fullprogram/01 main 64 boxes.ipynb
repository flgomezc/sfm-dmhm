{
 "metadata": {
  "name": "",
  "signature": "sha256:be214c8d86321a9fb7827348ed43e840368da35c243761be947c1d06895ccc12"
 },
 "nbformat": 3,
 "nbformat_minor": 0,
 "worksheets": [
  {
   "cells": [
    {
     "cell_type": "code",
     "collapsed": false,
     "input": [
      "%pylab inline\n",
      "\n",
      "from random import *\n",
      "from observational_data import *\n",
      "\n",
      "def Luminosity(M,L_0,M_0,beta,gamma):\n",
      "    return L_0*M*( (M/M_0)**(-beta) + (M/M_0)**gamma)**(-1)\n",
      "\n",
      "def StarFormationRate(M,L_0,M_0,beta,gamma):\n",
      "    return Luminosity(M,L_0,M_0,beta,gamma) * 1.4e-28\n",
      "\n",
      "hpl  = 0.6777          # Using h from 2013-Planck\n",
      "\n",
      "# List of boxes to study\n",
      "A = range(64)\n",
      "MCMC_reg = [open( 'results/%i.dat' %filenumber, 'w') for filenumber in A]\n",
      "\n",
      "for DATA in range(64):    \n",
      "#############################################\n",
      "#            Loading data file              #\n",
      "#        Full catalog is used again         #\n",
      "#############################################\n",
      "\n",
      "    STR = '../data/MD_3840_Planck1/BDM/Small_Cells_no_mod/'+str(DATA)+'.dat'\n",
      "    M = np.loadtxt(STR,usecols=(3,), skiprows=0); \n",
      "    BoxLength = 250.0/hpl # Mpc h^{-1} \n",
      "    M.sort()\n",
      "\n",
      "    log10_M = log10(M[:])\n",
      "    L       = np.zeros(M.size)\n",
      "    L_R     = np.zeros(M.size)\n",
      "    seed(None) # seed(None) uses curent time as seed.\n",
      "\n",
      "################################################################\n",
      "#                     The Random Walk                          #\n",
      "#                     fitting function                         #\n",
      "################################################################\n",
      "\n",
      "    L_0   = 10.0**(17.6417)\n",
      "    M_0   = 10.0**(10.88)\n",
      "    beta  =  0.4\n",
      "    gamma =  0.2\n",
      "\n",
      "    L[:] = Luminosity( M[:], L_0, M_0, beta, gamma)\n",
      "    Magnitude_UV_galaxy_list = 51.82 - 2.5 * log10(L[:])\n",
      "\n",
      "    HIST1 = 1.0*histogram(Magnitude_UV_galaxy_list,bins=HIST1_bins)[0]\n",
      "    HIST2 = 1.0*histogram(Magnitude_UV_galaxy_list,bins=HIST2_bins)[0]\n",
      "    HIST3 = 1.0*histogram(Magnitude_UV_galaxy_list,bins=HIST3_bins)[0]\n",
      "\n",
      "    HIST1sz = HIST1.size; HIST2sz = HIST2.size; HIST3sz = HIST3.size\n",
      "\n",
      "    AUX = where(Magnitude_UV_galaxy_list<HIST1_bins[0])[0]\n",
      "    HIST1[0]=HIST1[0]+AUX.size\n",
      "    AUX = where(Magnitude_UV_galaxy_list<HIST2_bins[0])[0]\n",
      "    HIST2[0]=HIST2[0]+AUX.size\n",
      "    AUX = where(Magnitude_UV_galaxy_list<HIST3_bins[0])[0]\n",
      "    HIST3[0]=HIST3[0]+AUX.size\n",
      "\n",
      "    for i in range(HIST1sz-1):    HIST1[i+1]=HIST1[i+1]+HIST1[i]\n",
      "    for i in range(HIST2sz-1):    HIST2[i+1]=HIST2[i+1]+HIST2[i]\n",
      "    for i in range(HIST3sz-1):    HIST3[i+1]=HIST3[i+1]+HIST3[i]\n",
      "    for i in range(len(HIST1)):\n",
      "        HIST1[i] = HIST1[i]/((HIST1_bins[i+1]-HIST1_bins[i])*BoxLength**3)\n",
      "    for i in range(len(HIST2)):\n",
      "        HIST2[i] = HIST2[i]*1.0/(1.0*(HIST2_bins[i+1]-HIST2_bins[i])*BoxLength**3)\n",
      "    for i in range(len(HIST3)):\n",
      "        HIST3[i] = HIST3[i]/((HIST3_bins[i+1]-HIST3_bins[i])*BoxLength**3)\n",
      "    \n",
      "    NOB = 0\n",
      "    chi_sqr=0.0\n",
      "    for i in range(len(HIST1)):\n",
      "        if (HIST1[i] != 0.0):\n",
      "            chi_sqr = chi_sqr + (( log10(HIST1[i])-log10(Obs_data1_cum[i,1]) )**2 )/(2*sigma1[i]**2)\n",
      "            NOB += 1\n",
      "        else:\n",
      "            chi_sqr = chi_sqr+ ((log10(Obs_data1_cum[i,1]))**2 )/(2*sigma1[i]**2)\n",
      "    for i in range(len(HIST2)):\n",
      "        if (HIST2[i] != 0.0):\n",
      "            chi_sqr = chi_sqr + (( log10(HIST2[i])-log10(Obs_data2_cum[i,1]) )**2 )/(2*sigma2[i]**2)\n",
      "            NOB += 1\n",
      "        else:\n",
      "            chi_sqr = chi_sqr+ ((log10(Obs_data2_cum[i,1]))**2 )/(2*sigma2[i]**2)\n",
      "    for i in range(len(HIST3)):\n",
      "        if (HIST3[i] != 0.0):\n",
      "            chi_sqr = chi_sqr + (( log10(HIST3[i])-log10(Obs_data3_cum[i,1]) )**2 )/(2*sigma3[i]**2)\n",
      "            NOB += 1\n",
      "        else:\n",
      "            chi_sqr = chi_sqr+ ((log10(Obs_data3_cum[i,1]))**2 )/(2*sigma3[i]**2)\n",
      "\n",
      "    if NOB > 4:\n",
      "        NDF = NOB-4\n",
      "    else:\n",
      "        NDF = 1.0e-10\n",
      "\n",
      "    chi_sqr = chi_sqr / NDF\n",
      "    \n",
      "    MCMC_reg[DATA].write(\"# L_0 \\t M_0 \\t beta \\t gamma \\t chi_sqr \\t Number of Bins\\n\")\n",
      "    MCMC_reg[DATA].write(str(log10(L_0))+\"\\t\"+\n",
      "                   str(log10(M_0))+\"\\t\"+\n",
      "                   str(beta)+\"\\t\"+\n",
      "                   str(gamma)+\"\\t\"+\n",
      "                   str(chi_sqr)+\"\\t\"+\n",
      "                   str(NOB)+\"\\n\")\n",
      "\n",
      "################################################################\n",
      "#                 Markov Chain Monte Carlo                     #\n",
      "#                          STARTS                              #\n",
      "################################################################\n",
      "\n",
      "    MonteCarloSteps = 100\n",
      "    DeltaChi = 0.0\n",
      "    K0 = 0.1\n",
      "    K1 = 0.1\n",
      "    K2 = 0.1\n",
      "    K3 = 0.1\n",
      "\n",
      "    for k in range(MonteCarloSteps):\n",
      "\n",
      "        L_0R   = L_0  *10**(gauss(0.0,K0))\n",
      "        M_0R   = M_0  *10**(gauss(0.0,K1))\n",
      "        betaR  = beta + gauss(0.0,K2)\n",
      "        gammaR = gamma+ gauss(0.0,K3)\n",
      "\n",
      "        ### Some constraints over parameters\n",
      "        while (L_0R <10**(16.75)) or (L_0R >10**(18.0)):\n",
      "            L_0R   = L_0  *10**(gauss(0.0,K0))\n",
      "        while (M_0R < 10.80):\n",
      "            M_0R   = M_0  *10**(gauss(0.0,K1))\n",
      "        while (betaR<0) or (betaR>2.0):\n",
      "            betaR  = beta + gauss(0.0,K2)\n",
      "        while (gammaR<0) or (gammaR>3.0):\n",
      "            gammaR = gamma+ gauss(0.0,K3)\n",
      "\n",
      "        L_R[:]    = Luminosity( M[:], L_0R, M_0R, betaR, gammaR)\n",
      "        Magnitude_UV_galaxy_list_R = 51.82 - 2.5 * log10(L_R[:])\n",
      "\n",
      "    ## Calculate the histograms\n",
      "        HIST1_R = 1.0*histogram(Magnitude_UV_galaxy_list_R,bins=HIST1_bins)[0]\n",
      "        HIST2_R = 1.0*histogram(Magnitude_UV_galaxy_list_R,bins=HIST2_bins)[0]\n",
      "        HIST3_R = 1.0*histogram(Magnitude_UV_galaxy_list_R,bins=HIST3_bins)[0]\n",
      "\n",
      "        #################################################################\n",
      "        #                                                               #\n",
      "        #          Convert the histograms into cumulative histograms    #\n",
      "        #                        2014-jul-03                            #\n",
      "        AUX = where(Magnitude_UV_galaxy_list_R<HIST1_bins[0])[0]\n",
      "        HIST1_R[0]=HIST1_R[0]+AUX.size\n",
      "        AUX = where(Magnitude_UV_galaxy_list_R<HIST2_bins[0])[0]\n",
      "        HIST2_R[0]=HIST2_R[0]+AUX.size\n",
      "        AUX = where(Magnitude_UV_galaxy_list_R<HIST3_bins[0])[0]\n",
      "        HIST3_R[0]=HIST3_R[0]+AUX.size\n",
      "\n",
      "        for i in range(HIST1sz-1):    HIST1_R[i+1]=HIST1_R[i+1]+HIST1_R[i]\n",
      "        for i in range(HIST2sz-1):    HIST2_R[i+1]=HIST2_R[i+1]+HIST2_R[i]\n",
      "        for i in range(HIST3sz-1):    HIST3_R[i+1]=HIST3_R[i+1]+HIST3_R[i]\n",
      "        #                                                               #\n",
      "        #                     End of addition                           #\n",
      "        #                                                               #\n",
      "        #################################################################\n",
      "\n",
      "        for i in range(len(HIST1_R)):\n",
      "            HIST1_R[i] = HIST1_R[i]/((HIST1_bins[i+1]-HIST1_bins[i])*BoxLength**3)\n",
      "        for i in range(len(HIST2_R)):\n",
      "            HIST2_R[i] = HIST2_R[i]*1.0/(1.0*(HIST2_bins[i+1]-HIST2_bins[i])*BoxLength**3)\n",
      "        for i in range(len(HIST3_R)):\n",
      "            HIST3_R[i] = HIST3_R[i]/((HIST3_bins[i+1]-HIST3_bins[i])*BoxLength**3)\n",
      "\n",
      "        chi_sqr_R=0.0\n",
      "        NOB = 0 # Number of used Bins\n",
      "        for i in range(len(HIST1_R)):\n",
      "            if (HIST1_R[i] != 0.0):\n",
      "                chi_sqr_R = chi_sqr_R + ((log10(HIST1_R[i])-log10(Obs_data1_cum[i,1]) )**2 )/(2*sigma1[i]**2)\n",
      "                NOB += 1    \n",
      "            else:\n",
      "                chi_sqr_R = chi_sqr_R + ((log10(Obs_data1_cum[i,1]))**2 )/(2*sigma1[i]**2)\n",
      "        for i in range(len(HIST2_R)):\n",
      "            if (HIST2_R[i] != 0.0):\n",
      "                chi_sqr_R = chi_sqr_R + ((log10(HIST2_R[i])-log10(Obs_data2_cum[i,1]) )**2 )/(2*sigma2[i]**2)\n",
      "                NOB += 1    \n",
      "            else:\n",
      "                chi_sqr_R = chi_sqr_R + ((log10(Obs_data2_cum[i,1]))**2 )/(2*sigma2[i]**2)\n",
      "        for i in range(len(HIST3_R)):\n",
      "            if (HIST3_R[i] != 0.0):\n",
      "                chi_sqr_R = chi_sqr_R + ((log10(HIST3_R[i])-log10(Obs_data3_cum[i,1]) )**2 )/(2*sigma3[i]**2)\n",
      "                NOB += 1\n",
      "            else:\n",
      "                chi_sqr_R = chi_sqr_R + ((log10(Obs_data3_cum[i,1]))**2 )/(2*sigma3[i]**2)\n",
      "        if NOB > 4:\n",
      "            NDF = NOB-4\n",
      "        else:\n",
      "            NDF = 1.0e-10\n",
      "\n",
      "        chi_sqr_R = chi_sqr_R / NDF\n",
      "\n",
      "        Delta_chi = chi_sqr_R - chi_sqr\n",
      "        flag=0\n",
      "        if ( Delta_chi < 0):\n",
      "            L_0    = L_0R\n",
      "            M_0    = M_0R\n",
      "            beta   = betaR\n",
      "            gamma  = gammaR\n",
      "            HIST1   = HIST1_R\n",
      "            HIST2   = HIST2_R\n",
      "            HIST3   = HIST3_R \n",
      "            chi_sqr= chi_sqr_R\n",
      "            flag=1\n",
      "        else:\n",
      "            p = rand()\n",
      "            if ( p < exp( -Delta_chi) ): ## CORRECT EXPRESSION \"<\"\n",
      "                L_0    = L_0R\n",
      "                M_0    = M_0R\n",
      "                beta   = betaR\n",
      "                gamma  = gammaR\n",
      "                HIST1   = HIST1_R\n",
      "                HIST2   = HIST2_R\n",
      "                HIST3   = HIST3_R\n",
      "                chi_sqr= chi_sqr_R\n",
      "                flag=1\n",
      "        if(k%1000==0): Step=100.0*k/MonteCarloSteps; print str(Step)+\"%\"\n",
      "        if (flag==1):\n",
      "            MCMC_reg[DATA].write(\n",
      "                            str(log10(L_0))+\"\\t\"+\n",
      "                            str(log10(M_0))+\"\\t\"+\n",
      "                            str(beta)      +\"\\t\"+\n",
      "                            str(gamma)     +\"\\t\"+\n",
      "                            str(chi_sqr)  +\"\\t\"+\n",
      "                            str(NOB)        +\"\\n\")\n",
      "    MCMC_reg[DATA].close()\n",
      "    print str(\"Monte Carlo has end for box number \")+str(DATA)\n",
      "    M = 0"
     ],
     "language": "python",
     "metadata": {},
     "outputs": [
      {
       "output_type": "stream",
       "stream": "stdout",
       "text": [
        "Populating the interactive namespace from numpy and matplotlib\n",
        "0.0%"
       ]
      },
      {
       "output_type": "stream",
       "stream": "stdout",
       "text": [
        "\n",
        "Monte Carlo for box 0 ends"
       ]
      },
      {
       "output_type": "stream",
       "stream": "stdout",
       "text": [
        "\n",
        "0.0%"
       ]
      },
      {
       "output_type": "stream",
       "stream": "stdout",
       "text": [
        "\n",
        "Monte Carlo for box 1 ends"
       ]
      },
      {
       "output_type": "stream",
       "stream": "stdout",
       "text": [
        "\n",
        "0.0%"
       ]
      },
      {
       "output_type": "stream",
       "stream": "stdout",
       "text": [
        "\n",
        "Monte Carlo for box 2 ends"
       ]
      },
      {
       "output_type": "stream",
       "stream": "stdout",
       "text": [
        "\n",
        "0.0%"
       ]
      },
      {
       "output_type": "stream",
       "stream": "stdout",
       "text": [
        "\n",
        "Monte Carlo for box 3 ends"
       ]
      },
      {
       "output_type": "stream",
       "stream": "stdout",
       "text": [
        "\n",
        "0.0%"
       ]
      },
      {
       "output_type": "stream",
       "stream": "stdout",
       "text": [
        "\n",
        "Monte Carlo for box 4 ends"
       ]
      },
      {
       "output_type": "stream",
       "stream": "stdout",
       "text": [
        "\n",
        "0.0%"
       ]
      },
      {
       "output_type": "stream",
       "stream": "stdout",
       "text": [
        "\n",
        "Monte Carlo for box 5 ends"
       ]
      },
      {
       "output_type": "stream",
       "stream": "stdout",
       "text": [
        "\n",
        "0.0%"
       ]
      },
      {
       "output_type": "stream",
       "stream": "stdout",
       "text": [
        "\n",
        "Monte Carlo for box 6 ends"
       ]
      },
      {
       "output_type": "stream",
       "stream": "stdout",
       "text": [
        "\n",
        "0.0%"
       ]
      },
      {
       "output_type": "stream",
       "stream": "stdout",
       "text": [
        "\n",
        "Monte Carlo for box 7 ends"
       ]
      },
      {
       "output_type": "stream",
       "stream": "stdout",
       "text": [
        "\n",
        "0.0%"
       ]
      },
      {
       "output_type": "stream",
       "stream": "stdout",
       "text": [
        "\n",
        "Monte Carlo for box 8 ends"
       ]
      },
      {
       "output_type": "stream",
       "stream": "stdout",
       "text": [
        "\n",
        "0.0%"
       ]
      },
      {
       "output_type": "stream",
       "stream": "stdout",
       "text": [
        "\n",
        "Monte Carlo for box 9 ends"
       ]
      },
      {
       "output_type": "stream",
       "stream": "stdout",
       "text": [
        "\n",
        "0.0%"
       ]
      },
      {
       "output_type": "stream",
       "stream": "stdout",
       "text": [
        "\n",
        "Monte Carlo for box 10 ends"
       ]
      },
      {
       "output_type": "stream",
       "stream": "stdout",
       "text": [
        "\n",
        "0.0%"
       ]
      },
      {
       "output_type": "stream",
       "stream": "stdout",
       "text": [
        "\n",
        "Monte Carlo for box 11 ends"
       ]
      },
      {
       "output_type": "stream",
       "stream": "stdout",
       "text": [
        "\n",
        "0.0%"
       ]
      },
      {
       "output_type": "stream",
       "stream": "stdout",
       "text": [
        "\n",
        "Monte Carlo for box 12 ends"
       ]
      },
      {
       "output_type": "stream",
       "stream": "stdout",
       "text": [
        "\n",
        "0.0%"
       ]
      },
      {
       "output_type": "stream",
       "stream": "stdout",
       "text": [
        "\n",
        "Monte Carlo for box 13 ends"
       ]
      },
      {
       "output_type": "stream",
       "stream": "stdout",
       "text": [
        "\n",
        "0.0%"
       ]
      },
      {
       "output_type": "stream",
       "stream": "stdout",
       "text": [
        "\n",
        "Monte Carlo for box 14 ends"
       ]
      },
      {
       "output_type": "stream",
       "stream": "stdout",
       "text": [
        "\n",
        "0.0%"
       ]
      },
      {
       "output_type": "stream",
       "stream": "stdout",
       "text": [
        "\n",
        "Monte Carlo for box 15 ends"
       ]
      },
      {
       "output_type": "stream",
       "stream": "stdout",
       "text": [
        "\n",
        "0.0%"
       ]
      },
      {
       "output_type": "stream",
       "stream": "stdout",
       "text": [
        "\n",
        "Monte Carlo for box 16 ends"
       ]
      },
      {
       "output_type": "stream",
       "stream": "stdout",
       "text": [
        "\n",
        "0.0%"
       ]
      },
      {
       "output_type": "stream",
       "stream": "stdout",
       "text": [
        "\n",
        "Monte Carlo for box 17 ends"
       ]
      },
      {
       "output_type": "stream",
       "stream": "stdout",
       "text": [
        "\n",
        "0.0%"
       ]
      },
      {
       "output_type": "stream",
       "stream": "stdout",
       "text": [
        "\n",
        "Monte Carlo for box 18 ends"
       ]
      },
      {
       "output_type": "stream",
       "stream": "stdout",
       "text": [
        "\n",
        "0.0%"
       ]
      },
      {
       "output_type": "stream",
       "stream": "stdout",
       "text": [
        "\n",
        "Monte Carlo for box 19 ends"
       ]
      },
      {
       "output_type": "stream",
       "stream": "stdout",
       "text": [
        "\n",
        "0.0%"
       ]
      },
      {
       "output_type": "stream",
       "stream": "stdout",
       "text": [
        "\n",
        "Monte Carlo for box 20 ends"
       ]
      },
      {
       "output_type": "stream",
       "stream": "stdout",
       "text": [
        "\n",
        "0.0%"
       ]
      },
      {
       "output_type": "stream",
       "stream": "stdout",
       "text": [
        "\n",
        "Monte Carlo for box 21 ends"
       ]
      },
      {
       "output_type": "stream",
       "stream": "stdout",
       "text": [
        "\n",
        "0.0%"
       ]
      },
      {
       "output_type": "stream",
       "stream": "stdout",
       "text": [
        "\n",
        "Monte Carlo for box 22 ends"
       ]
      },
      {
       "output_type": "stream",
       "stream": "stdout",
       "text": [
        "\n",
        "0.0%"
       ]
      },
      {
       "output_type": "stream",
       "stream": "stdout",
       "text": [
        "\n",
        "Monte Carlo for box 23 ends"
       ]
      },
      {
       "output_type": "stream",
       "stream": "stdout",
       "text": [
        "\n",
        "0.0%"
       ]
      },
      {
       "output_type": "stream",
       "stream": "stdout",
       "text": [
        "\n",
        "Monte Carlo for box 24 ends"
       ]
      },
      {
       "output_type": "stream",
       "stream": "stdout",
       "text": [
        "\n",
        "0.0%"
       ]
      },
      {
       "output_type": "stream",
       "stream": "stdout",
       "text": [
        "\n",
        "Monte Carlo for box 25 ends"
       ]
      },
      {
       "output_type": "stream",
       "stream": "stdout",
       "text": [
        "\n",
        "0.0%"
       ]
      },
      {
       "output_type": "stream",
       "stream": "stdout",
       "text": [
        "\n",
        "Monte Carlo for box 26 ends"
       ]
      },
      {
       "output_type": "stream",
       "stream": "stdout",
       "text": [
        "\n",
        "0.0%"
       ]
      },
      {
       "output_type": "stream",
       "stream": "stdout",
       "text": [
        "\n",
        "Monte Carlo for box 27 ends"
       ]
      },
      {
       "output_type": "stream",
       "stream": "stdout",
       "text": [
        "\n",
        "0.0%"
       ]
      },
      {
       "output_type": "stream",
       "stream": "stdout",
       "text": [
        "\n",
        "Monte Carlo for box 28 ends"
       ]
      },
      {
       "output_type": "stream",
       "stream": "stdout",
       "text": [
        "\n",
        "0.0%"
       ]
      },
      {
       "output_type": "stream",
       "stream": "stdout",
       "text": [
        "\n",
        "Monte Carlo for box 29 ends"
       ]
      },
      {
       "output_type": "stream",
       "stream": "stdout",
       "text": [
        "\n",
        "0.0%"
       ]
      },
      {
       "output_type": "stream",
       "stream": "stdout",
       "text": [
        "\n",
        "Monte Carlo for box 30 ends"
       ]
      },
      {
       "output_type": "stream",
       "stream": "stdout",
       "text": [
        "\n",
        "0.0%"
       ]
      },
      {
       "output_type": "stream",
       "stream": "stdout",
       "text": [
        "\n",
        "Monte Carlo for box 31 ends"
       ]
      },
      {
       "output_type": "stream",
       "stream": "stdout",
       "text": [
        "\n",
        "0.0%"
       ]
      },
      {
       "output_type": "stream",
       "stream": "stdout",
       "text": [
        "\n",
        "Monte Carlo for box 32 ends"
       ]
      },
      {
       "output_type": "stream",
       "stream": "stdout",
       "text": [
        "\n",
        "0.0%"
       ]
      },
      {
       "output_type": "stream",
       "stream": "stdout",
       "text": [
        "\n",
        "Monte Carlo for box 33 ends"
       ]
      },
      {
       "output_type": "stream",
       "stream": "stdout",
       "text": [
        "\n",
        "0.0%"
       ]
      },
      {
       "output_type": "stream",
       "stream": "stdout",
       "text": [
        "\n",
        "Monte Carlo for box 34 ends"
       ]
      },
      {
       "output_type": "stream",
       "stream": "stdout",
       "text": [
        "\n",
        "0.0%"
       ]
      },
      {
       "output_type": "stream",
       "stream": "stdout",
       "text": [
        "\n",
        "Monte Carlo for box 35 ends"
       ]
      },
      {
       "output_type": "stream",
       "stream": "stdout",
       "text": [
        "\n",
        "0.0%"
       ]
      },
      {
       "output_type": "stream",
       "stream": "stdout",
       "text": [
        "\n",
        "Monte Carlo for box 36 ends"
       ]
      },
      {
       "output_type": "stream",
       "stream": "stdout",
       "text": [
        "\n",
        "0.0%"
       ]
      },
      {
       "output_type": "stream",
       "stream": "stdout",
       "text": [
        "\n",
        "Monte Carlo for box 37 ends"
       ]
      },
      {
       "output_type": "stream",
       "stream": "stdout",
       "text": [
        "\n",
        "0.0%"
       ]
      },
      {
       "output_type": "stream",
       "stream": "stdout",
       "text": [
        "\n",
        "Monte Carlo for box 38 ends"
       ]
      },
      {
       "output_type": "stream",
       "stream": "stdout",
       "text": [
        "\n",
        "0.0%"
       ]
      },
      {
       "output_type": "stream",
       "stream": "stdout",
       "text": [
        "\n",
        "Monte Carlo for box 39 ends"
       ]
      },
      {
       "output_type": "stream",
       "stream": "stdout",
       "text": [
        "\n",
        "0.0%"
       ]
      },
      {
       "output_type": "stream",
       "stream": "stdout",
       "text": [
        "\n",
        "Monte Carlo for box 40 ends"
       ]
      },
      {
       "output_type": "stream",
       "stream": "stdout",
       "text": [
        "\n",
        "0.0%"
       ]
      },
      {
       "output_type": "stream",
       "stream": "stdout",
       "text": [
        "\n",
        "Monte Carlo for box 41 ends"
       ]
      },
      {
       "output_type": "stream",
       "stream": "stdout",
       "text": [
        "\n",
        "0.0%"
       ]
      },
      {
       "output_type": "stream",
       "stream": "stdout",
       "text": [
        "\n",
        "Monte Carlo for box 42 ends"
       ]
      },
      {
       "output_type": "stream",
       "stream": "stdout",
       "text": [
        "\n",
        "0.0%"
       ]
      },
      {
       "output_type": "stream",
       "stream": "stdout",
       "text": [
        "\n",
        "Monte Carlo for box 43 ends"
       ]
      },
      {
       "output_type": "stream",
       "stream": "stdout",
       "text": [
        "\n",
        "0.0%"
       ]
      },
      {
       "output_type": "stream",
       "stream": "stdout",
       "text": [
        "\n",
        "Monte Carlo for box 44 ends"
       ]
      },
      {
       "output_type": "stream",
       "stream": "stdout",
       "text": [
        "\n",
        "0.0%"
       ]
      },
      {
       "output_type": "stream",
       "stream": "stdout",
       "text": [
        "\n",
        "Monte Carlo for box 45 ends"
       ]
      },
      {
       "output_type": "stream",
       "stream": "stdout",
       "text": [
        "\n",
        "0.0%"
       ]
      },
      {
       "output_type": "stream",
       "stream": "stdout",
       "text": [
        "\n",
        "Monte Carlo for box 46 ends"
       ]
      },
      {
       "output_type": "stream",
       "stream": "stdout",
       "text": [
        "\n",
        "0.0%"
       ]
      },
      {
       "output_type": "stream",
       "stream": "stdout",
       "text": [
        "\n",
        "Monte Carlo for box 47 ends"
       ]
      },
      {
       "output_type": "stream",
       "stream": "stdout",
       "text": [
        "\n",
        "0.0%"
       ]
      },
      {
       "output_type": "stream",
       "stream": "stdout",
       "text": [
        "\n",
        "Monte Carlo for box 48 ends"
       ]
      },
      {
       "output_type": "stream",
       "stream": "stdout",
       "text": [
        "\n",
        "0.0%"
       ]
      },
      {
       "output_type": "stream",
       "stream": "stdout",
       "text": [
        "\n",
        "Monte Carlo for box 49 ends"
       ]
      },
      {
       "output_type": "stream",
       "stream": "stdout",
       "text": [
        "\n",
        "0.0%"
       ]
      },
      {
       "output_type": "stream",
       "stream": "stdout",
       "text": [
        "\n",
        "Monte Carlo for box 50 ends"
       ]
      },
      {
       "output_type": "stream",
       "stream": "stdout",
       "text": [
        "\n",
        "0.0%"
       ]
      },
      {
       "output_type": "stream",
       "stream": "stdout",
       "text": [
        "\n",
        "Monte Carlo for box 51 ends"
       ]
      },
      {
       "output_type": "stream",
       "stream": "stdout",
       "text": [
        "\n",
        "0.0%"
       ]
      },
      {
       "output_type": "stream",
       "stream": "stdout",
       "text": [
        "\n",
        "Monte Carlo for box 52 ends"
       ]
      },
      {
       "output_type": "stream",
       "stream": "stdout",
       "text": [
        "\n",
        "0.0%"
       ]
      },
      {
       "output_type": "stream",
       "stream": "stdout",
       "text": [
        "\n",
        "Monte Carlo for box 53 ends"
       ]
      },
      {
       "output_type": "stream",
       "stream": "stdout",
       "text": [
        "\n",
        "0.0%"
       ]
      },
      {
       "output_type": "stream",
       "stream": "stdout",
       "text": [
        "\n",
        "Monte Carlo for box 54 ends"
       ]
      },
      {
       "output_type": "stream",
       "stream": "stdout",
       "text": [
        "\n",
        "0.0%"
       ]
      },
      {
       "output_type": "stream",
       "stream": "stdout",
       "text": [
        "\n",
        "Monte Carlo for box 55 ends"
       ]
      },
      {
       "output_type": "stream",
       "stream": "stdout",
       "text": [
        "\n",
        "0.0%"
       ]
      },
      {
       "output_type": "stream",
       "stream": "stdout",
       "text": [
        "\n",
        "Monte Carlo for box 56 ends"
       ]
      },
      {
       "output_type": "stream",
       "stream": "stdout",
       "text": [
        "\n",
        "0.0%"
       ]
      },
      {
       "output_type": "stream",
       "stream": "stdout",
       "text": [
        "\n",
        "Monte Carlo for box 57 ends"
       ]
      },
      {
       "output_type": "stream",
       "stream": "stdout",
       "text": [
        "\n",
        "0.0%"
       ]
      },
      {
       "output_type": "stream",
       "stream": "stdout",
       "text": [
        "\n",
        "Monte Carlo for box 58 ends"
       ]
      },
      {
       "output_type": "stream",
       "stream": "stdout",
       "text": [
        "\n",
        "0.0%"
       ]
      },
      {
       "output_type": "stream",
       "stream": "stdout",
       "text": [
        "\n",
        "Monte Carlo for box 59 ends"
       ]
      },
      {
       "output_type": "stream",
       "stream": "stdout",
       "text": [
        "\n",
        "0.0%"
       ]
      },
      {
       "output_type": "stream",
       "stream": "stdout",
       "text": [
        "\n",
        "Monte Carlo for box 60 ends"
       ]
      },
      {
       "output_type": "stream",
       "stream": "stdout",
       "text": [
        "\n",
        "0.0%"
       ]
      },
      {
       "output_type": "stream",
       "stream": "stdout",
       "text": [
        "\n",
        "Monte Carlo for box 61 ends"
       ]
      },
      {
       "output_type": "stream",
       "stream": "stdout",
       "text": [
        "\n",
        "0.0%"
       ]
      },
      {
       "output_type": "stream",
       "stream": "stdout",
       "text": [
        "\n",
        "Monte Carlo for box 62 ends"
       ]
      },
      {
       "output_type": "stream",
       "stream": "stdout",
       "text": [
        "\n",
        "0.0%"
       ]
      },
      {
       "output_type": "stream",
       "stream": "stdout",
       "text": [
        "\n",
        "Monte Carlo for box 63 ends"
       ]
      },
      {
       "output_type": "stream",
       "stream": "stdout",
       "text": [
        "\n"
       ]
      }
     ],
     "prompt_number": 1
    }
   ],
   "metadata": {}
  }
 ]
}