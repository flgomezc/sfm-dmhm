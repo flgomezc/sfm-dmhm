{
 "metadata": {
  "name": "",
  "signature": "sha256:4f02f02c865ca016ddba58d38c5cb5f7fbbdf933d3cd1072b42a99b10f49599d"
 },
 "nbformat": 3,
 "nbformat_minor": 0,
 "worksheets": [
  {
   "cells": [
    {
     "cell_type": "code",
     "collapsed": false,
     "input": [
      "%pylab inline\n",
      "zred = 6.0\n",
      "aexp = 1.0/(1.0+zred)\n",
      "hpl  = 0.6777          # Using h from 2013-Planck\n",
      "\n",
      "from random import *\n",
      "from observational_data import *\n",
      "\n",
      "def Luminosity(M,L_0,M_0,beta,gamma):\n",
      "    return L_0*M*( (M/M_0)**(-beta) + (M/M_0)**gamma)**(-1)\n",
      "\n",
      "def StarFormationRate(M,L_0,M_0,beta,gamma):\n",
      "    return Luminosity(M,L_0,M_0,beta,gamma) * 1.4e-28"
     ],
     "language": "python",
     "metadata": {},
     "outputs": [
      {
       "output_type": "stream",
       "stream": "stdout",
       "text": [
        "Populating the interactive namespace from numpy and matplotlib\n"
       ]
      }
     ],
     "prompt_number": 1
    },
    {
     "cell_type": "code",
     "collapsed": false,
     "input": [
      "#############################################\n",
      "#                                           #\n",
      "#            Loading data file              #\n",
      "#                                           #\n",
      "#############################################\n",
      "\n",
      "# Data columns:\n",
      "M = np.loadtxt('../data/MD_3840_Planck1/BDM/new_reduced_catshortV_007.dat'\n",
      "    ,usecols=(3,),skiprows=17)/hpl\n",
      "\n",
      "BoxLength = 1000.0/hpl # Mpc"
     ],
     "language": "python",
     "metadata": {},
     "outputs": [],
     "prompt_number": 2
    },
    {
     "cell_type": "code",
     "collapsed": false,
     "input": [
      "log10_M = log10(M[:])\n",
      "L       = np.zeros(M.size)\n",
      "L_R     = np.zeros(M.size)\n",
      "seed(None) # seed(None) uses curent time as seed.\n",
      "MCMC_reg = open(\"MCMC_reg_fullbox.dat\", \"w\")"
     ],
     "language": "python",
     "metadata": {},
     "outputs": [],
     "prompt_number": 3
    },
    {
     "cell_type": "code",
     "collapsed": false,
     "input": [
      "################################################################\n",
      "#                                                              #\n",
      "#                     The Random Walk                          #\n",
      "#                     fitting function                         #\n",
      "#                                                              #\n",
      "################################################################\n",
      "\n",
      "# Initial constants for the luminosity function\n",
      "#  L_0          log10( M_0)    beta             gamma         Xi**2\n",
      "# 17.651076186 11.3103664009 0.863881819343 0.532187082693 0.0478280976379\n",
      "L_0   = 10.0**(17.65)\n",
      "M_0   = 10.0**(11.31)\n",
      "beta  =  0.86\n",
      "gamma =  0.53\n",
      "\n",
      "#Calculate the histogram and Xi_sqr for first time.\n",
      "#for i in range(M.size):\n",
      "L[:] = Luminosity( M[:], L_0, M_0, beta, gamma)\n",
      "Magnitude_UV_galaxy_list = 51.82 - 2.5 * log10(L[:])\n",
      "\n",
      "HIST1 = 1.0*histogram(Magnitude_UV_galaxy_list,bins=HIST1_bins)[0]\n",
      "HIST2 = 1.0*histogram(Magnitude_UV_galaxy_list,bins=HIST2_bins)[0]\n",
      "HIST3 = 1.0*histogram(Magnitude_UV_galaxy_list,bins=HIST3_bins)[0]\n",
      "\n",
      "### Normalize the histograms\n",
      "for i in range(len(HIST1)):\n",
      "    HIST1[i] = HIST1[i]/((HIST1_bins[i+1]-HIST1_bins[i])*BoxLength**3)\n",
      "for i in range(len(HIST2)):\n",
      "    HIST2[i] = HIST2[i]*1.0/(1.0*(HIST2_bins[i+1]-HIST2_bins[i])*BoxLength**3)\n",
      "for i in range(len(HIST3)):\n",
      "    HIST3[i] = HIST3[i]/((HIST3_bins[i+1]-HIST3_bins[i])*BoxLength**3)\n",
      "\n",
      "    \n",
      "    ### Calculate chi2 as the sum for each histogram\n",
      "NOB = 0\n",
      "chi_sqr=0.0\n",
      "for i in range(len(HIST1)):\n",
      "    if (HIST1[i] != 0.0):\n",
      "        chi_sqr = chi_sqr + (( log10(HIST1[i])-Obs_data1_log10[i,1] )**2 )/(2*sigma1[i]**2)\n",
      "        NOB += 1\n",
      "for i in range(len(HIST2)):\n",
      "    if (HIST2[i] != 0.0):\n",
      "        chi_sqr = chi_sqr + (( log10(HIST2[i])-Obs_data2_log10[i,1] )**2 )/(2*sigma2[i]**2)\n",
      "        NOB += 1\n",
      "for i in range(len(HIST3)):\n",
      "    if (HIST3[i] != 0.0):\n",
      "        chi_sqr = chi_sqr + (( log10(HIST3[i])-Obs_data3_log10[i,1] )**2 )/(2*sigma3[i]**2)\n",
      "        NOB += 1\n",
      "\n",
      "if NOB > 4:\n",
      "    NDF = NOB-4\n",
      "else:\n",
      "    NDF = 1.0e-10\n",
      "\n",
      "chi_sqr = chi_sqr / NDF\n",
      "\n",
      "MCMC_reg.write(\"# L_0 \\t M_0 \\t beta \\t gamma \\t chi_sqr \\t Number of Bins\")\n",
      "\n",
      "MCMC_reg.write(str(log10(L_0))+\"\\t\"+str(log10(M_0))+\"\\t\"+str(beta)+\"\\t\"+str(gamma)+\"\\t\"+str(chi_sqr)+\"\\t\"+str(NOB)+\"\\n\")"
     ],
     "language": "python",
     "metadata": {},
     "outputs": [],
     "prompt_number": 4
    },
    {
     "cell_type": "code",
     "collapsed": false,
     "input": [
      "################################################################\n",
      "#                                                              #\n",
      "#                 Markov Chain Monte Carlo                     #\n",
      "#                          STARTS                              #\n",
      "#                                                              #\n",
      "################################################################\n",
      "\n",
      "print \"\\n\\n Monte Carlo Starts\"\n",
      "\n",
      "MCMC_reg = open(\"MCMC_reg_fullbox.dat\", \"r+\")\n",
      "\n",
      "# BoxLength = 250.0 # Mpc h^{-1} \n",
      "MonteCarloSteps = 10\n",
      "DeltaChi = 0.0\n",
      "K0 = 0.01\n",
      "K1 = 0.01\n",
      "K2 = 0.5\n",
      "K3 = 0.5\n",
      "\n",
      "# First of all, the histogram with the original parameters must be calculated,\n",
      "# included the Xi_square deviation\n",
      "for k in range(MonteCarloSteps):\n",
      "    #if (k%100==0): ##Show progress\n",
      "    #print k\n",
      "        \n",
      "    # Then the parameters are changed in order to calculate the new histogram\n",
      "    L_0R   = L_0  *10**(gauss(0.0,K0))\n",
      "    M_0R   = M_0  *10**(gauss(0.0,K1))\n",
      "    betaR  = beta + gauss(0.0,K2)\n",
      "    gammaR = gamma+ gauss(0.0,K3)\n",
      "\n",
      "    \n",
      "    ### Some constraints over parameters\n",
      "    while (L_0R <10**(16.75)) or (L_0R >10**(18.0)):\n",
      "        L_0R   = L_0  *10**(gauss(0.0,K0))\n",
      "    while (M_0R < 10.80):\n",
      "        M_0R   = M_0  *10**(gauss(0.0,K1))\n",
      "    while (betaR<0) or (betaR>2.0):\n",
      "        betaR  = beta + gauss(0.0,K2)\n",
      "    while (gammaR<0) or (gammaR>3.0):\n",
      "        gammaR = gamma+ gauss(0.0,K3)\n",
      "    \n",
      "    \n",
      "    #for i in range(M.size):\n",
      "    L_R[:]    = Luminosity( M[:], L_0R, M_0R, betaR, gammaR)\n",
      "    Magnitude_UV_galaxy_list_R = 51.82 - 2.5 * log10(L_R[:])\n",
      "\n",
      "    ### Calculate the histograms\n",
      "    # HIST0_R = 1.0*histogram(Magnitude_UV_galaxy_list_R,bins=(-22.0,-21.5,-21.0,-20.5,-20.0,-19.5,-19.0,-18.5,-18.0,-17.5,-17.0,-16.5,-16.0))[0]\n",
      "    HIST1_R = 1.0*histogram(Magnitude_UV_galaxy_list_R,bins=HIST1_bins)[0]\n",
      "    HIST2_R = 1.0*histogram(Magnitude_UV_galaxy_list_R,bins=HIST2_bins)[0]\n",
      "    HIST3_R = 1.0*histogram(Magnitude_UV_galaxy_list_R,bins=HIST3_bins)[0]\n",
      "    \n",
      "    ### Normalize the histograms\n",
      "    for i in range(len(HIST1_R)):\n",
      "        HIST1_R[i] = HIST1_R[i]/((HIST1_bins[i+1]-HIST1_bins[i])*BoxLength**3)\n",
      "    for i in range(len(HIST2_R)):\n",
      "        HIST2_R[i] = HIST2_R[i]*1.0/(1.0*(HIST2_bins[i+1]-HIST2_bins[i])*BoxLength**3)\n",
      "    for i in range(len(HIST3_R)):\n",
      "        HIST3_R[i] = HIST3_R[i]/((HIST3_bins[i+1]-HIST3_bins[i])*BoxLength**3)\n",
      "    \n",
      "    ### Calculate chi2 as the sum for each histogram\n",
      "    chi_sqr_R=0.0\n",
      "    a1=0\n",
      "    a2=0\n",
      "    a3=0\n",
      "    NOB = 0 # Number of used Bins\n",
      "    for i in range(len(HIST1_R)):\n",
      "        a1 += HIST1_R[i]\n",
      "        if (HIST1_R[i] != 0.0):\n",
      "            chi_sqr_R = chi_sqr_R + (( log10(HIST1_R[i])-Obs_data1_log10[i,1] )**2 )/(2*sigma1[i]**2)\n",
      "            NOB += 1\n",
      "        else:\n",
      "            chi_sqr_R = chi_sqr_R + DeltaChi\n",
      "    for i in range(len(HIST2_R)):\n",
      "        a2 += HIST2_R[i]\n",
      "        if (HIST2_R[i] != 0.0):\n",
      "            chi_sqr_R = chi_sqr_R + (( log10(HIST2_R[i])-Obs_data2_log10[i,1] )**2 )/(2*sigma2[i]**2)\n",
      "            NOB += 1\n",
      "        else:\n",
      "            chi_sqr_R = chi_sqr_R + DeltaChi\n",
      "    for i in range(len(HIST3_R)):\n",
      "        a3 += HIST3_R[i]\n",
      "        if (HIST3_R[i] != 0.0):\n",
      "            chi_sqr_R = chi_sqr_R + (( log10(HIST3_R[i])-Obs_data3_log10[i,1] )**2 )/(2*sigma3[i]**2)\n",
      "            NOB += 1\n",
      "        else:\n",
      "            chi_sqr_R = chi_sqr_R + DeltaChi\n",
      "    if NOB > 4:\n",
      "        NDF = NOB-4\n",
      "    else:\n",
      "        NDF = 1.0e-10\n",
      "        \n",
      "    chi_sqr_R = chi_sqr_R / NDF\n",
      "    \n",
      "    if(a1==0): chi_sqr_R +=5\n",
      "    if(a2==0): chi_sqr_R +=5\n",
      "    if(a3==0): chi_sqr_R +=5\n",
      "        \n",
      "    # Save the result of a variation \n",
      "    # L_0, M_0, beta, gamma, chi_sqr\n",
      "    MCMC_reg.write(\n",
      "                    str(log10(L_0R))+\"\\t\"+\n",
      "                    str(log10(M_0R))+\"\\t\"+\n",
      "                    str(betaR)      +\"\\t\"+\n",
      "                    str(gammaR)     +\"\\t\"+\n",
      "                    str(chi_sqr_R)  +\"\\t\"+\n",
      "                    str(NOB)        +\"\\n\")\n",
      "    \n",
      "    # If the new chi2 is better, then the new set of parameters is accepted\n",
      "    Delta_chi = chi_sqr_R - chi_sqr\n",
      "    if ( Delta_chi < 0):\n",
      "        L_0    = L_0R\n",
      "        M_0    = M_0R\n",
      "        beta   = betaR\n",
      "        gamma  = gammaR\n",
      "        HIST1   = HIST1_R\n",
      "        HIST2   = HIST2_R\n",
      "        HIST3   = HIST3_R \n",
      "        chi_sqr= chi_sqr_R\n",
      "    else:\n",
      "        p = rand()\n",
      "        #print p, exp( -Delta_chi)\n",
      "        if ( p < exp( -Delta_chi) ): ## CORRECT EXPRESSION \"<\"\n",
      "            L_0    = L_0R\n",
      "            M_0    = M_0R\n",
      "            beta   = betaR\n",
      "            gamma  = gammaR\n",
      "            HIST1   = HIST1_R\n",
      "            HIST2   = HIST2_R\n",
      "            HIST3   = HIST3_R\n",
      "            chi_sqr= chi_sqr_R\n",
      "    if(k%100==0): Step=100.0*k/MonteCarloSteps; print str(Step)+\"%\"\n",
      "    # End of the loop\n",
      "MCMC_reg.close()\n",
      "\n",
      "print \"\\n\\n Monte Carlo Ends\"\n"
     ],
     "language": "python",
     "metadata": {},
     "outputs": [
      {
       "output_type": "stream",
       "stream": "stdout",
       "text": [
        "\n",
        "\n",
        " Monte Carlo Starts\n",
        "0.0%"
       ]
      },
      {
       "output_type": "stream",
       "stream": "stdout",
       "text": [
        "\n",
        "\n",
        "\n",
        " Monte Carlo Ends"
       ]
      },
      {
       "output_type": "stream",
       "stream": "stdout",
       "text": [
        "\n"
       ]
      }
     ],
     "prompt_number": 5
    },
    {
     "cell_type": "code",
     "collapsed": false,
     "input": [
      "# 17.651076186 11.3103664009 0.863881819343 0.532187082693 0.0478280976379\n",
      "L_0   = 10.0**(17.65)\n",
      "M_0   = 10.0**(10.8)\n",
      "beta  =  0.86\n",
      "gamma =  0.3"
     ],
     "language": "python",
     "metadata": {},
     "outputs": [],
     "prompt_number": 12
    },
    {
     "cell_type": "code",
     "collapsed": false,
     "input": [
      "L       = np.zeros(M.size)\n",
      "\n",
      "\n",
      "L_0   = 10.0**(17.6) #best: 17.6\n",
      "M_0   = 10.0**(10.8)\n",
      "beta  =  0.0\n",
      "gamma =  0.0\n",
      "\n",
      "histo1= []\n",
      "\n",
      "if (1): #Plot\n",
      "    L[:] = Luminosity( M[:], L_0, M_0, beta, gamma)\n",
      "    Magnitude_UV_galaxy_list = 51.82 - 2.5 * log10(L[:])\n",
      "\n",
      "    HIST00 = histogram(Magnitude_UV_galaxy_list,10)\n",
      "    HIST0 = 1.0*HIST00[0]\n",
      "\n",
      "    HIST1 = 1.0*histogram(Magnitude_UV_galaxy_list,bins=HIST1_bins)[0]\n",
      "    HIST2 = 1.0*histogram(Magnitude_UV_galaxy_list,bins=HIST2_bins)[0]\n",
      "    HIST3 = 1.0*histogram(Magnitude_UV_galaxy_list,bins=HIST3_bins)[0]\n",
      "\n",
      "    BinSizeHist0 = HIST00[1][1]-HIST00[1][2]\n",
      "    for i in range(len(HIST0)):\n",
      "        HIST0[i] = HIST0[i]/(BinSizeHist0*BoxLength**3)\n",
      "\n",
      "    for i in range(len(HIST1)):\n",
      "        HIST1[i] = HIST1[i]/((HIST1_bins[i+1]-HIST1_bins[i])*BoxLength**3)\n",
      "    for i in range(len(HIST2)):\n",
      "        HIST2[i] = HIST2[i]*1.0/(1.0*(HIST2_bins[i+1]-HIST2_bins[i])*BoxLength**3)\n",
      "    for i in range(len(HIST3)):\n",
      "        HIST3[i] = HIST3[i]/((HIST3_bins[i+1]-HIST3_bins[i])*BoxLength**3)\n",
      "    NOB = 0\n",
      "    chi_sqr=0.0\n",
      "    for i in range(len(HIST1)):\n",
      "        if (HIST1[i] != 0.0):\n",
      "            chi_sqr = chi_sqr + (( log10(HIST1[i])-Obs_data1_log10[i,1] )**2 )/(2*sigma1[i]**2)\n",
      "            NOB += 1\n",
      "    for i in range(len(HIST2)):\n",
      "        if (HIST2[i] != 0.0):\n",
      "            chi_sqr = chi_sqr + (( log10(HIST2[i])-Obs_data2_log10[i,1] )**2 )/(2*sigma2[i]**2)\n",
      "            NOB += 1\n",
      "    for i in range(len(HIST3)):\n",
      "        if (HIST3[i] != 0.0):\n",
      "            chi_sqr = chi_sqr + (( log10(HIST3[i])-Obs_data3_log10[i,1] )**2 )/(2*sigma3[i]**2)\n",
      "            NOB += 1\n",
      "\n",
      "    histo1.append([HIST1, HIST2, HIST3]);\n",
      "\n",
      "    if NOB > 4:\n",
      "        NDF = NOB-4\n",
      "    else:\n",
      "        NDF = 1.0e-10\n",
      "\n",
      "    chi_sqr = chi_sqr / NDF\n",
      "\n",
      "\n",
      "    \n",
      "figure(figsize(9,7))\n",
      "plot()\n",
      "ylabel(r\"$\\Phi(M_{1350})($ Mpc$^{-3}$mag$^{-1})$\",fontsize=20)\n",
      "xlabel('$M_{1350}$',fontsize=20)\n",
      "plt.grid(True)\n",
      "title(\"Luminosity Function - Cosmic Variance\",fontsize=25)\n",
      "tick_params(axis=\"both\", labelsize=15)\n",
      "\n",
      "\n",
      "\n",
      "#    plot( Obs_data1[:,0] , histo1[K][0],\"r-\")\n",
      "#    plot( Obs_data2[:,0] , histo1[K][1],\"k-\")\n",
      "#    plot( Obs_data3[:,0] , histo1[K][2],\"b-\")\n",
      "#scatter( HIST00[0], )\n",
      "scatter( Obs_data1[:,0] , histo1[0][0],s=10, color=\"red\")\n",
      "scatter( Obs_data2[:,0] , histo1[0][1],s=10, color=\"black\")\n",
      "scatter( Obs_data3[:,0] , histo1[0][2],s=10, color=\"blue\")\n",
      "    \n",
      "errorbar(Obs_data2[:,0],Obs_data2[:,1], xerr=Obs_data2xerror, yerr=Obs_data2yerror, fmt='.', color=\"0.40\", label=\"Bouwens et al 2014\")\n",
      "errorbar(Obs_data1[:,0],Obs_data1[:,1], xerr=0.25, yerr=Obs_data1yerror, fmt='.', color=\"0.40\", label=\"Willott et al 2013\")\n",
      "errorbar(Obs_data3[:,0],Obs_data3[:,1], xerr=Obs_data3xerror, yerr=Obs_data3yerror, fmt='.', color=\"0.40\", label=\"McLure et al 2009\")\n",
      "\n",
      "\n",
      "plt.axis([-23,-16,10**-10,10])\n",
      "yscale(\"log\")"
     ],
     "language": "python",
     "metadata": {},
     "outputs": [
      {
       "ename": "NameError",
       "evalue": "name 'M' is not defined",
       "output_type": "pyerr",
       "traceback": [
        "\u001b[1;31m---------------------------------------------------------------------------\u001b[0m\n\u001b[1;31mNameError\u001b[0m                                 Traceback (most recent call last)",
        "\u001b[1;32m<ipython-input-16-cead66f6a7ee>\u001b[0m in \u001b[0;36m<module>\u001b[1;34m()\u001b[0m\n\u001b[1;32m----> 1\u001b[1;33m \u001b[0mL\u001b[0m       \u001b[1;33m=\u001b[0m \u001b[0mnp\u001b[0m\u001b[1;33m.\u001b[0m\u001b[0mzeros\u001b[0m\u001b[1;33m(\u001b[0m\u001b[0mM\u001b[0m\u001b[1;33m.\u001b[0m\u001b[0msize\u001b[0m\u001b[1;33m)\u001b[0m\u001b[1;33m\u001b[0m\u001b[0m\n\u001b[0m\u001b[0;32m      2\u001b[0m \u001b[1;33m\u001b[0m\u001b[0m\n\u001b[0;32m      3\u001b[0m \u001b[1;33m\u001b[0m\u001b[0m\n\u001b[0;32m      4\u001b[0m \u001b[0mL_0\u001b[0m   \u001b[1;33m=\u001b[0m \u001b[1;36m10.0\u001b[0m\u001b[1;33m**\u001b[0m\u001b[1;33m(\u001b[0m\u001b[1;36m17.6\u001b[0m\u001b[1;33m)\u001b[0m \u001b[1;31m#best: 17.6\u001b[0m\u001b[1;33m\u001b[0m\u001b[0m\n\u001b[0;32m      5\u001b[0m \u001b[0mM_0\u001b[0m   \u001b[1;33m=\u001b[0m \u001b[1;36m10.0\u001b[0m\u001b[1;33m**\u001b[0m\u001b[1;33m(\u001b[0m\u001b[1;36m10.8\u001b[0m\u001b[1;33m)\u001b[0m\u001b[1;33m\u001b[0m\u001b[0m\n",
        "\u001b[1;31mNameError\u001b[0m: name 'M' is not defined"
       ]
      }
     ],
     "prompt_number": 16
    },
    {
     "cell_type": "code",
     "collapsed": false,
     "input": [
      "hist(Magnitude_UV_galaxy_list,20, log=\"true\")\n",
      "#axis([-24,-16,1,10**7])\n"
     ],
     "language": "python",
     "metadata": {},
     "outputs": [
      {
       "metadata": {},
       "output_type": "pyout",
       "prompt_number": 4,
       "text": [
        "(array([      3,       9,      40,     144,     389,     926,    2136,\n",
        "           4421,    9368,   18578,   33975,   61835,  106988,  181650,\n",
        "         300911,  463014,  785771, 1164039, 1647277, 3102817]),\n",
        " array([-23.7849187 , -23.50317398, -23.22142926, -22.93968454,\n",
        "        -22.65793982, -22.37619511, -22.09445039, -21.81270567,\n",
        "        -21.53096095, -21.24921623, -20.96747152, -20.6857268 ,\n",
        "        -20.40398208, -20.12223736, -19.84049264, -19.55874793,\n",
        "        -19.27700321, -18.99525849, -18.71351377, -18.43176905, -18.15002433]),\n",
        " <a list of 20 Patch objects>)"
       ]
      },
      {
       "metadata": {},
       "output_type": "display_data",
       "png": "[encoded data removed]",
       "text": [
        "<matplotlib.figure.Figure at 0x21c4c5ec>"
       ]
      }
     ],
     "prompt_number": 4
    },
    {
     "cell_type": "code",
     "collapsed": false,
     "input": [
      "print NOB, chi_sqr"
     ],
     "language": "python",
     "metadata": {},
     "outputs": [
      {
       "output_type": "stream",
       "stream": "stdout",
       "text": [
        "20 7.19126257142\n"
       ]
      }
     ],
     "prompt_number": 5
    },
    {
     "cell_type": "code",
     "collapsed": false,
     "input": [
      "#figure(figsize(9,7))\n",
      "#plot()\n",
      "#ylabel(r\"$\\Phi(M_{1350})($ Mpc$^{-3}$mag$^{-1})$\",fontsize=20)\n",
      "#xlabel('$M_{1350}$',fontsize=20)\n",
      "#plt.grid(True)\n",
      "#title(\"Luminosity Function - Cosmic Variance\",fontsize=25)\n",
      "#tick_params(axis=\"both\", labelsize=15)\n",
      "\n",
      "\n",
      "\n",
      "#    plot( Obs_data1[:,0] , histo1[K][0],\"r-\")\n",
      "#    plot( Obs_data2[:,0] , histo1[K][1],\"k-\")\n",
      "#    plot( Obs_data3[:,0] , histo1[K][2],\"b-\")\n",
      "#scatter( HIST00[0], )\n",
      "A = histo1[0][0]-Obs_data1[:,1]\n",
      "B = histo1[0][1]-Obs_data2[:,1]\n",
      "C = histo1[0][2]-Obs_data3[:,1]\n",
      "\n",
      "print A\n",
      "for i in range(A.size):\n",
      "    if (A[i]!=0):\n",
      "        A[i] = log10(abs(A[i])\n",
      "        \n",
      "for i in range(B.size):\n",
      "    if (B[i]!=0):\n",
      "        B[i] = log10(abs(B[i])\n",
      "\n",
      "for i in range(C.size):\n",
      "    if (C[i]!=0):\n",
      "        C[i] = log10(abs(C[i])\n",
      "\n",
      "print A       \n",
      "#plot( Obs_data1[:,0] , A,\"r-\")\n",
      "#plot( Obs_data2[:,0] , B,\"k-\")\n",
      "#plot( Obs_data3[:,0] , C,\"b-\")\n",
      "    \n",
      "#errorbar(Obs_data2[:,0],Obs_data2[:,1], xerr=Obs_data2xerror, yerr=Obs_data2yerror, fmt='.', color=\"0.40\", label=\"Bouwens et al 2014\")\n",
      "#errorbar(Obs_data1[:,0],Obs_data1[:,1], xerr=0.25, yerr=Obs_data1yerror, fmt='.', color=\"0.40\", label=\"Willott et al 2013\")\n",
      "#errorbar(Obs_data3[:,0],Obs_data3[:,1], xerr=Obs_data3xerror, yerr=Obs_data3yerror, fmt='.', color=\"0.40\", label=\"McLure et al 2009\")\n",
      "\n",
      "\n",
      "#plt.axis([-23,-16,10**-10,10])\n",
      "#yscale(\"log\")"
     ],
     "language": "python",
     "metadata": {},
     "outputs": [
      {
       "ename": "SyntaxError",
       "evalue": "invalid syntax (<ipython-input-9-691a36fafca6>, line 24)",
       "output_type": "pyerr",
       "traceback": [
        "\u001b[1;36m  File \u001b[1;32m\"<ipython-input-9-691a36fafca6>\"\u001b[1;36m, line \u001b[1;32m24\u001b[0m\n\u001b[1;33m    for i in range(B.size):\u001b[0m\n\u001b[1;37m                          ^\u001b[0m\n\u001b[1;31mSyntaxError\u001b[0m\u001b[1;31m:\u001b[0m invalid syntax\n"
       ]
      }
     ],
     "prompt_number": 9
    },
    {
     "cell_type": "markdown",
     "metadata": {},
     "source": [
      "# The Mass Function of Dark Matter Halos\n",
      "\n",
      "cite paper: \n",
      "2001 - Jenkins et al - MNRAS 321-372: The mass function of dark matter halos\n",
      "\n",
      "Simulations on wide range mass"
     ]
    },
    {
     "cell_type": "code",
     "collapsed": false,
     "input": [
      "#############################################\n",
      "#                                           #\n",
      "#          Loading data file 2              #\n",
      "#                                           #\n",
      "#############################################\n",
      "\n",
      "# Data columns:\n",
      "M2 = np.loadtxt('../data/MD_3840_Planck1/BDM/reduced_catshortV_007.dat'\n",
      "    ,usecols=(3,),skiprows=17)/hpl\n",
      "\n",
      "BoxLength = 1000.0*aexp/hpl # Mpc"
     ],
     "language": "python",
     "metadata": {},
     "outputs": [],
     "prompt_number": 2
    },
    {
     "cell_type": "code",
     "collapsed": false,
     "input": [
      "M2_min = 10.2\n",
      "M2_max = 13\n",
      "M2bins = logspace(M2_min,M2_max,50)\n",
      "\n",
      "HISTO_M2= 1.0*histogram(M2,M2bins)[0]\n",
      "M2bins_plot = zeros(M2bins.size-1)\n",
      "for i in range(M2bins_plot.size):\n",
      "    M2bins_plot[i]=M2bins[i]\n",
      "for i in range(HISTO_M2.size):\n",
      "    HISTO_M2[i]=HISTO_M2[i]/( (M2bins[i+1] - M2bins[i])*BoxLength**3 )\n",
      "    \n",
      "plot( M2bins_plot,HISTO_M2)\n",
      "plt.xscale(\"log\")\n",
      "plt.yscale(\"log\")\n",
      "\n",
      "print M2.size"
     ],
     "language": "python",
     "metadata": {},
     "outputs": []
    },
    {
     "cell_type": "code",
     "collapsed": false,
     "input": [
      "M2.size/(BoxLength**3)"
     ],
     "language": "python",
     "metadata": {},
     "outputs": []
    },
    {
     "cell_type": "code",
     "collapsed": false,
     "input": [
      "# Data columns:\n",
      "M1 = np.loadtxt('../data/MD_3840_Planck1/BDM/new_reduced_catshortV_007.dat'\n",
      "    ,usecols=(3,),skiprows=17)/hpl\n",
      "\n",
      "BoxLength = 1000.0*aexp/hpl # Mpc"
     ],
     "language": "python",
     "metadata": {},
     "outputs": []
    },
    {
     "cell_type": "code",
     "collapsed": false,
     "input": [
      "M1_min = 10.2\n",
      "M1_max = 13\n",
      "M1bins = logspace(M1_min,M1_max,50)\n",
      "\n",
      "HISTO_M1= 1.0*histogram(M1,M1bins)[0]\n",
      "M1bins_plot = zeros(M1bins.size-1)\n",
      "for i in range(M1bins_plot.size):\n",
      "    M1bins_plot[i]=M1bins[i]\n",
      "for i in range(HISTO_M1.size):\n",
      "    HISTO_M1[i]=HISTO_M1[i]/( (M1bins[i+1] - M1bins[i])*BoxLength**3 )\n",
      "    \n",
      "plot( M1bins_plot,HISTO_M1)\n",
      "plt.xscale(\"log\")\n",
      "plt.yscale(\"log\")\n",
      "\n",
      "print M1.size"
     ],
     "language": "python",
     "metadata": {},
     "outputs": []
    },
    {
     "cell_type": "code",
     "collapsed": false,
     "input": [
      "figure(figsize(9,7))\n",
      "plot()\n",
      "#ylabel(r\"Mpc$^{-3}$M$_\\odot^{-1})$\",fontsize=20)\n",
      "xlabel('Dark matter halo mass (M$_\\odot$)',fontsize=20)\n",
      "plt.grid(True)\n",
      "title(\"Mass Function\",fontsize=25)\n",
      "\n",
      "plot( M1bins_plot,HISTO_M1)\n",
      "plot( M2bins_plot,HISTO_M2)\n",
      "plt.xscale(\"log\")\n",
      "plt.yscale(\"log\")\n",
      "\n",
      "#axis([10**10.3,10**11,10**(-13),10**(-10)])\n"
     ],
     "language": "python",
     "metadata": {},
     "outputs": []
    },
    {
     "cell_type": "markdown",
     "metadata": {},
     "source": [
      "Plot correction: Mass function is cummulative\n",
      "\n",
      "$n_\\text{halo} (>M)[Mpc^{-3}]$"
     ]
    },
    {
     "cell_type": "code",
     "collapsed": false,
     "input": [
      "M3_min = 10.3\n",
      "M3_max = 13\n",
      "M3bins = logspace(M3_min,M3_max,25)\n",
      "\n",
      "HISTO_M3= 1.0*histogram(M2,M3bins)[0]\n",
      "#print \"log10(HISTO_M3) = \",log10(HISTO_M3)\n",
      "M3bins_plot = zeros(M3bins.size-1)\n",
      "for i in range(M3bins_plot.size):\n",
      "    M3bins_plot[i]=M3bins[i+1]\n",
      "for i in range(HISTO_M3.size-1):\n",
      "    HISTO_M3[HISTO_M3.size-i-2]=HISTO_M3[HISTO_M3.size-i-2]+HISTO_M3[HISTO_M3.size-i-1]\n",
      "for i in range(HISTO_M3.size):\n",
      "    HISTO_M3[i]=HISTO_M3[i]/( BoxLength**3 )\n",
      "#print \"log10(HISTO_M3) = \",log10(HISTO_M3)\n",
      "#print \"Boxlengh\", log10(BoxLength**3)\n",
      "print \"HISTO_M3 = \",HISTO_M3\n",
      "print \"Hist Bins\", M3bins_plot\n",
      "\n",
      "figure(figsize(9,7))\n",
      "plot()\n",
      "\n",
      "#ylabel(r\"n$_\\textrm{halo}$Mpc$^{-3}$M$_\\odot^{-1})$\",fontsize=20)\n",
      "ylabel(r\"$n_{halo}(<$M$)[$Mpc$^{-3}]$\",fontsize=20)\n",
      "xlabel('Halo Mass $($M$_\\odot)$',fontsize=20)\n",
      "plt.grid(True)\n",
      "title(\"Mass Function\",fontsize=25)\n",
      "plot( M3bins_plot,HISTO_M3,\"ko\")\n",
      "plt.xscale(\"log\")\n",
      "plt.yscale(\"log\")\n",
      "\n",
      "axvline(x=M2.min())  # Less massive halo\n",
      "axvline(x=10**10.58)  # Cutoff\n",
      "\n",
      "axis([10**10.58,10**13.0, 10**(-7),10**(0.2)])\n"
     ],
     "language": "python",
     "metadata": {},
     "outputs": [
      {
       "output_type": "stream",
       "stream": "stdout",
       "text": [
        "HISTO_M3 =  [  1.16773094e+00   1.16623375e+00   1.15474525e+00   1.02901628e+00\n",
        "   6.17667722e-01   4.08704768e-01   2.56796232e-01   1.58152793e-01\n",
        "   9.74780529e-02   5.80132252e-02   3.36298866e-02   1.86749075e-02\n",
        "   1.01114068e-02   5.29868806e-03   2.68756394e-03   1.24929980e-03\n",
        "   5.70202550e-04   2.49069940e-04   1.00353941e-04   3.78996265e-05\n",
        "   1.09962297e-05   2.88250680e-06   7.47316579e-07   1.06759511e-07]\n",
        "Hist Bins [  2.58523484e+10   3.34965439e+10   4.34010264e+10   5.62341325e+10\n",
        "   7.28618175e+10   9.44060876e+10   1.22320712e+11   1.58489319e+11\n",
        "   2.05352503e+11   2.66072506e+11   3.44746607e+11   4.46683592e+11\n",
        "   5.78761988e+11   7.49894209e+11   9.71627952e+11   1.25892541e+12\n",
        "   1.63117291e+12   2.11348904e+12   2.73841963e+12   3.54813389e+12\n",
        "   4.59726989e+12   5.95662144e+12   7.71791516e+12   1.00000000e+13]\n"
       ]
      },
      {
       "metadata": {},
       "output_type": "pyout",
       "prompt_number": 52,
       "text": [
        "[38018939632.05613, 10000000000000.0, 1e-07, 1.5848931924611136]"
       ]
      },
      {
       "metadata": {},
       "output_type": "display_data",
       "png": "[encoded data removed]",
       "text": [
        "<matplotlib.figure.Figure at 0x22854d0c>"
       ]
      }
     ],
     "prompt_number": 52
    },
    {
     "cell_type": "code",
     "collapsed": false,
     "input": [
      "figure(figsize(9,7))\n",
      "plot()\n",
      "\n",
      "#ylabel(r\"n$_\\textrm{halo}$Mpc$^{-3}$M$_\\odot^{-1})$\",fontsize=20)\n",
      "ylabel(r\"$n_\\mathrm{halos}(<$M$)[$Mpc$^{-3}]$\",fontsize=20)\n",
      "xlabel('Halo Mass $($M$_\\odot)$',fontsize=20)\n",
      "plt.grid(True)\n",
      "title(\"Mass Function\",fontsize=25)\n",
      "plot( M3bins_plot,HISTO_M3,\"k-\")\n",
      "plt.xscale(\"log\")\n",
      "plt.yscale(\"log\")\n",
      "axvline(x=M2.min())\n",
      "axvline(x=10**10.58)  # Cutoff\n",
      "\n",
      "axis([10**10.3,10**13.0, 10**(-7),10**(0.2)])"
     ],
     "language": "python",
     "metadata": {},
     "outputs": [
      {
       "metadata": {},
       "output_type": "pyout",
       "prompt_number": 56,
       "text": [
        "[19952623149.688828, 10000000000000.0, 1e-07, 1.5848931924611136]"
       ]
      },
      {
       "metadata": {},
       "output_type": "display_data",
       "png": "[encoded data removed]",
       "text": [
        "<matplotlib.figure.Figure at 0x28e6f76c>"
       ]
      }
     ],
     "prompt_number": 56
    },
    {
     "cell_type": "code",
     "collapsed": false,
     "input": [
      "log10(M2.max())"
     ],
     "language": "python",
     "metadata": {},
     "outputs": [
      {
       "metadata": {},
       "output_type": "pyout",
       "prompt_number": 47,
       "text": [
        "12.942997474291227"
       ]
      }
     ],
     "prompt_number": 47
    },
    {
     "cell_type": "code",
     "collapsed": false,
     "input": [
      "%pylab inline\n",
      "from observational_data import *"
     ],
     "language": "python",
     "metadata": {},
     "outputs": [
      {
       "output_type": "stream",
       "stream": "stdout",
       "text": [
        "Populating the interactive namespace from numpy and matplotlib\n"
       ]
      }
     ],
     "prompt_number": 1
    },
    {
     "cell_type": "code",
     "collapsed": false,
     "input": [
      "Obs_data1_cum"
     ],
     "language": "python",
     "metadata": {},
     "outputs": [
      {
       "metadata": {},
       "output_type": "pyout",
       "prompt_number": 2,
       "text": [
        "array([[ -2.27500000e+01,   2.66000000e-08],\n",
        "       [ -2.22500000e+01,   2.20660000e-06],\n",
        "       [ -2.17500000e+01,   1.67076600e-05],\n",
        "       [ -2.12500000e+01,   1.45706600e-04],\n",
        "       [ -2.07500000e+01,   3.75706600e-04]])"
       ]
      }
     ],
     "prompt_number": 2
    },
    {
     "cell_type": "code",
     "collapsed": false,
     "input": [
      "figure(figsize(9,7))\n",
      "plot()\n",
      "\n",
      "plot(Obs_data1_cum[:,0],Obs_data1_cum[:,1])\n",
      "plot(Obs_data2_cum[:,0],Obs_data2_cum[:,1])\n",
      "plot(Obs_data3_cum[:,0],Obs_data3_cum[:,1])\n",
      "\n",
      "plt.yscale(\"log\")"
     ],
     "language": "python",
     "metadata": {},
     "outputs": [
      {
       "metadata": {},
       "output_type": "display_data",
       "png": "[encoded data removed]",
       "text": [
        "<matplotlib.figure.Figure at 0xa564c2c>"
       ]
      }
     ],
     "prompt_number": 4
    },
    {
     "cell_type": "markdown",
     "metadata": {},
     "source": [
      "### Fitting the cumulative Luminosity Function"
     ]
    },
    {
     "cell_type": "code",
     "collapsed": false,
     "input": [
      "A = [0,3,5,7,5,2,1]"
     ],
     "language": "python",
     "metadata": {},
     "outputs": [],
     "prompt_number": 7
    },
    {
     "cell_type": "code",
     "collapsed": false,
     "input": [
      "A.sort()"
     ],
     "language": "python",
     "metadata": {},
     "outputs": [],
     "prompt_number": 8
    },
    {
     "cell_type": "code",
     "collapsed": false,
     "input": [
      "A"
     ],
     "language": "python",
     "metadata": {},
     "outputs": [
      {
       "metadata": {},
       "output_type": "pyout",
       "prompt_number": 9,
       "text": [
        "[0, 1, 2, 3, 5, 5, 7]"
       ]
      }
     ],
     "prompt_number": 9
    },
    {
     "cell_type": "code",
     "collapsed": false,
     "input": [],
     "language": "python",
     "metadata": {},
     "outputs": []
    }
   ],
   "metadata": {}
  }
 ]
}