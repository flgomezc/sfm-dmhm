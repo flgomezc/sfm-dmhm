{
 "metadata": {
  "name": "",
  "signature": "sha256:5db47cab4ea3906ea02d1d2ed64ed1b2f704922c3b0a7c45506443cd1ffe1c94"
 },
 "nbformat": 3,
 "nbformat_minor": 0,
 "worksheets": [
  {
   "cells": [
    {
     "cell_type": "code",
     "collapsed": false,
     "input": [
      "%pylab inline\n",
      "\n",
      "from random import *\n",
      "from observational_data import *\n",
      "\n",
      "def Luminosity(M,L_0,M_0,beta,gamma):\n",
      "    return L_0*M*( (M/M_0)**(-beta) + (M/M_0)**gamma)**(-1)\n",
      "\n",
      "def StarFormationRate(M,L_0,M_0,beta,gamma):\n",
      "    return Luminosity(M,L_0,M_0,beta,gamma) * 1.4e-28\n",
      "\n",
      "hpl  = 0.6777          # Using h from 2013-Planck\n",
      "\n",
      "#############################################\n",
      "#            Loading data file              #\n",
      "#        Full catalog is used again         #\n",
      "#############################################\n",
      "\n",
      "M = np.loadtxt('../data/MD_3840_Planck1/BDM/reduced_catshortV_007.dat'\n",
      "    ,usecols=(3,),skiprows=17)/hpl; BoxLength = 1000.0/hpl # Mpc\n",
      "#M = np.loadtxt('../data/MD_3840_Planck1/BDM/Small_Cells/0.dat'\n",
      "#    ,usecols=(3,),skiprows=17)/hpl; BoxLength = 250.0/hpl # Mpc\n",
      "M.sort()\n",
      "\n",
      "log10_M = log10(M[:])\n",
      "L       = np.zeros(M.size)\n",
      "L_R     = np.zeros(M.size)"
     ],
     "language": "python",
     "metadata": {},
     "outputs": [
      {
       "output_type": "stream",
       "stream": "stdout",
       "text": [
        "Populating the interactive namespace from numpy and matplotlib\n"
       ]
      }
     ],
     "prompt_number": 1
    },
    {
     "cell_type": "code",
     "collapsed": false,
     "input": [
      "parameters = np.loadtxt('../analysis/best_parameters.dat',usecols=(0,1,2,3,4,5), skiprows=0); \n"
     ],
     "language": "python",
     "metadata": {},
     "outputs": [],
     "prompt_number": 3
    },
    {
     "cell_type": "code",
     "collapsed": false,
     "input": [
      "#MCMC_reg = open(\"MCMC_reg.dat\", \"w\")\n",
      "sfr64 = zeros([64,20])\n",
      "mass = logspace(10.3,13.0,20)\n",
      "\n",
      "#for K in range(parameters.shape[0]):\n",
      "for K in range(0,64):\n",
      "\n",
      "    L_0  = 10**parameters[K,0]\n",
      "    M_0  = 10**parameters[K,1]\n",
      "    beta = parameters[K,2]\n",
      "    gamma= parameters[K,3]\n",
      "#    print StarFormationRate(mass[:], L_0, M_0, beta, gamma)\n",
      "#    L       = np.zeros(M.size)\n",
      "#    L[:]    = Luminosity( M[:], L_0, M_0, beta, gamma)\n",
      "    sfr64[K,:]  = StarFormationRate(mass[:], L_0, M_0, beta, gamma)"
     ],
     "language": "python",
     "metadata": {},
     "outputs": [],
     "prompt_number": 60
    },
    {
     "cell_type": "code",
     "collapsed": false,
     "input": [
      "sfr64[1]"
     ],
     "language": "python",
     "metadata": {},
     "outputs": [
      {
       "metadata": {},
       "output_type": "pyout",
       "prompt_number": 61,
       "text": [
        "array([  2.79599732e-05,   7.02121580e-05,   1.76314394e-04,\n",
        "         4.42754438e-04,   1.11182741e-03,   2.79196625e-03,\n",
        "         7.01098385e-03,   1.76050906e-02,   4.42053551e-02,\n",
        "         1.10983238e-01,   2.78554921e-01,   6.98645182e-01,\n",
        "         1.74932526e+00,   4.36264543e+00,   1.07784842e+01,\n",
        "         2.60625805e+01,   6.01252522e+01,   1.26446138e+02,\n",
        "         2.28792411e+02,   3.44675866e+02])"
       ]
      }
     ],
     "prompt_number": 61
    },
    {
     "cell_type": "code",
     "collapsed": false,
     "input": [
      "plot()\n",
      "for k in range(64):\n",
      "    plot(mass,sfr64[k],\".\")\n",
      "    scatter(mass,sfr64[K],s=3)\n",
      "yscale(\"log\")\n",
      "xscale(\"log\")"
     ],
     "language": "python",
     "metadata": {},
     "outputs": [
      {
       "metadata": {},
       "output_type": "display_data",
       "png": "[encoded data removed]",
       "text": [
        "<matplotlib.figure.Figure at 0xac1e9d4c>"
       ]
      }
     ],
     "prompt_number": 43
    },
    {
     "cell_type": "code",
     "collapsed": false,
     "input": [
      "hist(log10(sfr64[:,9]),10)"
     ],
     "language": "python",
     "metadata": {},
     "outputs": [
      {
       "metadata": {},
       "output_type": "pyout",
       "prompt_number": 58,
       "text": [
        "(array([ 5,  2,  7,  7, 16, 10,  5,  3,  4,  5]),\n",
        " array([-0.96806045, -0.92987823, -0.89169602, -0.8535138 , -0.81533158,\n",
        "        -0.77714936, -0.73896714, -0.70078493, -0.66260271, -0.62442049,\n",
        "        -0.58623827]),\n",
        " <a list of 10 Patch objects>)"
       ]
      },
      {
       "metadata": {},
       "output_type": "display_data",
       "png": "[encoded data removed]",
       "text": [
        "<matplotlib.figure.Figure at 0x9cdb56c>"
       ]
      }
     ],
     "prompt_number": 58
    },
    {
     "cell_type": "code",
     "collapsed": false,
     "input": [
      "hist2d(mass, sfr[1], bins=40, norm=LogNorm())\n",
      "colorbar()"
     ],
     "language": "python",
     "metadata": {},
     "outputs": [
      {
       "ename": "NameError",
       "evalue": "name 'hist2d' is not defined",
       "output_type": "pyerr",
       "traceback": [
        "\u001b[1;31m---------------------------------------------------------------------------\u001b[0m\n\u001b[1;31mNameError\u001b[0m                                 Traceback (most recent call last)",
        "\u001b[1;32m<ipython-input-59-cda5d8963aa1>\u001b[0m in \u001b[0;36m<module>\u001b[1;34m()\u001b[0m\n\u001b[1;32m----> 1\u001b[1;33m \u001b[0mhist2d\u001b[0m\u001b[1;33m(\u001b[0m\u001b[0mmass\u001b[0m\u001b[1;33m,\u001b[0m \u001b[0msfr\u001b[0m\u001b[1;33m[\u001b[0m\u001b[1;36m1\u001b[0m\u001b[1;33m]\u001b[0m\u001b[1;33m,\u001b[0m \u001b[0mbins\u001b[0m\u001b[1;33m=\u001b[0m\u001b[1;36m40\u001b[0m\u001b[1;33m,\u001b[0m \u001b[0mnorm\u001b[0m\u001b[1;33m=\u001b[0m\u001b[0mLogNorm\u001b[0m\u001b[1;33m(\u001b[0m\u001b[1;33m)\u001b[0m\u001b[1;33m)\u001b[0m\u001b[1;33m\u001b[0m\u001b[0m\n\u001b[0m\u001b[0;32m      2\u001b[0m \u001b[0mcolorbar\u001b[0m\u001b[1;33m(\u001b[0m\u001b[1;33m)\u001b[0m\u001b[1;33m\u001b[0m\u001b[0m\n",
        "\u001b[1;31mNameError\u001b[0m: name 'hist2d' is not defined"
       ]
      }
     ],
     "prompt_number": 59
    },
    {
     "cell_type": "code",
     "collapsed": false,
     "input": [
      "matplotlib.pyplot.hist2d"
     ],
     "language": "python",
     "metadata": {},
     "outputs": [
      {
       "ename": "AttributeError",
       "evalue": "'module' object has no attribute 'hist2d'",
       "output_type": "pyerr",
       "traceback": [
        "\u001b[1;31m---------------------------------------------------------------------------\u001b[0m\n\u001b[1;31mAttributeError\u001b[0m                            Traceback (most recent call last)",
        "\u001b[1;32m<ipython-input-62-fc2c34b58c08>\u001b[0m in \u001b[0;36m<module>\u001b[1;34m()\u001b[0m\n\u001b[1;32m----> 1\u001b[1;33m \u001b[0mmatplotlib\u001b[0m\u001b[1;33m.\u001b[0m\u001b[0mpyplot\u001b[0m\u001b[1;33m.\u001b[0m\u001b[0mhist2d\u001b[0m\u001b[1;33m\u001b[0m\u001b[0m\n\u001b[0m",
        "\u001b[1;31mAttributeError\u001b[0m: 'module' object has no attribute 'hist2d'"
       ]
      }
     ],
     "prompt_number": 62
    },
    {
     "cell_type": "code",
     "collapsed": false,
     "input": [],
     "language": "python",
     "metadata": {},
     "outputs": []
    }
   ],
   "metadata": {}
  }
 ]
}