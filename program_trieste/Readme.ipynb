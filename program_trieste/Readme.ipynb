{
 "metadata": {
  "name": "",
  "signature": "sha256:f281feb15840b2fa537e7af9206fd99d3b600996d4209437ec826f56041286a2"
 },
 "nbformat": 3,
 "nbformat_minor": 0,
 "worksheets": [
  {
   "cells": [
    {
     "cell_type": "markdown",
     "metadata": {},
     "source": [
      "09-ago-2014\n",
      "\n",
      "#Overview of the code\n",
      "\n",
      "Is not necesary to run the code over the fullbox. I am going to study the cosmic variance in the small boxes with similar size to the McLure observations.\n",
      "\n",
      "#Checklist\n",
      "\n",
      "##Modifications to do:\n",
      "\n",
      "1. Change the number of points in the fitting: remove the low magnitude galaxies.\n",
      "2. Check the output in the MCMC. It must include all the repeated values.\n",
      "3. Calculate $\\sigma$ using histograms, find the $68\\%$ region, the first and third quartile."
     ]
    },
    {
     "cell_type": "markdown",
     "metadata": {},
     "source": [
      "##Progress:\n",
      "\n",
      "1. The file \"observational_data.py\" have been modified, the last three points in Bouwens data set have been deleted.\n",
      "\n",
      "2. All the \"good values\" are included on the MCMC output"
     ]
    },
    {
     "cell_type": "markdown",
     "metadata": {},
     "source": [
      "#### The fitting function\n",
      "\n",
      "$ L(M) = \\frac{L_0  M}{  \\left( \\frac{M}{M_0}\\right)^{-\\beta} +\\left( \\frac{M}{M_0}\\right)^{\\gamma} }  $"
     ]
    },
    {
     "cell_type": "code",
     "collapsed": false,
     "input": [],
     "language": "python",
     "metadata": {},
     "outputs": []
    }
   ],
   "metadata": {}
  }
 ]
}