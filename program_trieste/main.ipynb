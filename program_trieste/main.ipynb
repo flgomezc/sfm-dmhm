{
 "metadata": {
  "name": "",
  "signature": "sha256:965be50d18abb10bda49ad0fc8860d54b04578be3299513a6b1f11ea2b1cd897"
 },
 "nbformat": 3,
 "nbformat_minor": 0,
 "worksheets": [
  {
   "cells": [
    {
     "cell_type": "code",
     "collapsed": false,
     "input": [
      "# Last modification: 2014-ago-13 - Bogota\n",
      "# This is the main program to run the MCMC over\n",
      "# the 64 small boxes.\n",
      "# \n",
      "#  Now includes Dust Attenuation\n",
      "#\n",
      "\n",
      "%pylab inline\n",
      "\n",
      "from random import *\n",
      "from observational_data import *\n",
      "\n",
      "def Luminosity(M,L_0,M_0,beta,gamma):\n",
      "    return L_0*M*( (M/M_0)**(-beta) + (M/M_0)**gamma)**(-1)\n",
      "\n",
      "def StarFormationRate(M,L_0,M_0,beta,gamma):\n",
      "    return Luminosity(M,L_0,M_0,beta,gamma) * 1.4e-28\n",
      "\n",
      "hpl  = 0.6777            # Using h from 2013-Planck\n",
      "NN   = 64                # Number of boxes\n",
      "MonteCarloSteps = 10000  # Number of MonteCarlo steps for each box\n",
      "Mag0 = -4.61455/0.2587   # Limit magnitude to apply dust attenuation\n",
      "\n",
      "\n",
      "A = range(NN)          # List of boxes to study\n",
      "\n",
      "MCMC_reg = [open( 'results/%i.dat' %filenumber, 'w') for filenumber in A]\n",
      "\n",
      "for DATA in range(NN):    \n",
      "    #############################################\n",
      "    #            Loading data file              #\n",
      "    #############################################\n",
      "    \n",
      "    # Data columns:\n",
      "    # X (Mpc h^-1), Y (Mpc h^-1), Z (Mpc h^-1), Halo mass (Solar Mass)\n",
      "    STR = '../data/MD_3840_Planck1/BDM/Small_Cells/'+str(DATA)+'.dat'\n",
      "    data = np.loadtxt(STR,usecols=(0,1,2,3), skiprows=0); BoxLength = 250.0/hpl # Mpc \n",
      "\n",
      "\n",
      "    M       = data[:,3]/hpl\n",
      "    log10_M = log10(M[:])\n",
      "    L       = np.zeros(M.size)\n",
      "    L_R     = np.zeros(M.size)\n",
      "    seed(None)\n",
      "    \n",
      "    ################################################################\n",
      "    #                     The Random Walk                          #\n",
      "    #                     fitting function                         #\n",
      "    ################################################################\n",
      "\n",
      "    # Initial constants for the luminosity function\n",
      "    #  L_0          log10( M_0)    beta             gamma         Xi**2\n",
      "    # 18.1              11.25       0.6              0.4\n",
      "    L_0   = 10.0**(17.94)\n",
      "    M_0   = 10.0**(11.25)\n",
      "    beta  =  0.8\n",
      "    gamma =  0.1424\n",
      "    \n",
      "    ######################################################\n",
      "    # Calculate the histogram and Xi_sqr for first time. #\n",
      "    ######################################################\n",
      "    \n",
      "    L[:] = Luminosity( M[:], L_0, M_0, beta, gamma)\n",
      "    Magnitude_UV_galaxy_list = 51.82 - 2.5 * log10(L[:])\n",
      "    \n",
      "    ### Dust Extinction\n",
      "    Mag = Magnitude_UV_galaxy_list\n",
      "    Mag[Mag< Mag0] = ( Mag[Mag< Mag0]-4.61455)/1.2587\n",
      "\n",
      "    HIST1 = 1.0*histogram(Magnitude_UV_galaxy_list,bins=HIST1_bins)[0]\n",
      "    HIST2 = 1.0*histogram(Magnitude_UV_galaxy_list,bins=HIST2_bins)[0]\n",
      "    HIST3 = 1.0*histogram(Magnitude_UV_galaxy_list,bins=HIST3_bins)[0]\n",
      "\n",
      "    ### Normalize the histograms\n",
      "    for i in range(len(HIST1)):\n",
      "        HIST1[i] = HIST1[i]/((HIST1_bins[i+1]-HIST1_bins[i])*BoxLength**3)\n",
      "    for i in range(len(HIST2)):\n",
      "        HIST2[i] = HIST2[i]*1.0/(1.0*(HIST2_bins[i+1]-HIST2_bins[i])*BoxLength**3)\n",
      "    for i in range(len(HIST3)):\n",
      "        HIST3[i] = HIST3[i]/((HIST3_bins[i+1]-HIST3_bins[i])*BoxLength**3)\n",
      "\n",
      "    ### Calculate chi2 as the sum for each histogram\n",
      "    NOB = 0\n",
      "    chi_sqr=0.0\n",
      "    for i in range(len(HIST1)):\n",
      "        if (HIST1[i] != 0.0):\n",
      "            chi_sqr = chi_sqr + (( log10(HIST1[i])-Obs_data1_log10[i,1] )**2 )/(2*sigma1[i]**2)\n",
      "            NOB += 1\n",
      "    for i in range(len(HIST2)):\n",
      "        if (HIST2[i] != 0.0):\n",
      "            chi_sqr = chi_sqr + (( log10(HIST2[i])-Obs_data2_log10[i,1] )**2 )/(2*sigma2[i]**2)\n",
      "            NOB += 1\n",
      "    for i in range(len(HIST3)):\n",
      "        if (HIST3[i] != 0.0):\n",
      "            chi_sqr = chi_sqr + (( log10(HIST3[i])-Obs_data3_log10[i,1] )**2 )/(2*sigma3[i]**2)\n",
      "            NOB += 1\n",
      "    if NOB > 4:\n",
      "        NDF = NOB-4\n",
      "    else:\n",
      "        NDF = 1.0e-10\n",
      "\n",
      "    chi_sqr = chi_sqr / NDF\n",
      "\n",
      "    MCMC_reg[DATA].write(\"# L_0 \\t M_0 \\t beta \\t gamma \\t chi_sqr \\t Number of Bins\\n\")\n",
      "\n",
      "    MCMC_reg[DATA].write(str(log10(L_0))+\"\\t\"+\n",
      "                   str(log10(M_0))+\"\\t\"+\n",
      "                   str(beta)+\"\\t\"+\n",
      "                   str(gamma)+\"\\t\"+\n",
      "                   str(chi_sqr)+\"\\t\"+\n",
      "                   str(NOB)+\"\\n\")\n",
      "\n",
      "    ###################################\n",
      "    # Markov Chain Monte Carlo Starts #\n",
      "    ###################################\n",
      "\n",
      "    DeltaChi = 0.0\n",
      "    K0 = 0.01        # L_0\n",
      "    K1 = 0.01        # M_0\n",
      "    K2 = 0.05        # beta \n",
      "    K3 = 0.05        # gamma\n",
      "\n",
      "    # First of all, the histogram with the original parameters must be calculated,\n",
      "    # included the Xi_square deviation\n",
      "    for COUNTER in range(MonteCarloSteps):\n",
      "        # Then the parameters are changed in order to calculate the new histogram\n",
      "        L_0R   = L_0  *10**(gauss(0.0,K0))\n",
      "        M_0R   = M_0  *10**(gauss(0.0,K1))\n",
      "        betaR  = beta + gauss(0.0,K2)\n",
      "        gammaR = gamma+ gauss(0.0,K3)\n",
      "        ### Some constraints over parameters\n",
      "        while (L_0R <10**(16.75)) or (L_0R >10**(20.0)):\n",
      "            L_0R   = L_0  *10**(gauss(0.0,K0))\n",
      "        while (M_0R < 10.80):\n",
      "            M_0R   = M_0  *10**(gauss(0.0,K1))\n",
      "        while (betaR<0) or (betaR>2.0):\n",
      "            betaR  = beta + gauss(0.0,K2)\n",
      "        while (gammaR<0) or (gammaR>1.0):\n",
      "            gammaR = gamma+ gauss(0.0,K3)\n",
      "\n",
      "        #for i in range(M.size):\n",
      "        L_R[:]    = Luminosity( M[:], L_0R, M_0R, betaR, gammaR)\n",
      "        Magnitude_UV_galaxy_list_R = 51.82 - 2.5 * log10(L_R[:])\n",
      "        \n",
      "        ### Dust Attenuation\n",
      "        Mag = Magnitude_UV_galaxy_list_R\n",
      "        Mag[Mag< Mag0] = ( Mag[Mag< Mag0]-4.61455)/1.2587\n",
      "       \n",
      "        ### Calculate the histograms\n",
      "        # HIST0_R = 1.0*histogram(Magnitude_UV_galaxy_list_R,bins=(-22.0,-21.5,-21.0,-20.5,-20.0,-19.5,-19.0,-18.5,-18.0,-17.5,-17.0,-16.5,-16.0))[0]\n",
      "        HIST1_R = 1.0*histogram(Magnitude_UV_galaxy_list_R,bins=HIST1_bins)[0]\n",
      "        HIST2_R = 1.0*histogram(Magnitude_UV_galaxy_list_R,bins=HIST2_bins)[0]\n",
      "        HIST3_R = 1.0*histogram(Magnitude_UV_galaxy_list_R,bins=HIST3_bins)[0]\n",
      "\n",
      "        ### Normalize the histograms\n",
      "        for i in range(len(HIST1_R)):\n",
      "            HIST1_R[i] = HIST1_R[i]/((HIST1_bins[i+1]-HIST1_bins[i])*BoxLength**3)\n",
      "        for i in range(len(HIST2_R)):\n",
      "            HIST2_R[i] = HIST2_R[i]*1.0/(1.0*(HIST2_bins[i+1]-HIST2_bins[i])*BoxLength**3)\n",
      "        for i in range(len(HIST3_R)):\n",
      "            HIST3_R[i] = HIST3_R[i]/((HIST3_bins[i+1]-HIST3_bins[i])*BoxLength**3)\n",
      "\n",
      "        ### Calculate chi2 as the sum for each histogram\n",
      "        chi_sqr_R=0.0\n",
      "\n",
      "        NOB = 0 # Number of used Bins\n",
      "        for i in range(len(HIST1_R)):\n",
      "            if (HIST1_R[i] != 0.0):\n",
      "                chi_sqr_R = chi_sqr_R + (( log10(HIST1_R[i])-Obs_data1_log10[i,1] )**2 )/(2*sigma1[i]**2)\n",
      "                NOB += 1\n",
      "            else:\n",
      "                chi_sqr_R = chi_sqr_R + DeltaChi\n",
      "        for i in range(len(HIST2_R)):\n",
      "            if (HIST2_R[i] != 0.0):\n",
      "                chi_sqr_R = chi_sqr_R + (( log10(HIST2_R[i])-Obs_data2_log10[i,1] )**2 )/(2*sigma2[i]**2)\n",
      "                NOB += 1\n",
      "            else:\n",
      "                chi_sqr_R = chi_sqr_R + DeltaChi\n",
      "        for i in range(len(HIST3_R)):\n",
      "            if (HIST3_R[i] != 0.0):\n",
      "                chi_sqr_R = chi_sqr_R + (( log10(HIST3_R[i])-Obs_data3_log10[i,1] )**2 )/(2*sigma3[i]**2)\n",
      "                NOB += 1\n",
      "            else:\n",
      "                chi_sqr_R = chi_sqr_R + DeltaChi\n",
      "        if NOB >= 16:\n",
      "            NDF = NOB-4\n",
      "        else:\n",
      "            NDF = abs( NOB-10)\n",
      "\n",
      "        chi_sqr_R = chi_sqr_R / NDF\n",
      "\n",
      "        # If the new chi2 is better, then the new set of parameters is accepted\n",
      "        Delta_chi = chi_sqr_R - chi_sqr\n",
      "        if ( Delta_chi < 0):\n",
      "            L_0    = L_0R\n",
      "            M_0    = M_0R\n",
      "            beta   = betaR\n",
      "            gamma  = gammaR\n",
      "            HIST1   = HIST1_R\n",
      "            HIST2   = HIST2_R\n",
      "            HIST3   = HIST3_R \n",
      "            chi_sqr= chi_sqr_R\n",
      "            \n",
      "        else:\n",
      "            p = rand()\n",
      "            #print p, exp( -Delta_chi)\n",
      "            if ( p < exp( -Delta_chi) ): ## CORRECT EXPRESSION \"<\"\n",
      "                L_0    = L_0R\n",
      "                M_0    = M_0R\n",
      "                beta   = betaR\n",
      "                gamma  = gammaR\n",
      "                HIST1   = HIST1_R\n",
      "                HIST2   = HIST2_R\n",
      "                HIST3   = HIST3_R\n",
      "                chi_sqr= chi_sqr_R\n",
      "\n",
      "        # Storing all the good points.\n",
      "        # L_0, M_0, beta, gamma, chi_sqr\n",
      "        MCMC_reg[DATA].write(\n",
      "                            str(log10(L_0))+\"\\t\"+\n",
      "                            str(log10(M_0))+\"\\t\"+\n",
      "                            str(beta)      +\"\\t\"+\n",
      "                            str(gamma)     +\"\\t\"+\n",
      "                            str(chi_sqr)  +\"\\t\"+\n",
      "                            str(NOB)        +\"\\n\")\n",
      "        # End of the loop\n",
      "    MCMC_reg[DATA].close()\n",
      "    print str(\"Monte Carlo for box \")+str(DATA)+str(\" ends\")\n",
      "    data = 0"
     ],
     "language": "python",
     "metadata": {},
     "outputs": [
      {
       "output_type": "stream",
       "stream": "stdout",
       "text": [
        "Populating the interactive namespace from numpy and matplotlib\n",
        "Monte Carlo for box 0 ends"
       ]
      },
      {
       "output_type": "stream",
       "stream": "stdout",
       "text": [
        "\n",
        "Monte Carlo for box 1 ends"
       ]
      },
      {
       "output_type": "stream",
       "stream": "stdout",
       "text": [
        "\n",
        "Monte Carlo for box 2 ends"
       ]
      },
      {
       "output_type": "stream",
       "stream": "stdout",
       "text": [
        "\n",
        "Monte Carlo for box 3 ends"
       ]
      },
      {
       "output_type": "stream",
       "stream": "stdout",
       "text": [
        "\n",
        "Monte Carlo for box 4 ends"
       ]
      },
      {
       "output_type": "stream",
       "stream": "stdout",
       "text": [
        "\n",
        "Monte Carlo for box 5 ends"
       ]
      },
      {
       "output_type": "stream",
       "stream": "stdout",
       "text": [
        "\n",
        "Monte Carlo for box 6 ends"
       ]
      },
      {
       "output_type": "stream",
       "stream": "stdout",
       "text": [
        "\n",
        "Monte Carlo for box 7 ends"
       ]
      },
      {
       "output_type": "stream",
       "stream": "stdout",
       "text": [
        "\n",
        "Monte Carlo for box 8 ends"
       ]
      },
      {
       "output_type": "stream",
       "stream": "stdout",
       "text": [
        "\n",
        "Monte Carlo for box 9 ends"
       ]
      },
      {
       "output_type": "stream",
       "stream": "stdout",
       "text": [
        "\n",
        "Monte Carlo for box 10 ends"
       ]
      },
      {
       "output_type": "stream",
       "stream": "stdout",
       "text": [
        "\n",
        "Monte Carlo for box 11 ends"
       ]
      },
      {
       "output_type": "stream",
       "stream": "stdout",
       "text": [
        "\n",
        "Monte Carlo for box 12 ends"
       ]
      },
      {
       "output_type": "stream",
       "stream": "stdout",
       "text": [
        "\n",
        "Monte Carlo for box 13 ends"
       ]
      },
      {
       "output_type": "stream",
       "stream": "stdout",
       "text": [
        "\n",
        "Monte Carlo for box 14 ends"
       ]
      },
      {
       "output_type": "stream",
       "stream": "stdout",
       "text": [
        "\n",
        "Monte Carlo for box 15 ends"
       ]
      },
      {
       "output_type": "stream",
       "stream": "stdout",
       "text": [
        "\n",
        "Monte Carlo for box 16 ends"
       ]
      },
      {
       "output_type": "stream",
       "stream": "stdout",
       "text": [
        "\n",
        "Monte Carlo for box 17 ends"
       ]
      },
      {
       "output_type": "stream",
       "stream": "stdout",
       "text": [
        "\n",
        "Monte Carlo for box 18 ends"
       ]
      },
      {
       "output_type": "stream",
       "stream": "stdout",
       "text": [
        "\n",
        "Monte Carlo for box 19 ends"
       ]
      },
      {
       "output_type": "stream",
       "stream": "stdout",
       "text": [
        "\n",
        "Monte Carlo for box 20 ends"
       ]
      },
      {
       "output_type": "stream",
       "stream": "stdout",
       "text": [
        "\n",
        "Monte Carlo for box 21 ends"
       ]
      },
      {
       "output_type": "stream",
       "stream": "stdout",
       "text": [
        "\n",
        "Monte Carlo for box 22 ends"
       ]
      },
      {
       "output_type": "stream",
       "stream": "stdout",
       "text": [
        "\n",
        "Monte Carlo for box 23 ends"
       ]
      },
      {
       "output_type": "stream",
       "stream": "stdout",
       "text": [
        "\n",
        "Monte Carlo for box 24 ends"
       ]
      },
      {
       "output_type": "stream",
       "stream": "stdout",
       "text": [
        "\n",
        "Monte Carlo for box 25 ends"
       ]
      },
      {
       "output_type": "stream",
       "stream": "stdout",
       "text": [
        "\n",
        "Monte Carlo for box 26 ends"
       ]
      },
      {
       "output_type": "stream",
       "stream": "stdout",
       "text": [
        "\n",
        "Monte Carlo for box 27 ends"
       ]
      },
      {
       "output_type": "stream",
       "stream": "stdout",
       "text": [
        "\n",
        "Monte Carlo for box 28 ends"
       ]
      },
      {
       "output_type": "stream",
       "stream": "stdout",
       "text": [
        "\n",
        "Monte Carlo for box 29 ends"
       ]
      },
      {
       "output_type": "stream",
       "stream": "stdout",
       "text": [
        "\n",
        "Monte Carlo for box 30 ends"
       ]
      },
      {
       "output_type": "stream",
       "stream": "stdout",
       "text": [
        "\n",
        "Monte Carlo for box 31 ends"
       ]
      },
      {
       "output_type": "stream",
       "stream": "stdout",
       "text": [
        "\n",
        "Monte Carlo for box 32 ends"
       ]
      },
      {
       "output_type": "stream",
       "stream": "stdout",
       "text": [
        "\n",
        "Monte Carlo for box 33 ends"
       ]
      },
      {
       "output_type": "stream",
       "stream": "stdout",
       "text": [
        "\n",
        "Monte Carlo for box 34 ends"
       ]
      },
      {
       "output_type": "stream",
       "stream": "stdout",
       "text": [
        "\n",
        "Monte Carlo for box 35 ends"
       ]
      },
      {
       "output_type": "stream",
       "stream": "stdout",
       "text": [
        "\n",
        "Monte Carlo for box 36 ends"
       ]
      },
      {
       "output_type": "stream",
       "stream": "stdout",
       "text": [
        "\n",
        "Monte Carlo for box 37 ends"
       ]
      },
      {
       "output_type": "stream",
       "stream": "stdout",
       "text": [
        "\n",
        "Monte Carlo for box 38 ends"
       ]
      },
      {
       "output_type": "stream",
       "stream": "stdout",
       "text": [
        "\n",
        "Monte Carlo for box 39 ends"
       ]
      },
      {
       "output_type": "stream",
       "stream": "stdout",
       "text": [
        "\n",
        "Monte Carlo for box 40 ends"
       ]
      },
      {
       "output_type": "stream",
       "stream": "stdout",
       "text": [
        "\n",
        "Monte Carlo for box 41 ends"
       ]
      },
      {
       "output_type": "stream",
       "stream": "stdout",
       "text": [
        "\n",
        "Monte Carlo for box 42 ends"
       ]
      },
      {
       "output_type": "stream",
       "stream": "stdout",
       "text": [
        "\n",
        "Monte Carlo for box 43 ends"
       ]
      },
      {
       "output_type": "stream",
       "stream": "stdout",
       "text": [
        "\n",
        "Monte Carlo for box 44 ends"
       ]
      },
      {
       "output_type": "stream",
       "stream": "stdout",
       "text": [
        "\n",
        "Monte Carlo for box 45 ends"
       ]
      },
      {
       "output_type": "stream",
       "stream": "stdout",
       "text": [
        "\n",
        "Monte Carlo for box 46 ends"
       ]
      },
      {
       "output_type": "stream",
       "stream": "stdout",
       "text": [
        "\n",
        "Monte Carlo for box 47 ends"
       ]
      },
      {
       "output_type": "stream",
       "stream": "stdout",
       "text": [
        "\n",
        "Monte Carlo for box 48 ends"
       ]
      },
      {
       "output_type": "stream",
       "stream": "stdout",
       "text": [
        "\n",
        "Monte Carlo for box 49 ends"
       ]
      },
      {
       "output_type": "stream",
       "stream": "stdout",
       "text": [
        "\n",
        "Monte Carlo for box 50 ends"
       ]
      },
      {
       "output_type": "stream",
       "stream": "stdout",
       "text": [
        "\n",
        "Monte Carlo for box 51 ends"
       ]
      },
      {
       "output_type": "stream",
       "stream": "stdout",
       "text": [
        "\n",
        "Monte Carlo for box 52 ends"
       ]
      },
      {
       "output_type": "stream",
       "stream": "stdout",
       "text": [
        "\n",
        "Monte Carlo for box 53 ends"
       ]
      },
      {
       "output_type": "stream",
       "stream": "stdout",
       "text": [
        "\n",
        "Monte Carlo for box 54 ends"
       ]
      },
      {
       "output_type": "stream",
       "stream": "stdout",
       "text": [
        "\n",
        "Monte Carlo for box 55 ends"
       ]
      },
      {
       "output_type": "stream",
       "stream": "stdout",
       "text": [
        "\n",
        "Monte Carlo for box 56 ends"
       ]
      },
      {
       "output_type": "stream",
       "stream": "stdout",
       "text": [
        "\n",
        "Monte Carlo for box 57 ends"
       ]
      },
      {
       "output_type": "stream",
       "stream": "stdout",
       "text": [
        "\n",
        "Monte Carlo for box 58 ends"
       ]
      },
      {
       "output_type": "stream",
       "stream": "stdout",
       "text": [
        "\n",
        "Monte Carlo for box 59 ends"
       ]
      },
      {
       "output_type": "stream",
       "stream": "stdout",
       "text": [
        "\n",
        "Monte Carlo for box 60 ends"
       ]
      },
      {
       "output_type": "stream",
       "stream": "stdout",
       "text": [
        "\n",
        "Monte Carlo for box 61 ends"
       ]
      },
      {
       "output_type": "stream",
       "stream": "stdout",
       "text": [
        "\n",
        "Monte Carlo for box 62 ends"
       ]
      },
      {
       "output_type": "stream",
       "stream": "stdout",
       "text": [
        "\n",
        "Monte Carlo for box 63 ends"
       ]
      },
      {
       "output_type": "stream",
       "stream": "stdout",
       "text": [
        "\n"
       ]
      },
      {
       "output_type": "stream",
       "stream": "stderr",
       "text": [
        "observational_data.py:62: RuntimeWarning: divide by zero encountered in divide\n",
        "  Obs_data2_log10yerror = [array(log10(Bouwens[:,1]/(Bouwens[:,1]-Bouwens[:,2]))),\n"
       ]
      }
     ],
     "prompt_number": 1
    },
    {
     "cell_type": "code",
     "collapsed": false,
     "input": [],
     "language": "python",
     "metadata": {},
     "outputs": []
    }
   ],
   "metadata": {}
  }
 ]
}