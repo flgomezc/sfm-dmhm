{
 "metadata": {
  "name": "",
  "signature": "sha256:2942a131d8e41e73c226b61d47b79ac33becad671f4e7708af4d71d397db0966"
 },
 "nbformat": 3,
 "nbformat_minor": 0,
 "worksheets": [
  {
   "cells": [
    {
     "cell_type": "code",
     "collapsed": false,
     "input": [
      "# Last modification: 2014-jun-11\n",
      "%pylab inline\n",
      "from random import *\n",
      "from observational_data import *"
     ],
     "language": "python",
     "metadata": {},
     "outputs": [
      {
       "output_type": "stream",
       "stream": "stdout",
       "text": [
        "Populating the interactive namespace from numpy and matplotlib\n"
       ]
      },
      {
       "output_type": "stream",
       "stream": "stderr",
       "text": [
        "observational_data.py:61: RuntimeWarning: divide by zero encountered in divide\n",
        "  Obs_data2_log10yerror = [array(log10(Bouwens[:,1]/(Bouwens[:,1]-Bouwens[:,2]))),\n"
       ]
      }
     ],
     "prompt_number": 1
    },
    {
     "cell_type": "code",
     "collapsed": false,
     "input": [
      "# X (Mpc h^-1), Y (Mpc h^-1), Z (Mpc h^-1), Halo mass (Solar Mass)\n",
      "data = np.loadtxt(\n",
      "    '../data/MD_3840_Planck1/BDM/new_reduced_catshortV_007.dat',usecols=(0,1,2,3), skiprows=17); BoxLength = 1000.0 # Mpc h^{-1}\n",
      "    #'../data/MD_3840_Planck1/BDM/Small_Cells/0.dat', usecols=(0,1,2,3), skiprows=0); BoxLength = 250.0 # Mpc h^{-1}\n",
      "\n",
      "def Luminosity(M,L_0,M_0,beta,gamma):\n",
      "    return L_0*M*( (M/M_0)**(-beta) + (M/M_0)**gamma)**(-1)\n",
      "\n",
      "def StarFormationRate(M,L_0,M_0,beta,gamma):\n",
      "    return Luminosity(M,L_0,M_0,beta,gamma) * 1.4e-28\n",
      "\n",
      "parameters = np.loadtxt('../analysis/best_parameters.dat',usecols=(0,1,2,3,4,5), skiprows=0); "
     ],
     "language": "python",
     "metadata": {},
     "outputs": [],
     "prompt_number": 2
    },
    {
     "cell_type": "code",
     "collapsed": false,
     "input": [
      "#MCMC_reg = open(\"MCMC_reg.dat\", \"w\")\n",
      "histo1 = []\n",
      "\n",
      "#for K in range(parameters.shape[0]):\n",
      "K=0\n",
      "L_0  = 10**parameters[K,0]\n",
      "M_0  = 10**parameters[K,1]\n",
      "beta = parameters[K,2]\n",
      "gamma= parameters[K,3]\n",
      "\n",
      "M       = data[:,3]\n",
      "log10_M = log10(M[:])\n",
      "L       = np.zeros(M.size)\n",
      "L_R     = np.zeros(M.size)\n",
      "L[:] = Luminosity( M[:], L_0, M_0, beta, gamma)\n",
      "Magnitude_UV_galaxy_list = 51.82 - 2.5 * log10(L[:])\n",
      "\n",
      "HIST00 = histogram(Magnitude_UV_galaxy_list,10)\n",
      "HIST0 = 1.0*HIST00[0]\n",
      "\n",
      "HIST1 = 1.0*histogram(Magnitude_UV_galaxy_list,bins=HIST1_bins)[0]\n",
      "HIST2 = 1.0*histogram(Magnitude_UV_galaxy_list,bins=HIST2_bins)[0]\n",
      "HIST3 = 1.0*histogram(Magnitude_UV_galaxy_list,bins=HIST3_bins)[0]\n",
      "\n",
      "BinSizeHist0 = HIST00[1][1]-HIST00[1][2]\n",
      "for i in range(len(HIST0)):\n",
      "    HIST0[i] = HIST0[i]/(BinSizeHist0*BoxLength**3)\n",
      "\n",
      "for i in range(len(HIST1)):\n",
      "    HIST1[i] = HIST1[i]/((HIST1_bins[i+1]-HIST1_bins[i])*BoxLength**3)\n",
      "for i in range(len(HIST2)):\n",
      "    HIST2[i] = HIST2[i]*1.0/(1.0*(HIST2_bins[i+1]-HIST2_bins[i])*BoxLength**3)\n",
      "for i in range(len(HIST3)):\n",
      "    HIST3[i] = HIST3[i]/((HIST3_bins[i+1]-HIST3_bins[i])*BoxLength**3)\n",
      "NOB = 0\n",
      "chi_sqr=0.0\n",
      "for i in range(len(HIST1)):\n",
      "    if (HIST1[i] != 0.0):\n",
      "        chi_sqr = chi_sqr + (( log10(HIST1[i])-Obs_data1_log10[i,1] )**2 )/(2*sigma1[i]**2)\n",
      "        NOB += 1\n",
      "for i in range(len(HIST2)):\n",
      "    if (HIST2[i] != 0.0):\n",
      "        chi_sqr = chi_sqr + (( log10(HIST2[i])-Obs_data2_log10[i,1] )**2 )/(2*sigma2[i]**2)\n",
      "        NOB += 1\n",
      "for i in range(len(HIST3)):\n",
      "    if (HIST3[i] != 0.0):\n",
      "        chi_sqr = chi_sqr + (( log10(HIST3[i])-Obs_data3_log10[i,1] )**2 )/(2*sigma3[i]**2)\n",
      "        NOB += 1\n",
      "        \n",
      "histo1.append([HIST1, HIST2, HIST3]);\n",
      "\n",
      "if NOB > 4:\n",
      "    NDF = NOB-4\n",
      "else:\n",
      "    NDF = 1.0e-10\n",
      "\n",
      "chi_sqr = chi_sqr / NDF\n",
      "#MCMC_reg.write(\"# L_0 \\t M_0 \\t beta \\t gamma \\t chi_sqr \\t Number of Bins\")\n",
      "#MCMC_reg.write(str(log10(L_0))+\"\\t\"+str(log10(M_0))+\"\\t\"+str(beta)+\"\\t\"+str(gamma)+\"\\t\"+str(chi_sqr)+\"\\t\"+str(NOB)+\"\\n\")\n"
     ],
     "language": "python",
     "metadata": {},
     "outputs": [],
     "prompt_number": 7
    },
    {
     "cell_type": "code",
     "collapsed": false,
     "input": [
      "HIST00BINS=np.zeros(HIST00[1].size-1)\n",
      "for i in range(HIST00BINS.size):\n",
      "    HIST00BINS[i]=HIST00[1][i]\n",
      "print HIST00BINS\n"
     ],
     "language": "python",
     "metadata": {},
     "outputs": [
      {
       "output_type": "stream",
       "stream": "stdout",
       "text": [
        "[-22.70855309 -22.09051799 -21.4724829  -20.85444781 -20.23641272\n",
        " -19.61837763 -19.00034253 -18.38230744 -17.76427235 -17.14623726]\n"
       ]
      }
     ],
     "prompt_number": 4
    },
    {
     "cell_type": "code",
     "collapsed": false,
     "input": [
      "HIST00"
     ],
     "language": "python",
     "metadata": {},
     "outputs": [
      {
       "metadata": {},
       "output_type": "pyout",
       "prompt_number": 10,
       "text": [
        "(array([    364,    6492,   31858,   86215,  190077,  370744,  656707,\n",
        "        1166176, 1753760, 3621899]),\n",
        " array([-22.70855309, -22.09051799, -21.4724829 , -20.85444781,\n",
        "        -20.23641272, -19.61837763, -19.00034253, -18.38230744,\n",
        "        -17.76427235, -17.14623726, -16.52820216]))"
       ]
      }
     ],
     "prompt_number": 10
    },
    {
     "cell_type": "code",
     "collapsed": false,
     "input": [
      "pyplot.hist(Magnitude_UV_galaxy_list)\n",
      "pyplot.gca().set_yscale(\"log\")"
     ],
     "language": "python",
     "metadata": {},
     "outputs": [
      {
       "metadata": {},
       "output_type": "display_data",
       "png": "[encoded data removed]",
       "text": [
        "<matplotlib.figure.Figure at 0x43ba5d0>"
       ]
      }
     ],
     "prompt_number": 19
    },
    {
     "cell_type": "code",
     "collapsed": false,
     "input": [],
     "language": "python",
     "metadata": {},
     "outputs": []
    }
   ],
   "metadata": {}
  }
 ]
}