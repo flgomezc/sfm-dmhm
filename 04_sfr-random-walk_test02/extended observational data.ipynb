{
 "metadata": {
  "name": "",
  "signature": "sha256:a7e8285bf1a68462ff8db8d53ad39afccb270d75e64d265cd4a9a855e757bbbd"
 },
 "nbformat": 3,
 "nbformat_minor": 0,
 "worksheets": [
  {
   "cells": [
    {
     "cell_type": "markdown",
     "metadata": {},
     "source": [
      "Magnitude: dimetionless\n",
      "\n",
      "Luminosity:  $[ \\text{erg } \\text{s}^{-1} \\text{Hz}^{-1} ]$"
     ]
    },
    {
     "cell_type": "code",
     "collapsed": false,
     "input": [
      "%pylab inline\n",
      "BINS = 6\n",
      "\n",
      "#############################################\n",
      "#                                           #\n",
      "#            Loading data file              #\n",
      "#                                           #\n",
      "#############################################\n",
      "\n",
      "# Data columns:\n",
      "# X (Mpc h^-1), Y (Mpc h^-1), Z (Mpc h^-1), Halo mass (Solar Mass)\n",
      "data = np.loadtxt(\n",
      "        #'/home/flgomez10/sfr-dmhm/data/MD_3840_Planck1/BDM/small_cell_cat.dat',\n",
      "        '/home/flgomez10/sfr-dmhm/data/MD_3840_Planck1/BDM/reduced_catshortV_007.dat',\n",
      "          usecols=(0,1,2,3), skiprows=17)\n",
      "# Is necesary to specify the box size for normalization\n",
      "# it deppends of the used catalog.\n",
      "# for small_cell_cat.dat BoxLength = 1000/4 Mpc h^-1\n",
      "# for reduced_catshortV_007.dat Boxlength = 1000 h^-1\n",
      "BoxLength = 1000.0/4.0 # Mpc h^{-1}\n",
      "\n",
      "\n",
      "#############################################\n",
      "#                                           #\n",
      "#           Observational Data              #\n",
      "#                                           #\n",
      "#############################################\n",
      "\n",
      "# Observations from Willott et al,2012\n",
      "Obs_data = np.array([#  Mag,LumFunct, up_err, low_err #\n",
      "                     [-22.5, 2.66E-8, 9.08E-9, 7.78E-8],\n",
      "                     [-22.0, 2.18E-6, 8.70E-7, 9.70E-6],\n",
      "                     [-21.5, 1.45E-5, 2.88E-6, 2.92E-5],\n",
      "                     [-21.0, 1.29E-4, 7.06E-5, 2.19E-4],\n",
      "                     [-20.5, 2.30E-4, 9.34E-5, 5.77E-4]])                  \n",
      "Obs_data_log10 = array([  # Magnitude,log10_LumFunct\n",
      "[ -22.5, -7.57511836, -8.04191415, -7.1090204 ],\n",
      "[ -22.0, -5.66154351, -6.06048075, -5.01322827],\n",
      "[ -21.5, -4.838632  , -5.54060751, -4.53461715],\n",
      "[ -21.0, -3.88941029, -4.1511953 , -3.65955589],\n",
      "[ -20.5, -3.63827216, -4.02965312, -3.23882419]])\n",
      "\n",
      "# Observations from Bouwens et al 2006\n",
      "Obs_data2= np.array([#  Mag,LumFunct, up_err, low_err #\n",
      "                        [-21.94,1.00e-5,2.00e-5,1.00e-6],\n",
      "                        [-21.44,7.00e-5,1.10e-4,3.00e-5],\n",
      "                        [-20.94,1.20e-4,1.90e-4,5.00e-5],\n",
      "                        [-20.44,3.30e-4,4.50e-4,1.10e-4],\n",
      "                        [-19.94,1.28e-3,1.58e-3,9.80e-4],\n",
      "                        [-19.44,3.13e-3,4.31e-3,1.95e-4],\n",
      "                        [-18.69,3.32e-3,4.47e-3,2.17e-3],\n",
      "                        [-17.69,7.71e-3,9.82e-3,5.60e-3]])\n",
      "Obs_data2_log10 = array([# Magnitude,log10_LumFunct\n",
      "[-21.94, -5.0000000000, -4.6989700043, -6.0000000000],\n",
      "[-21.44, -4.1549019600, -3.9586073148, -4.5228787453],\n",
      "[-20.94, -3.9208187540, -3.7212463990, -4.3010299957],\n",
      "[-20.44, -3.4814860601, -3.3467874862, -3.6777807053],\n",
      "[-19.94, -2.8927900304, -2.3685562310, -3.0087739243],\n",
      "[-19.44, -2.5044556625, -2.3655227298, -2.7099653886],\n",
      "[-18.69, -2.4788619163, -2.3169529618, -2.6635402662],\n",
      "[-17.69, -2.1129456219, -2.0078885122, -2.2518119730]])\n",
      "\n",
      "# This is the Luminosity function, \n",
      "# it has four parameters and one variable, \n",
      "# the halo mass: M.\n",
      "\n",
      "def Luminosity(M,L_0,M_0,beta,gamma):\n",
      "    return L_0*M*( (M/M_0)**(-beta) + (M/M_0)**gamma)**(-1)\n",
      "\n",
      "# Some necesary vectors: halo mass M, log10(M) \n",
      "# and the luminosity of each halo: L.\n",
      "\n",
      "M       = data[:,3]\n",
      "log10_M = log10(M[:])\n",
      "L       = np.zeros(M.size)\n",
      "L_R     = np.zeros(M.size)\n",
      "\n",
      "random.seed([0])\n"
     ],
     "language": "python",
     "metadata": {},
     "outputs": [
      {
       "output_type": "stream",
       "stream": "stdout",
       "text": [
        "Populating the interactive namespace from numpy and matplotlib\n"
       ]
      },
      {
       "output_type": "stream",
       "stream": "stderr",
       "text": [
        "WARNING: pylab import has clobbered these variables: ['gamma', 'beta']\n",
        "`%pylab --no-import-all` prevents importing * from pylab and numpy\n"
       ]
      }
     ],
     "prompt_number": 13
    },
    {
     "cell_type": "markdown",
     "metadata": {},
     "source": [
      "# The Fitting function for Luminosity\n",
      "\n",
      "$ L = L_0 M \\left[ \\left(\\frac{M}{M^*}\\right)^{-\\beta} + \\left(\\frac{M}{M^*}\\right)^{\\gamma} \\right]^{-1} $\n",
      "\n",
      "# The fitting funtion for Star Forming Rate\n",
      "\n",
      "$ \\text{SFR}\\left(M_\\odot \\text{yr}^{-1}\\right) = 1.4 \\times 10^{28} L_{\\nu} \\left( \\text{erg s}^{-1}\\text{Hz}^{-1} \\right)$\n",
      "\n",
      "For each galaxy\n",
      "\n",
      "$ \\textrm{SFR}(M_h) = 1.4 \\times 10^{28} L_0 M \n",
      "                          \\left[ \\left(\\frac{M_h}{M^*}\\right)^{-\\beta} \n",
      "                               + \\left(\\frac{M_h}{M^*}\\right)^{\\gamma} \\right]^{-1} $"
     ]
    },
    {
     "cell_type": "code",
     "collapsed": false,
     "input": [
      "################################################################\n",
      "#                                                              #\n",
      "#                     The Random Walk                          #\n",
      "#                     fitting function                         #\n",
      "#                                                              #\n",
      "################################################################\n",
      "\n",
      "# Initial constants for the luminosity function\n",
      "# 17.5908958938 11.0881957561 0.889305953172 0.398344192416 0.182896419593\n",
      "# 17.651076186 11.3103664009 0.863881819343 0.532187082693 0.0478280976379\n",
      "L_0   = 10.0**(17.651076186)\n",
      "M_0   = 10.0**(11.3103664009)\n",
      "beta  =  0.863881819343\n",
      "gamma =  0.532187082693\n",
      "\n",
      "BoxLength = 1000.0 # Mpc h^{-1}\n",
      "MonteCarloSteps = 1\n",
      "K0 = 0.01\n",
      "K1 = 0.01\n",
      "K2 = 0.1\n",
      "K3 = 0.1\n",
      "\n",
      "# 4D sphere that needs 3 angles and one radius.\n",
      "#random.seed([0])\n",
      "phi_1 = 0.00 ;phi_2 = 0.00; phi_3 = 0.00\n",
      "\n",
      "#Calculate the histogram and Xi_sqr for first time.\n",
      "for i in range(M.size):\n",
      "    L[i] = Luminosity( M[i], L_0, M_0, beta, gamma)\n",
      "Magnitude_UV_galaxy_list = 51.82 - 2.5 * log10(L[:])\n",
      "HIST = histogram(Magnitude_UV_galaxy_list,\n",
      "                 bins=(-22.5,-22.0,-21.5,-21.0,-20.5,-20.0))[0]\n",
      "HIST = HIST/( 0.5*BoxLength**3)\n",
      "    \n",
      "Xi_sqr=0.0\n",
      "for i in range(5):\n",
      "    if( HIST[i]>0):\n",
      "        Xi_sqr = Xi_sqr + ( log10(HIST[i])-Obs_data_log10[i,1] )**2\n",
      "    else:\n",
      "        Xi_sqr = Xi_sqr + 100\n",
      "\n",
      "# First of all, the histogram with the original parameters must be calculated,\n",
      "# included the Xi_square deviation\n",
      "for k in range(MonteCarloSteps):\n",
      "    print k, Xi_sqr\n",
      "    # Then the parameters are changed in order to calculate the new histogram\n",
      "    phi_1 = pi*random.random()\n",
      "    phi_2 = pi*random.random()\n",
      "    phi_3 = pi*random.random()*2\n",
      "\n",
      "    L_0R   = L_0  *10**(K0*cos(phi_1))\n",
      "    M_0R   = M_0  *10**(K1*sin(phi_1)*cos(phi_2))\n",
      "    betaR  = beta +K2*(sin(phi_1)*sin(phi_2)*cos(phi_3))\n",
      "    gammaR = gamma+K3*(sin(phi_1)*sin(phi_2)*sin(phi_3))\n",
      "\n",
      "    # Now is possible to calculate the new histogram\n",
      "    # and the new Xi_square deviation.\n",
      "    for i in range(M.size):\n",
      "        L_R[i]    = Luminosity( M[i], L_0R, M_0R, betaR, gammaR)\n",
      "    Magnitude_UV_galaxy_list_R = 51.82 - 2.5 * log10(L_R[:])\n",
      "    HIST_R = histogram(Magnitude_UV_galaxy_list_R,\n",
      "                       bins=(-22.5,-22.0,-21.5,-21.0,-20.5,-20.0))[0]\n",
      "    HIST_R = HIST_R/( 0.5*BoxLength**3)\n",
      "    \n",
      "    Xi_sqr_R=0.0\n",
      "    for i in range(5):\n",
      "        if( HIST_R[i]>0):\n",
      "            Xi_sqr_R = Xi_sqr_R + ( log10(HIST_R[i])-Obs_data_log10[i,1] )**2\n",
      "        else:\n",
      "            Xi_sqr_R = Xi_sqr_R + 100\n",
      "    #print Xi_sqr_R\n",
      "    # If the new deviation is better, then accept the parameters change.\n",
      "    if (Xi_sqr_R<Xi_sqr):\n",
      "        L_0    = L_0R\n",
      "        M_0    = M_0R\n",
      "        beta   = betaR\n",
      "        gamma  = gammaR\n",
      "        HIST   = HIST_R\n",
      "        Xi_sqr =Xi_sqr_R\n",
      "# End of the loop\n"
     ],
     "language": "python",
     "metadata": {},
     "outputs": [
      {
       "output_type": "stream",
       "stream": "stdout",
       "text": [
        "0 0.0478280976379\n"
       ]
      }
     ],
     "prompt_number": 15
    },
    {
     "cell_type": "code",
     "collapsed": false,
     "input": [
      "#figure(figsize(8,4.5))\n",
      "errorbar(Obs_data[:,0],Obs_data[:,1],Obs_data[:,2],\n",
      "         Obs_data[:,3],\"b-\",label='Observational Data - 2013')\n",
      "errorbar(Obs_data2[:,0],Obs_data2[:,1],Obs_data2[:,2],\n",
      "         Obs_data2[:,3],\"k-\",label='Observational Data2- 2007')\n",
      "semilogy([-22.5, -22. , -21.5, -21. , -20.5],HIST,\"r-o\", label='Fitting for Obs. Data - 2013')\n",
      "#semilogy([-22.5, -22. , -21.5, -21. , -20.5],HIST_R,\"g-o\", label='F_RW')\n",
      "ylabel(r\"$\\log_{10}$ Luminosity Function\")\n",
      "xlabel(\"Magnitude\")\n",
      "title(\"Luminosity Function at z=5.9\")\n",
      "legend(loc=4)"
     ],
     "language": "python",
     "metadata": {},
     "outputs": [
      {
       "metadata": {},
       "output_type": "pyout",
       "prompt_number": 27,
       "text": [
        "<matplotlib.legend.Legend at 0x74de610>"
       ]
      },
      {
       "metadata": {},
       "output_type": "display_data",
       "png": "[encoded data removed]",
       "text": [
        "<matplotlib.figure.Figure at 0x6e69c90>"
       ]
      }
     ],
     "prompt_number": 27
    },
    {
     "cell_type": "code",
     "collapsed": false,
     "input": [],
     "language": "python",
     "metadata": {},
     "outputs": []
    }
   ],
   "metadata": {}
  }
 ]
}