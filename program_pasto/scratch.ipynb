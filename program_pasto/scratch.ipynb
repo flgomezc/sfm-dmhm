{
 "metadata": {
  "name": "",
  "signature": "sha256:9c28a237760486a12ca1b721a653cf15f0a285e178563fb7fcdb852bc115b144"
 },
 "nbformat": 3,
 "nbformat_minor": 0,
 "worksheets": [
  {
   "cells": [
    {
     "cell_type": "code",
     "collapsed": false,
     "input": [
      "# Last modification: 2014-nov-24 Bogota\n",
      "%pylab inline\n",
      "from random import *\n",
      "from observational_data import *\n",
      "from constants import *\n",
      "from functions import *"
     ],
     "language": "python",
     "metadata": {},
     "outputs": [
      {
       "output_type": "stream",
       "stream": "stdout",
       "text": [
        "Populating the interactive namespace from numpy and matplotlib\n"
       ]
      },
      {
       "output_type": "stream",
       "stream": "stderr",
       "text": [
        "observational_data.py:58: RuntimeWarning: divide by zero encountered in divide\n",
        "  Obs_data2_log10yerror = [array(log10(Bouwens[:,1]/(Bouwens[:,1]-Bouwens[:,2]))),\n"
       ]
      }
     ],
     "prompt_number": 1
    },
    {
     "cell_type": "code",
     "collapsed": false,
     "input": [
      "DataSets = [OD1, OD3]\n",
      "\n",
      "STR = '../data/MD_3840_Planck1/BDM/Small_Cells/13.dat'\n",
      "M = np.loadtxt(STR,usecols=(3,), skiprows=0)\n",
      "########## Halo mass must be divided by the Hubble Parameter ###\n",
      "M = M/hpl                                                  #\n",
      "################################################################\n",
      "L_0   = 10.0**(17.94)\n",
      "M_0   = 10.0**(11.25)\n",
      "beta  =  0.8\n",
      "gamma =  0.1424\n",
      "\n",
      "BoxLength = 250\n",
      "\n",
      "seed(None)\n",
      "L   = np.zeros(M.size)\n",
      "L_R = np.zeros(M.size)\n",
      "L[:] = Luminosity( M[:], L_0, M_0, beta, gamma)\n",
      "Magnitude_UV_galaxy_list = 51.82 - 2.5 * np.log10(L[:])\n",
      "\n",
      "### Dust Extinction\n",
      "if (Dust_Ext == 1):\n",
      "    Mag = Magnitude_UV_galaxy_list\n",
      "    Mag[Mag< Mag0] = ( Mag[Mag< Mag0]-4.61455)/1.2587\n",
      "    Magnitude_UV_galaxy_list_R = Mag\n",
      "    \n",
      "### Create Histograms\n",
      "HISTO = []\n",
      "\n",
      "for DS in DataSets:\n",
      "    aux = 1.0 * np.histogram(Magnitude_UV_galaxy_list, bins= DS[1] )[0]\n",
      "    for i in range(len(aux)):\n",
      "         aux[i] = aux[i]/( (DS[1][i+1] - DS[1][i] ) * BoxLength**3)\n",
      "    HISTO.append(aux)\n",
      "    \n",
      "NOB = 0\n",
      "chi_sqr = 0.0\n",
      "\n",
      "for i in range(len(HISTO)):\n",
      "    for j in range(HISTO[i].size):\n",
      "        if( HISTO[i][j] != 0.0 ):\n",
      "            chi_sqr = chi_sqr + 0.5*( log10(HISTO[i][j]/DataSets[i][0][1][j]) / DataSets[i][2][j])**2\n",
      "            NOB = NOB + 1\n",
      "\n",
      "chi_sqr /= abs(NOB-4)\n",
      "    \n",
      "print chi_sqr    \n",
      "    \n",
      "for i in range(len(HISTO)):\n",
      "    aux = array(DataSets[i][0])\n",
      "    plot( aux[0], HISTO[i] )\n",
      "    plot( aux[0], aux[1], \"o\" )\n",
      "yscale(\"log\")"
     ],
     "language": "python",
     "metadata": {},
     "outputs": [
      {
       "output_type": "stream",
       "stream": "stdout",
       "text": [
        "6.45737240577\n"
       ]
      },
      {
       "metadata": {},
       "output_type": "display_data",
       "png": "[encoded data removed]",
       "text": [
        "<matplotlib.figure.Figure at 0x3363bd0>"
       ]
      }
     ],
     "prompt_number": 2
    },
    {
     "cell_type": "code",
     "collapsed": false,
     "input": [
      "\n",
      "       "
     ],
     "language": "python",
     "metadata": {},
     "outputs": [],
     "prompt_number": 2
    },
    {
     "cell_type": "code",
     "collapsed": false,
     "input": [
      "DataSets = [OD1, OD3 ]\n",
      "\n",
      "STR = '../data/MD_3840_Planck1/BDM/Small_Cells/13.dat'\n",
      "M = np.loadtxt(STR,usecols=(3,), skiprows=0)\n",
      "########## Halo mass must be divided by the Hubble Parameter ###\n",
      "M = M/hpl                                                  #\n",
      "################################################################\n",
      "L_0   = 10.0**(17.80)\n",
      "M_0   = 10.0**(11.20)\n",
      "beta  =  0.7\n",
      "gamma =  0.2\n",
      "\n",
      "BoxLength = 250\n",
      "\n",
      "seed(None)\n",
      "L   = np.zeros(M.size)\n",
      "L_R = np.zeros(M.size)\n",
      "L[:] = Luminosity( M[:], L_0, M_0, beta, gamma)\n",
      "Magnitude_UV_galaxy_list = 51.82 - 2.5 * np.log10(L[:])\n",
      "\n",
      "### Dust Extinction\n",
      "if (Dust_Ext == 1):\n",
      "    Mag = Magnitude_UV_galaxy_list\n",
      "    Mag[Mag< Mag0] = ( Mag[Mag< Mag0]-4.61455)/1.2587\n",
      "    Magnitude_UV_galaxy_list_R = Mag\n",
      "    \n",
      "### Create Histograms\n",
      "HISTO = []\n",
      "\n",
      "for DS in DataSets:\n",
      "    aux = 1.0 * np.histogram(Magnitude_UV_galaxy_list, bins= DS[1] )[0]\n",
      "    for i in range(len(aux)):\n",
      "         aux[i] = aux[i]/( (DS[1][i+1] - DS[1][i] ) * BoxLength**3)\n",
      "    HISTO.append(aux)\n",
      "    \n",
      "NOB = 0\n",
      "chi_sqr = 0.0\n",
      "\n",
      "for i in range(len(HISTO)):\n",
      "    for j in range(HISTO[i].size):\n",
      "        if( HISTO[i][j] != 0.0 ):\n",
      "            chi_sqr = chi_sqr + 0.5*( log10(HISTO[i][j]/DataSets[i][0][1][j]) / DataSets[i][2][j])**2\n",
      "            NOB = NOB + 1\n",
      "\n",
      "chi_sqr /= abs(NOB-4)\n",
      "    \n",
      "print chi_sqr    \n",
      "    \n",
      "for i in range(len(HISTO)):\n",
      "    aux = array(DataSets[i][0])\n",
      "    plot( aux[0], HISTO[i],\".\" )\n",
      "    plot( aux[0], aux[1], \"-\", label=DataSets[i][3] )\n",
      "legend()    \n",
      "yscale(\"log\")"
     ],
     "language": "python",
     "metadata": {},
     "outputs": [
      {
       "output_type": "stream",
       "stream": "stdout",
       "text": [
        "0.619350113878\n"
       ]
      },
      {
       "metadata": {},
       "output_type": "display_data",
       "png": "[encoded data removed]",
       "text": [
        "<matplotlib.figure.Figure at 0x335f250>"
       ]
      }
     ],
     "prompt_number": 3
    },
    {
     "cell_type": "code",
     "collapsed": false,
     "input": [],
     "language": "python",
     "metadata": {},
     "outputs": []
    }
   ],
   "metadata": {}
  }
 ]
}